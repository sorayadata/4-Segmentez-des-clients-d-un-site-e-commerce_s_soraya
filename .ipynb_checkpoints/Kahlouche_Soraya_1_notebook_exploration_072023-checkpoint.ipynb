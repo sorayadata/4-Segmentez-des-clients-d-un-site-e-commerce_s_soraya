{
 "cells": [
  {
   "cell_type": "code",
   "execution_count": 24,
   "id": "647b538c",
   "metadata": {},
   "outputs": [
    {
     "name": "stdout",
     "output_type": "stream",
     "text": [
      "Pandas version: 1.4.2\n",
      "Matplotlib version: 3.5.1\n",
      "Seaborn version: 0.11.2\n"
     ]
    }
   ],
   "source": [
    "import sys\n",
    "import pandas as pd\n",
    "import numpy as np\n",
    "import matplotlib\n",
    "import matplotlib.pyplot as plt\n",
    "import seaborn as sns\n",
    "from IPython.display import Image, HTML\n",
    "from sklearn.metrics.pairwise import linear_kernel\n",
    "import tqdm\n",
    "import time\n",
    "from time import strftime, gmtime\n",
    "import sys\n",
    "from pprint import pprint\n",
    "from IPython.display import Markdown\n",
    "\n",
    "# Warnings\n",
    "import warnings\n",
    "from warnings import simplefilter\n",
    "\n",
    "pd.options.mode.chained_assignment = None\n",
    "print(\"Pandas version:\", pd.__version__)\n",
    "print(\"Matplotlib version:\", matplotlib.__version__)\n",
    "print(\"Seaborn version:\", sns.__version__)"
   ]
  },
  {
   "cell_type": "code",
   "execution_count": null,
   "id": "8a6b3546",
   "metadata": {},
   "outputs": [],
   "source": [
    "Load pycodestyle(PEP8) :"
   ]
  },
  {
   "cell_type": "code",
   "execution_count": 1,
   "id": "2ebc623c",
   "metadata": {},
   "outputs": [],
   "source": [
    "\n",
    "%load_ext pycodestyle_magic\n",
    "%pycodestyle_on -- max_line_length 125"
   ]
  },
  {
   "cell_type": "markdown",
   "id": "aa4bab30",
   "metadata": {},
   "source": [
    "La fonction suivante permet d'écrire un titre sous-ligné."
   ]
  },
  {
   "cell_type": "code",
   "execution_count": 25,
   "id": "1bb9bebe",
   "metadata": {},
   "outputs": [],
   "source": [
    "def title(title):\n",
    "    print(\"\")\n",
    "    print(title)\n",
    "    print(len(title) * \"-\")"
   ]
  },
  {
   "cell_type": "code",
   "execution_count": 26,
   "id": "2dd5a93f",
   "metadata": {
    "scrolled": false
   },
   "outputs": [
    {
     "name": "stdout",
     "output_type": "stream",
     "text": [
      "Stored 'df_customers' (DataFrame)\n",
      "Stored 'df_geolocation' (DataFrame)\n",
      "Stored 'df_items' (DataFrame)\n",
      "Stored 'df_payments' (DataFrame)\n",
      "Stored 'df_reviews' (DataFrame)\n",
      "Stored 'df_orders' (DataFrame)\n",
      "Stored 'df_products' (DataFrame)\n",
      "Stored 'df_sellers' (DataFrame)\n",
      "Stored 'df_categoryname' (DataFrame)\n"
     ]
    }
   ],
   "source": [
    "get_data = 0\n",
    "if get_data == 0:\n",
    "    # Import des données à partir des fichiers csv et stockage des dataframes\n",
    "    df_orders = pd.read_csv(\"olist_orders_dataset.csv\")\n",
    "    df_items = pd.read_csv(\"olist_order_items_dataset.csv\")\n",
    "    df_reviews = pd.read_csv(\"olist_order_reviews_dataset.csv\")\n",
    "    df_products = pd.read_csv(\"olist_products_dataset.csv\")\n",
    "    df_payments = pd.read_csv(\"olist_order_payments_dataset.csv\")\n",
    "    df_customers = pd.read_csv(\"olist_customers_dataset.csv\")\n",
    "    df_sellers = pd.read_csv(\"olist_sellers_dataset.csv\")\n",
    "    df_geolocation = pd.read_csv(\"olist_geolocation_dataset.csv\")\n",
    "    df_categoryname = pd.read_csv(\"product_category_name_translation.csv\")\n",
    "    %store df_customers\n",
    "    %store df_geolocation\n",
    "    %store df_items\n",
    "    %store df_payments\n",
    "    %store df_reviews\n",
    "    %store df_orders\n",
    "    %store df_products\n",
    "    %store df_sellers\n",
    "    %store df_categoryname\n",
    "elif get_data == 1:  # On rafraîchit les dataframes depuis le store\n",
    "    %store - r df_customers\n",
    "    %store - r df_geolocation\n",
    "    %store - r df_items\n",
    "    %store - r df_payments\n",
    "    %store - r df_reviews\n",
    "    %store - r df_orders\n",
    "    %store - r df_products\n",
    "    %store - r df_sellers\n",
    "    %store - r df_categoryname"
   ]
  },
  {
   "cell_type": "code",
   "execution_count": 19,
   "id": "58cf4122",
   "metadata": {},
   "outputs": [],
   "source": [
    "list_dataset = []\n",
    "list_shape = []\n",
    "list_variable = []\n",
    "list_duplicates = []\n",
    "list_unique = []\n",
    "list_null = []\n",
    "\n",
    "dic_data_model = {\n",
    "    \"Dataset\": list_dataset,\n",
    "    \"Shape\": list_shape,\n",
    "    \"Variable\": list_variable,\n",
    "    \"Duplicates\": list_duplicates,\n",
    "    \"Unique\": list_unique,\n",
    "    \"Null\": list_null,\n",
    "}\n",
    "\n",
    "\n",
    "def data_model(df, df_name, var, print_=0, n=5):\n",
    "    list_dataset.append(df_name)\n",
    "    list_shape.append(df.shape[0])\n",
    "    list_variable.append(var)\n",
    "    list_duplicates.append(df.duplicated(subset=[var]).sum())\n",
    "    list_unique.append(df[var].unique().shape[0])\n",
    "    list_null.append(df[var].isna().sum().sum())\n",
    "    df_data_model = pd.DataFrame(dic_data_model)\n",
    "    if print_ == 1:\n",
    "        return df_data_model.tail(n)"
   ]
  },
  {
   "cell_type": "code",
   "execution_count": 20,
   "id": "0bf21a42",
   "metadata": {},
   "outputs": [
    {
     "name": "stderr",
     "output_type": "stream",
     "text": [
      "5:80: E501 line too long (88 > 79 characters)\n",
      "6:80: E501 line too long (87 > 79 characters)\n"
     ]
    }
   ],
   "source": [
    "def data_model_2(df1, df2, df1_name, df2_name, left_on_, right_on_):\n",
    "    df1_left = df1.merge(\n",
    "        df2, left_on=left_on_, right_on=right_on_, how=\"left\"\n",
    "    ).sort_values(right_on_)\n",
    "    df1_rows = df1.merge(df2, left_on=left_on_, right_on=right_on_, how=\"left\").shape[0]\n",
    "    df2_rows = df1.merge(df2, left_on=left_on_, right_on=right_on_, how=\"right\").shape[\n",
    "        0\n",
    "    ]\n",
    "    shared_rows = df1.merge(\n",
    "        df2, left_on=left_on_, right_on=right_on_, how=\"inner\"\n",
    "    ).shape[0]\n",
    "    left_rows = df1_rows - shared_rows\n",
    "    right_rows = df2_rows - shared_rows\n",
    "    print(\n",
    "        \"Nombre d'enregistrements du dataset\\\n",
    "        %r non renseignés dans le dataset %r: %r\"\n",
    "        % (df1_name, df2_name, left_rows)\n",
    "    )\n",
    "    print(\n",
    "        \"Nombre d'enregistrements du dataset\\\n",
    "        %r non renseignés dans le dataset %r: %r\"\n",
    "        % (df2_name, df1_name, right_rows)\n",
    "    )"
   ]
  },
  {
   "cell_type": "markdown",
   "id": "1d90211a",
   "metadata": {},
   "source": [
    "# Fusion 1: "
   ]
  },
  {
   "cell_type": "markdown",
   "id": "1f54aecd",
   "metadata": {},
   "source": [
    "# Commandes / Evaluations"
   ]
  },
  {
   "cell_type": "markdown",
   "id": "1724b515",
   "metadata": {},
   "source": [
    "**orders**"
   ]
  },
  {
   "cell_type": "code",
   "execution_count": 6,
   "id": "b8410b08",
   "metadata": {},
   "outputs": [
    {
     "name": "stdout",
     "output_type": "stream",
     "text": [
      "<class 'pandas.core.frame.DataFrame'>\n",
      "RangeIndex: 99441 entries, 0 to 99440\n",
      "Data columns (total 8 columns):\n",
      " #   Column                         Non-Null Count  Dtype \n",
      "---  ------                         --------------  ----- \n",
      " 0   order_id                       99441 non-null  object\n",
      " 1   customer_id                    99441 non-null  object\n",
      " 2   order_status                   99441 non-null  object\n",
      " 3   order_purchase_timestamp       99441 non-null  object\n",
      " 4   order_approved_at              99281 non-null  object\n",
      " 5   order_delivered_carrier_date   97658 non-null  object\n",
      " 6   order_delivered_customer_date  96476 non-null  object\n",
      " 7   order_estimated_delivery_date  99441 non-null  object\n",
      "dtypes: object(8)\n",
      "memory usage: 6.1+ MB\n"
     ]
    }
   ],
   "source": [
    "df_orders.info(verbose=True)"
   ]
  },
  {
   "cell_type": "markdown",
   "id": "4cd2554f",
   "metadata": {},
   "source": [
    "On supprime les variables qui ne nous intéressent pas."
   ]
  },
  {
   "cell_type": "code",
   "execution_count": 7,
   "id": "da6c3742",
   "metadata": {},
   "outputs": [],
   "source": [
    "del df_orders[\"order_status\"]\n",
    "del df_orders[\"order_approved_at\"]\n",
    "del df_orders[\"order_delivered_carrier_date\"]\n",
    "del df_orders[\"order_delivered_customer_date\"]\n",
    "del df_orders[\"order_estimated_delivery_date\"]"
   ]
  },
  {
   "cell_type": "code",
   "execution_count": 8,
   "id": "fa6feaf6",
   "metadata": {},
   "outputs": [
    {
     "data": {
      "text/html": [
       "<div>\n",
       "<style scoped>\n",
       "    .dataframe tbody tr th:only-of-type {\n",
       "        vertical-align: middle;\n",
       "    }\n",
       "\n",
       "    .dataframe tbody tr th {\n",
       "        vertical-align: top;\n",
       "    }\n",
       "\n",
       "    .dataframe thead th {\n",
       "        text-align: right;\n",
       "    }\n",
       "</style>\n",
       "<table border=\"1\" class=\"dataframe\">\n",
       "  <thead>\n",
       "    <tr style=\"text-align: right;\">\n",
       "      <th></th>\n",
       "      <th>Dataset</th>\n",
       "      <th>Shape</th>\n",
       "      <th>Variable</th>\n",
       "      <th>Duplicates</th>\n",
       "      <th>Unique</th>\n",
       "      <th>Null</th>\n",
       "    </tr>\n",
       "  </thead>\n",
       "  <tbody>\n",
       "    <tr>\n",
       "      <th>0</th>\n",
       "      <td>orders</td>\n",
       "      <td>99441</td>\n",
       "      <td>order_id</td>\n",
       "      <td>0</td>\n",
       "      <td>99441</td>\n",
       "      <td>0</td>\n",
       "    </tr>\n",
       "  </tbody>\n",
       "</table>\n",
       "</div>"
      ],
      "text/plain": [
       "  Dataset  Shape  Variable  Duplicates  Unique  Null\n",
       "0  orders  99441  order_id           0   99441     0"
      ]
     },
     "execution_count": 8,
     "metadata": {},
     "output_type": "execute_result"
    }
   ],
   "source": [
    "data_model(df_orders, \"orders\", \"order_id\", 1)"
   ]
  },
  {
   "cell_type": "markdown",
   "id": "1b74f250",
   "metadata": {},
   "source": [
    "**reviews**"
   ]
  },
  {
   "cell_type": "code",
   "execution_count": 9,
   "id": "8f3f7f76",
   "metadata": {},
   "outputs": [
    {
     "name": "stdout",
     "output_type": "stream",
     "text": [
      "<class 'pandas.core.frame.DataFrame'>\n",
      "RangeIndex: 99224 entries, 0 to 99223\n",
      "Data columns (total 7 columns):\n",
      " #   Column                   Non-Null Count  Dtype \n",
      "---  ------                   --------------  ----- \n",
      " 0   review_id                99224 non-null  object\n",
      " 1   order_id                 99224 non-null  object\n",
      " 2   review_score             99224 non-null  int64 \n",
      " 3   review_comment_title     11568 non-null  object\n",
      " 4   review_comment_message   40977 non-null  object\n",
      " 5   review_creation_date     99224 non-null  object\n",
      " 6   review_answer_timestamp  99224 non-null  object\n",
      "dtypes: int64(1), object(6)\n",
      "memory usage: 5.3+ MB\n"
     ]
    }
   ],
   "source": [
    "df_reviews.info(verbose=True)"
   ]
  },
  {
   "cell_type": "code",
   "execution_count": 641,
   "id": "4c53fb08",
   "metadata": {},
   "outputs": [
    {
     "data": {
      "text/html": [
       "<div>\n",
       "<style scoped>\n",
       "    .dataframe tbody tr th:only-of-type {\n",
       "        vertical-align: middle;\n",
       "    }\n",
       "\n",
       "    .dataframe tbody tr th {\n",
       "        vertical-align: top;\n",
       "    }\n",
       "\n",
       "    .dataframe thead th {\n",
       "        text-align: right;\n",
       "    }\n",
       "</style>\n",
       "<table border=\"1\" class=\"dataframe\">\n",
       "  <thead>\n",
       "    <tr style=\"text-align: right;\">\n",
       "      <th></th>\n",
       "      <th>Dataset</th>\n",
       "      <th>Shape</th>\n",
       "      <th>Variable</th>\n",
       "      <th>Duplicates</th>\n",
       "      <th>Unique</th>\n",
       "      <th>Null</th>\n",
       "    </tr>\n",
       "  </thead>\n",
       "  <tbody>\n",
       "    <tr>\n",
       "      <th>0</th>\n",
       "      <td>orders</td>\n",
       "      <td>99441</td>\n",
       "      <td>order_id</td>\n",
       "      <td>0</td>\n",
       "      <td>99441</td>\n",
       "      <td>0</td>\n",
       "    </tr>\n",
       "    <tr>\n",
       "      <th>1</th>\n",
       "      <td>reviews</td>\n",
       "      <td>99224</td>\n",
       "      <td>order_id</td>\n",
       "      <td>551</td>\n",
       "      <td>98673</td>\n",
       "      <td>0</td>\n",
       "    </tr>\n",
       "  </tbody>\n",
       "</table>\n",
       "</div>"
      ],
      "text/plain": [
       "   Dataset  Shape  Variable  Duplicates  Unique  Null\n",
       "0   orders  99441  order_id           0   99441     0\n",
       "1  reviews  99224  order_id         551   98673     0"
      ]
     },
     "execution_count": 641,
     "metadata": {},
     "output_type": "execute_result"
    },
    {
     "data": {
      "application/javascript": [
       "\n",
       "            setTimeout(function() {\n",
       "                var nbb_cell_id = 641;\n",
       "                var nbb_unformatted_code = \"data_model(df_reviews, \\\"reviews\\\", \\\"order_id\\\", 1)\";\n",
       "                var nbb_formatted_code = \"data_model(df_reviews, \\\"reviews\\\", \\\"order_id\\\", 1)\";\n",
       "                var nbb_cells = Jupyter.notebook.get_cells();\n",
       "                for (var i = 0; i < nbb_cells.length; ++i) {\n",
       "                    if (nbb_cells[i].input_prompt_number == nbb_cell_id) {\n",
       "                        if (nbb_cells[i].get_text() == nbb_unformatted_code) {\n",
       "                             nbb_cells[i].set_text(nbb_formatted_code);\n",
       "                        }\n",
       "                        break;\n",
       "                    }\n",
       "                }\n",
       "            }, 500);\n",
       "            "
      ],
      "text/plain": [
       "<IPython.core.display.Javascript object>"
      ]
     },
     "metadata": {},
     "output_type": "display_data"
    }
   ],
   "source": [
    "data_model(df_reviews, \"reviews\", \"order_id\", 1)"
   ]
  },
  {
   "cell_type": "markdown",
   "id": "9efd794a",
   "metadata": {},
   "source": [
    "**orders et reviews**"
   ]
  },
  {
   "cell_type": "markdown",
   "id": "246c0d36",
   "metadata": {},
   "source": [
    "On cherche à associer une note ('review_score') unique à chaque commande."
   ]
  },
  {
   "cell_type": "code",
   "execution_count": 642,
   "id": "775c0037",
   "metadata": {},
   "outputs": [
    {
     "data": {
      "application/javascript": [
       "\n",
       "            setTimeout(function() {\n",
       "                var nbb_cell_id = 642;\n",
       "                var nbb_unformatted_code = \"df_reviews_gr = df_reviews.groupby(\\\"order_id\\\").agg({\\\"review_score\\\": \\\"mean\\\"})\\ndf_reviews_gr = df_reviews_gr.reset_index()\";\n",
       "                var nbb_formatted_code = \"df_reviews_gr = df_reviews.groupby(\\\"order_id\\\").agg({\\\"review_score\\\": \\\"mean\\\"})\\ndf_reviews_gr = df_reviews_gr.reset_index()\";\n",
       "                var nbb_cells = Jupyter.notebook.get_cells();\n",
       "                for (var i = 0; i < nbb_cells.length; ++i) {\n",
       "                    if (nbb_cells[i].input_prompt_number == nbb_cell_id) {\n",
       "                        if (nbb_cells[i].get_text() == nbb_unformatted_code) {\n",
       "                             nbb_cells[i].set_text(nbb_formatted_code);\n",
       "                        }\n",
       "                        break;\n",
       "                    }\n",
       "                }\n",
       "            }, 500);\n",
       "            "
      ],
      "text/plain": [
       "<IPython.core.display.Javascript object>"
      ]
     },
     "metadata": {},
     "output_type": "display_data"
    }
   ],
   "source": [
    "df_reviews_gr = df_reviews.groupby(\"order_id\").agg({\"review_score\": \"mean\"})\n",
    "df_reviews_gr = df_reviews_gr.reset_index()"
   ]
  },
  {
   "cell_type": "code",
   "execution_count": 643,
   "id": "0d715086",
   "metadata": {},
   "outputs": [
    {
     "data": {
      "text/html": [
       "<div>\n",
       "<style scoped>\n",
       "    .dataframe tbody tr th:only-of-type {\n",
       "        vertical-align: middle;\n",
       "    }\n",
       "\n",
       "    .dataframe tbody tr th {\n",
       "        vertical-align: top;\n",
       "    }\n",
       "\n",
       "    .dataframe thead th {\n",
       "        text-align: right;\n",
       "    }\n",
       "</style>\n",
       "<table border=\"1\" class=\"dataframe\">\n",
       "  <thead>\n",
       "    <tr style=\"text-align: right;\">\n",
       "      <th></th>\n",
       "      <th>Dataset</th>\n",
       "      <th>Shape</th>\n",
       "      <th>Variable</th>\n",
       "      <th>Duplicates</th>\n",
       "      <th>Unique</th>\n",
       "      <th>Null</th>\n",
       "    </tr>\n",
       "  </thead>\n",
       "  <tbody>\n",
       "    <tr>\n",
       "      <th>0</th>\n",
       "      <td>orders</td>\n",
       "      <td>99441</td>\n",
       "      <td>order_id</td>\n",
       "      <td>0</td>\n",
       "      <td>99441</td>\n",
       "      <td>0</td>\n",
       "    </tr>\n",
       "    <tr>\n",
       "      <th>1</th>\n",
       "      <td>reviews</td>\n",
       "      <td>99224</td>\n",
       "      <td>order_id</td>\n",
       "      <td>551</td>\n",
       "      <td>98673</td>\n",
       "      <td>0</td>\n",
       "    </tr>\n",
       "    <tr>\n",
       "      <th>2</th>\n",
       "      <td>reviews_gr</td>\n",
       "      <td>98673</td>\n",
       "      <td>order_id</td>\n",
       "      <td>0</td>\n",
       "      <td>98673</td>\n",
       "      <td>0</td>\n",
       "    </tr>\n",
       "  </tbody>\n",
       "</table>\n",
       "</div>"
      ],
      "text/plain": [
       "      Dataset  Shape  Variable  Duplicates  Unique  Null\n",
       "0      orders  99441  order_id           0   99441     0\n",
       "1     reviews  99224  order_id         551   98673     0\n",
       "2  reviews_gr  98673  order_id           0   98673     0"
      ]
     },
     "execution_count": 643,
     "metadata": {},
     "output_type": "execute_result"
    },
    {
     "data": {
      "application/javascript": [
       "\n",
       "            setTimeout(function() {\n",
       "                var nbb_cell_id = 643;\n",
       "                var nbb_unformatted_code = \"data_model(df_reviews_gr, \\\"reviews_gr\\\", \\\"order_id\\\", 1, 3)\";\n",
       "                var nbb_formatted_code = \"data_model(df_reviews_gr, \\\"reviews_gr\\\", \\\"order_id\\\", 1, 3)\";\n",
       "                var nbb_cells = Jupyter.notebook.get_cells();\n",
       "                for (var i = 0; i < nbb_cells.length; ++i) {\n",
       "                    if (nbb_cells[i].input_prompt_number == nbb_cell_id) {\n",
       "                        if (nbb_cells[i].get_text() == nbb_unformatted_code) {\n",
       "                             nbb_cells[i].set_text(nbb_formatted_code);\n",
       "                        }\n",
       "                        break;\n",
       "                    }\n",
       "                }\n",
       "            }, 500);\n",
       "            "
      ],
      "text/plain": [
       "<IPython.core.display.Javascript object>"
      ]
     },
     "metadata": {},
     "output_type": "display_data"
    }
   ],
   "source": [
    "data_model(df_reviews_gr, \"reviews_gr\", \"order_id\", 1, 3)"
   ]
  },
  {
   "cell_type": "markdown",
   "id": "3352b566",
   "metadata": {},
   "source": [
    "**orders et reviews_gr**"
   ]
  },
  {
   "cell_type": "code",
   "execution_count": 724,
   "id": "fccb4396",
   "metadata": {},
   "outputs": [
    {
     "name": "stderr",
     "output_type": "stream",
     "text": [
      "3:2: W291 trailing whitespace\n",
      "INFO:pycodestyle:3:2: W291 trailing whitespace\n"
     ]
    },
    {
     "data": {
      "application/javascript": [
       "\n",
       "            setTimeout(function() {\n",
       "                var nbb_cell_id = 724;\n",
       "                var nbb_unformatted_code = \"data_model_2(\\n    df_reviews_gr, df_orders, \\\"reviews_gr\\\", \\\"orders\\\", \\\"order_id\\\", \\\"order_id\\\"\\n)  \";\n",
       "                var nbb_formatted_code = \"data_model_2(df_reviews_gr, df_orders, \\\"reviews_gr\\\", \\\"orders\\\", \\\"order_id\\\", \\\"order_id\\\")\";\n",
       "                var nbb_cells = Jupyter.notebook.get_cells();\n",
       "                for (var i = 0; i < nbb_cells.length; ++i) {\n",
       "                    if (nbb_cells[i].input_prompt_number == nbb_cell_id) {\n",
       "                        if (nbb_cells[i].get_text() == nbb_unformatted_code) {\n",
       "                             nbb_cells[i].set_text(nbb_formatted_code);\n",
       "                        }\n",
       "                        break;\n",
       "                    }\n",
       "                }\n",
       "            }, 500);\n",
       "            "
      ],
      "text/plain": [
       "<IPython.core.display.Javascript object>"
      ]
     },
     "metadata": {},
     "output_type": "display_data"
    }
   ],
   "source": [
    "data_model_2(df_reviews_gr, df_orders, \"reviews_gr\", \"orders\", \"order_id\", \"order_id\")"
   ]
  },
  {
   "cell_type": "markdown",
   "id": "00fa111c",
   "metadata": {},
   "source": [
    "**Fusion orders / reviews**"
   ]
  },
  {
   "cell_type": "markdown",
   "id": "64902e70",
   "metadata": {},
   "source": [
    "Chaque commande est maintenant relié à 1 et 1 seul enregistrement du dataset *'reviews_gr'*.\n",
    "\n",
    "On fusionne donc les datasets *orders* et *reviews_gr* avec une contrainte de correspondance nécessaire (inner join)."
   ]
  },
  {
   "cell_type": "code",
   "execution_count": 645,
   "id": "e2e4e639",
   "metadata": {},
   "outputs": [
    {
     "data": {
      "application/javascript": [
       "\n",
       "            setTimeout(function() {\n",
       "                var nbb_cell_id = 645;\n",
       "                var nbb_unformatted_code = \"df_orders_reviews = df_orders.merge(\\n    df_reviews_gr, left_on=\\\"order_id\\\", right_on=\\\"order_id\\\", how=\\\"left\\\"\\n)\\ndf_orders_reviews.info()\";\n",
       "                var nbb_formatted_code = \"df_orders_reviews = df_orders.merge(\\n    df_reviews_gr, left_on=\\\"order_id\\\", right_on=\\\"order_id\\\", how=\\\"left\\\"\\n)\\ndf_orders_reviews.info()\";\n",
       "                var nbb_cells = Jupyter.notebook.get_cells();\n",
       "                for (var i = 0; i < nbb_cells.length; ++i) {\n",
       "                    if (nbb_cells[i].input_prompt_number == nbb_cell_id) {\n",
       "                        if (nbb_cells[i].get_text() == nbb_unformatted_code) {\n",
       "                             nbb_cells[i].set_text(nbb_formatted_code);\n",
       "                        }\n",
       "                        break;\n",
       "                    }\n",
       "                }\n",
       "            }, 500);\n",
       "            "
      ],
      "text/plain": [
       "<IPython.core.display.Javascript object>"
      ]
     },
     "metadata": {},
     "output_type": "display_data"
    }
   ],
   "source": [
    "df_orders_reviews = df_orders.merge(\n",
    "    df_reviews_gr, left_on=\"order_id\", right_on=\"order_id\", how=\"left\"\n",
    ")\n",
    "df_orders_reviews.info()"
   ]
  },
  {
   "cell_type": "code",
   "execution_count": 646,
   "id": "16ac15e0",
   "metadata": {},
   "outputs": [
    {
     "data": {
      "application/javascript": [
       "\n",
       "            setTimeout(function() {\n",
       "                var nbb_cell_id = 646;\n",
       "                var nbb_unformatted_code = \"print(\\\"Dimensions df_orders_reviews\\\", df_orders_reviews.shape)\";\n",
       "                var nbb_formatted_code = \"print(\\\"Dimensions df_orders_reviews\\\", df_orders_reviews.shape)\";\n",
       "                var nbb_cells = Jupyter.notebook.get_cells();\n",
       "                for (var i = 0; i < nbb_cells.length; ++i) {\n",
       "                    if (nbb_cells[i].input_prompt_number == nbb_cell_id) {\n",
       "                        if (nbb_cells[i].get_text() == nbb_unformatted_code) {\n",
       "                             nbb_cells[i].set_text(nbb_formatted_code);\n",
       "                        }\n",
       "                        break;\n",
       "                    }\n",
       "                }\n",
       "            }, 500);\n",
       "            "
      ],
      "text/plain": [
       "<IPython.core.display.Javascript object>"
      ]
     },
     "metadata": {},
     "output_type": "display_data"
    }
   ],
   "source": [
    "print(\"Dimensions df_orders_reviews\", df_orders_reviews.shape)"
   ]
  },
  {
   "cell_type": "markdown",
   "id": "25d147fb",
   "metadata": {},
   "source": [
    "# Clients / Geolocalisation"
   ]
  },
  {
   "cell_type": "markdown",
   "id": "b122f474",
   "metadata": {},
   "source": [
    "**Geolocation**"
   ]
  },
  {
   "cell_type": "code",
   "execution_count": 647,
   "id": "9724081d",
   "metadata": {},
   "outputs": [
    {
     "data": {
      "application/javascript": [
       "\n",
       "            setTimeout(function() {\n",
       "                var nbb_cell_id = 647;\n",
       "                var nbb_unformatted_code = \"df_geolocation.info()\";\n",
       "                var nbb_formatted_code = \"df_geolocation.info()\";\n",
       "                var nbb_cells = Jupyter.notebook.get_cells();\n",
       "                for (var i = 0; i < nbb_cells.length; ++i) {\n",
       "                    if (nbb_cells[i].input_prompt_number == nbb_cell_id) {\n",
       "                        if (nbb_cells[i].get_text() == nbb_unformatted_code) {\n",
       "                             nbb_cells[i].set_text(nbb_formatted_code);\n",
       "                        }\n",
       "                        break;\n",
       "                    }\n",
       "                }\n",
       "            }, 500);\n",
       "            "
      ],
      "text/plain": [
       "<IPython.core.display.Javascript object>"
      ]
     },
     "metadata": {},
     "output_type": "display_data"
    }
   ],
   "source": [
    "df_geolocation.info()"
   ]
  },
  {
   "cell_type": "code",
   "execution_count": 648,
   "id": "9778a6f1",
   "metadata": {},
   "outputs": [
    {
     "data": {
      "text/html": [
       "<div>\n",
       "<style scoped>\n",
       "    .dataframe tbody tr th:only-of-type {\n",
       "        vertical-align: middle;\n",
       "    }\n",
       "\n",
       "    .dataframe tbody tr th {\n",
       "        vertical-align: top;\n",
       "    }\n",
       "\n",
       "    .dataframe thead th {\n",
       "        text-align: right;\n",
       "    }\n",
       "</style>\n",
       "<table border=\"1\" class=\"dataframe\">\n",
       "  <thead>\n",
       "    <tr style=\"text-align: right;\">\n",
       "      <th></th>\n",
       "      <th>Dataset</th>\n",
       "      <th>Shape</th>\n",
       "      <th>Variable</th>\n",
       "      <th>Duplicates</th>\n",
       "      <th>Unique</th>\n",
       "      <th>Null</th>\n",
       "    </tr>\n",
       "  </thead>\n",
       "  <tbody>\n",
       "    <tr>\n",
       "      <th>3</th>\n",
       "      <td>geolocation</td>\n",
       "      <td>1000163</td>\n",
       "      <td>geolocation_zip_code_prefix</td>\n",
       "      <td>981148</td>\n",
       "      <td>19015</td>\n",
       "      <td>0</td>\n",
       "    </tr>\n",
       "  </tbody>\n",
       "</table>\n",
       "</div>"
      ],
      "text/plain": [
       "       Dataset    Shape                     Variable  Duplicates  Unique  Null\n",
       "3  geolocation  1000163  geolocation_zip_code_prefix      981148   19015     0"
      ]
     },
     "execution_count": 648,
     "metadata": {},
     "output_type": "execute_result"
    },
    {
     "data": {
      "application/javascript": [
       "\n",
       "            setTimeout(function() {\n",
       "                var nbb_cell_id = 648;\n",
       "                var nbb_unformatted_code = \"data_model(df_geolocation, \\\"geolocation\\\", \\\"geolocation_zip_code_prefix\\\", 1, 1)\";\n",
       "                var nbb_formatted_code = \"data_model(df_geolocation, \\\"geolocation\\\", \\\"geolocation_zip_code_prefix\\\", 1, 1)\";\n",
       "                var nbb_cells = Jupyter.notebook.get_cells();\n",
       "                for (var i = 0; i < nbb_cells.length; ++i) {\n",
       "                    if (nbb_cells[i].input_prompt_number == nbb_cell_id) {\n",
       "                        if (nbb_cells[i].get_text() == nbb_unformatted_code) {\n",
       "                             nbb_cells[i].set_text(nbb_formatted_code);\n",
       "                        }\n",
       "                        break;\n",
       "                    }\n",
       "                }\n",
       "            }, 500);\n",
       "            "
      ],
      "text/plain": [
       "<IPython.core.display.Javascript object>"
      ]
     },
     "metadata": {},
     "output_type": "display_data"
    }
   ],
   "source": [
    "data_model(df_geolocation, \"geolocation\", \"geolocation_zip_code_prefix\", 1, 1)"
   ]
  },
  {
   "cell_type": "markdown",
   "id": "8918ea97",
   "metadata": {},
   "source": [
    "On regroupe alors les enregistrements sur la variable 'geolocation_zip_code_prefix' et on réalise la moyenne des coordonnées géographiques."
   ]
  },
  {
   "cell_type": "code",
   "execution_count": 649,
   "id": "56a954c3",
   "metadata": {},
   "outputs": [
    {
     "data": {
      "application/javascript": [
       "\n",
       "            setTimeout(function() {\n",
       "                var nbb_cell_id = 649;\n",
       "                var nbb_unformatted_code = \"df_geolocation_gr_0 = (\\n    df_geolocation.groupby(\\\"geolocation_zip_code_prefix\\\")\\n    .agg(\\n        {\\n            \\\"geolocation_lat\\\": \\\"mean\\\",\\n            \\\"geolocation_lng\\\": \\\"mean\\\",\\n            \\\"geolocation_city\\\": \\\"first\\\",\\n            \\\"geolocation_state\\\": \\\"first\\\",\\n        }\\n    )\\n    .reset_index()\\n)\";\n",
       "                var nbb_formatted_code = \"df_geolocation_gr_0 = (\\n    df_geolocation.groupby(\\\"geolocation_zip_code_prefix\\\")\\n    .agg(\\n        {\\n            \\\"geolocation_lat\\\": \\\"mean\\\",\\n            \\\"geolocation_lng\\\": \\\"mean\\\",\\n            \\\"geolocation_city\\\": \\\"first\\\",\\n            \\\"geolocation_state\\\": \\\"first\\\",\\n        }\\n    )\\n    .reset_index()\\n)\";\n",
       "                var nbb_cells = Jupyter.notebook.get_cells();\n",
       "                for (var i = 0; i < nbb_cells.length; ++i) {\n",
       "                    if (nbb_cells[i].input_prompt_number == nbb_cell_id) {\n",
       "                        if (nbb_cells[i].get_text() == nbb_unformatted_code) {\n",
       "                             nbb_cells[i].set_text(nbb_formatted_code);\n",
       "                        }\n",
       "                        break;\n",
       "                    }\n",
       "                }\n",
       "            }, 500);\n",
       "            "
      ],
      "text/plain": [
       "<IPython.core.display.Javascript object>"
      ]
     },
     "metadata": {},
     "output_type": "display_data"
    }
   ],
   "source": [
    "df_geolocation_gr_0 = (\n",
    "    df_geolocation.groupby(\"geolocation_zip_code_prefix\")\n",
    "    .agg(\n",
    "        {\n",
    "            \"geolocation_lat\": \"mean\",\n",
    "            \"geolocation_lng\": \"mean\",\n",
    "            \"geolocation_city\": \"first\",\n",
    "            \"geolocation_state\": \"first\",\n",
    "        }\n",
    "    )\n",
    "    .reset_index()\n",
    ")"
   ]
  },
  {
   "cell_type": "code",
   "execution_count": 650,
   "id": "3c19f893",
   "metadata": {},
   "outputs": [
    {
     "data": {
      "text/html": [
       "<div>\n",
       "<style scoped>\n",
       "    .dataframe tbody tr th:only-of-type {\n",
       "        vertical-align: middle;\n",
       "    }\n",
       "\n",
       "    .dataframe tbody tr th {\n",
       "        vertical-align: top;\n",
       "    }\n",
       "\n",
       "    .dataframe thead th {\n",
       "        text-align: right;\n",
       "    }\n",
       "</style>\n",
       "<table border=\"1\" class=\"dataframe\">\n",
       "  <thead>\n",
       "    <tr style=\"text-align: right;\">\n",
       "      <th></th>\n",
       "      <th>Dataset</th>\n",
       "      <th>Shape</th>\n",
       "      <th>Variable</th>\n",
       "      <th>Duplicates</th>\n",
       "      <th>Unique</th>\n",
       "      <th>Null</th>\n",
       "    </tr>\n",
       "  </thead>\n",
       "  <tbody>\n",
       "    <tr>\n",
       "      <th>3</th>\n",
       "      <td>geolocation</td>\n",
       "      <td>1000163</td>\n",
       "      <td>geolocation_zip_code_prefix</td>\n",
       "      <td>981148</td>\n",
       "      <td>19015</td>\n",
       "      <td>0</td>\n",
       "    </tr>\n",
       "    <tr>\n",
       "      <th>4</th>\n",
       "      <td>geolocation_gr_0</td>\n",
       "      <td>19015</td>\n",
       "      <td>geolocation_zip_code_prefix</td>\n",
       "      <td>0</td>\n",
       "      <td>19015</td>\n",
       "      <td>0</td>\n",
       "    </tr>\n",
       "  </tbody>\n",
       "</table>\n",
       "</div>"
      ],
      "text/plain": [
       "            Dataset    Shape                     Variable  Duplicates  Unique  \\\n",
       "3       geolocation  1000163  geolocation_zip_code_prefix      981148   19015   \n",
       "4  geolocation_gr_0    19015  geolocation_zip_code_prefix           0   19015   \n",
       "\n",
       "   Null  \n",
       "3     0  \n",
       "4     0  "
      ]
     },
     "execution_count": 650,
     "metadata": {},
     "output_type": "execute_result"
    },
    {
     "name": "stderr",
     "output_type": "stream",
     "text": [
      "1:80: E501 line too long (88 > 79 characters)\n",
      "INFO:pycodestyle:1:80: E501 line too long (88 > 79 characters)\n"
     ]
    },
    {
     "data": {
      "application/javascript": [
       "\n",
       "            setTimeout(function() {\n",
       "                var nbb_cell_id = 650;\n",
       "                var nbb_unformatted_code = \"data_model(df_geolocation_gr_0, \\\"geolocation_gr_0\\\", \\\"geolocation_zip_code_prefix\\\", 1, 2)\";\n",
       "                var nbb_formatted_code = \"data_model(df_geolocation_gr_0, \\\"geolocation_gr_0\\\", \\\"geolocation_zip_code_prefix\\\", 1, 2)\";\n",
       "                var nbb_cells = Jupyter.notebook.get_cells();\n",
       "                for (var i = 0; i < nbb_cells.length; ++i) {\n",
       "                    if (nbb_cells[i].input_prompt_number == nbb_cell_id) {\n",
       "                        if (nbb_cells[i].get_text() == nbb_unformatted_code) {\n",
       "                             nbb_cells[i].set_text(nbb_formatted_code);\n",
       "                        }\n",
       "                        break;\n",
       "                    }\n",
       "                }\n",
       "            }, 500);\n",
       "            "
      ],
      "text/plain": [
       "<IPython.core.display.Javascript object>"
      ]
     },
     "metadata": {},
     "output_type": "display_data"
    }
   ],
   "source": [
    "data_model(df_geolocation_gr_0, \"geolocation_gr_0\", \"geolocation_zip_code_prefix\", 1, 2)"
   ]
  },
  {
   "cell_type": "markdown",
   "id": "79e8627a",
   "metadata": {},
   "source": [
    "**customers**"
   ]
  },
  {
   "cell_type": "code",
   "execution_count": 651,
   "id": "c50e918c",
   "metadata": {},
   "outputs": [
    {
     "data": {
      "application/javascript": [
       "\n",
       "            setTimeout(function() {\n",
       "                var nbb_cell_id = 651;\n",
       "                var nbb_unformatted_code = \"df_customers.info()\";\n",
       "                var nbb_formatted_code = \"df_customers.info()\";\n",
       "                var nbb_cells = Jupyter.notebook.get_cells();\n",
       "                for (var i = 0; i < nbb_cells.length; ++i) {\n",
       "                    if (nbb_cells[i].input_prompt_number == nbb_cell_id) {\n",
       "                        if (nbb_cells[i].get_text() == nbb_unformatted_code) {\n",
       "                             nbb_cells[i].set_text(nbb_formatted_code);\n",
       "                        }\n",
       "                        break;\n",
       "                    }\n",
       "                }\n",
       "            }, 500);\n",
       "            "
      ],
      "text/plain": [
       "<IPython.core.display.Javascript object>"
      ]
     },
     "metadata": {},
     "output_type": "display_data"
    }
   ],
   "source": [
    "df_customers.info()"
   ]
  },
  {
   "cell_type": "markdown",
   "id": "ef58b722",
   "metadata": {},
   "source": [
    "Les enregistrements du dataset *customers* sont reliés au dataset *geolocation_gr_0* par les variables 'customer_zip_code_prefix' et 'geolocation_zip_code_prefix'."
   ]
  },
  {
   "cell_type": "code",
   "execution_count": 652,
   "id": "e990e22a",
   "metadata": {},
   "outputs": [
    {
     "data": {
      "application/javascript": [
       "\n",
       "            setTimeout(function() {\n",
       "                var nbb_cell_id = 652;\n",
       "                var nbb_unformatted_code = \"del df_customers[\\\"customer_city\\\"]\\ndel df_customers[\\\"customer_state\\\"]\";\n",
       "                var nbb_formatted_code = \"del df_customers[\\\"customer_city\\\"]\\ndel df_customers[\\\"customer_state\\\"]\";\n",
       "                var nbb_cells = Jupyter.notebook.get_cells();\n",
       "                for (var i = 0; i < nbb_cells.length; ++i) {\n",
       "                    if (nbb_cells[i].input_prompt_number == nbb_cell_id) {\n",
       "                        if (nbb_cells[i].get_text() == nbb_unformatted_code) {\n",
       "                             nbb_cells[i].set_text(nbb_formatted_code);\n",
       "                        }\n",
       "                        break;\n",
       "                    }\n",
       "                }\n",
       "            }, 500);\n",
       "            "
      ],
      "text/plain": [
       "<IPython.core.display.Javascript object>"
      ]
     },
     "metadata": {},
     "output_type": "display_data"
    }
   ],
   "source": [
    "del df_customers[\"customer_city\"]\n",
    "del df_customers[\"customer_state\"]"
   ]
  },
  {
   "cell_type": "code",
   "execution_count": 653,
   "id": "3c197da1",
   "metadata": {},
   "outputs": [
    {
     "data": {
      "text/html": [
       "<div>\n",
       "<style scoped>\n",
       "    .dataframe tbody tr th:only-of-type {\n",
       "        vertical-align: middle;\n",
       "    }\n",
       "\n",
       "    .dataframe tbody tr th {\n",
       "        vertical-align: top;\n",
       "    }\n",
       "\n",
       "    .dataframe thead th {\n",
       "        text-align: right;\n",
       "    }\n",
       "</style>\n",
       "<table border=\"1\" class=\"dataframe\">\n",
       "  <thead>\n",
       "    <tr style=\"text-align: right;\">\n",
       "      <th></th>\n",
       "      <th>Dataset</th>\n",
       "      <th>Shape</th>\n",
       "      <th>Variable</th>\n",
       "      <th>Duplicates</th>\n",
       "      <th>Unique</th>\n",
       "      <th>Null</th>\n",
       "    </tr>\n",
       "  </thead>\n",
       "  <tbody>\n",
       "    <tr>\n",
       "      <th>4</th>\n",
       "      <td>geolocation_gr_0</td>\n",
       "      <td>19015</td>\n",
       "      <td>geolocation_zip_code_prefix</td>\n",
       "      <td>0</td>\n",
       "      <td>19015</td>\n",
       "      <td>0</td>\n",
       "    </tr>\n",
       "    <tr>\n",
       "      <th>5</th>\n",
       "      <td>customers</td>\n",
       "      <td>99441</td>\n",
       "      <td>customer_zip_code_prefix</td>\n",
       "      <td>84447</td>\n",
       "      <td>14994</td>\n",
       "      <td>0</td>\n",
       "    </tr>\n",
       "  </tbody>\n",
       "</table>\n",
       "</div>"
      ],
      "text/plain": [
       "            Dataset  Shape                     Variable  Duplicates  Unique  \\\n",
       "4  geolocation_gr_0  19015  geolocation_zip_code_prefix           0   19015   \n",
       "5         customers  99441     customer_zip_code_prefix       84447   14994   \n",
       "\n",
       "   Null  \n",
       "4     0  \n",
       "5     0  "
      ]
     },
     "execution_count": 653,
     "metadata": {},
     "output_type": "execute_result"
    },
    {
     "data": {
      "application/javascript": [
       "\n",
       "            setTimeout(function() {\n",
       "                var nbb_cell_id = 653;\n",
       "                var nbb_unformatted_code = \"data_model(df_customers, \\\"customers\\\", \\\"customer_zip_code_prefix\\\", 1, 2)\";\n",
       "                var nbb_formatted_code = \"data_model(df_customers, \\\"customers\\\", \\\"customer_zip_code_prefix\\\", 1, 2)\";\n",
       "                var nbb_cells = Jupyter.notebook.get_cells();\n",
       "                for (var i = 0; i < nbb_cells.length; ++i) {\n",
       "                    if (nbb_cells[i].input_prompt_number == nbb_cell_id) {\n",
       "                        if (nbb_cells[i].get_text() == nbb_unformatted_code) {\n",
       "                             nbb_cells[i].set_text(nbb_formatted_code);\n",
       "                        }\n",
       "                        break;\n",
       "                    }\n",
       "                }\n",
       "            }, 500);\n",
       "            "
      ],
      "text/plain": [
       "<IPython.core.display.Javascript object>"
      ]
     },
     "metadata": {},
     "output_type": "display_data"
    }
   ],
   "source": [
    "data_model(df_customers, \"customers\", \"customer_zip_code_prefix\", 1, 2)"
   ]
  },
  {
   "cell_type": "markdown",
   "id": "69e4d3db",
   "metadata": {},
   "source": [
    "**customers et geolocation_gr_0**"
   ]
  },
  {
   "cell_type": "code",
   "execution_count": 654,
   "id": "37cdc13e",
   "metadata": {},
   "outputs": [
    {
     "data": {
      "application/javascript": [
       "\n",
       "            setTimeout(function() {\n",
       "                var nbb_cell_id = 654;\n",
       "                var nbb_unformatted_code = \"data_model_2(\\n    df_customers,\\n    df_geolocation_gr_0,\\n    \\\"customers\\\",\\n    \\\"geolocation_gr_0\\\",\\n    \\\"customer_zip_code_prefix\\\",\\n    \\\"geolocation_zip_code_prefix\\\",\\n)\";\n",
       "                var nbb_formatted_code = \"data_model_2(\\n    df_customers,\\n    df_geolocation_gr_0,\\n    \\\"customers\\\",\\n    \\\"geolocation_gr_0\\\",\\n    \\\"customer_zip_code_prefix\\\",\\n    \\\"geolocation_zip_code_prefix\\\",\\n)\";\n",
       "                var nbb_cells = Jupyter.notebook.get_cells();\n",
       "                for (var i = 0; i < nbb_cells.length; ++i) {\n",
       "                    if (nbb_cells[i].input_prompt_number == nbb_cell_id) {\n",
       "                        if (nbb_cells[i].get_text() == nbb_unformatted_code) {\n",
       "                             nbb_cells[i].set_text(nbb_formatted_code);\n",
       "                        }\n",
       "                        break;\n",
       "                    }\n",
       "                }\n",
       "            }, 500);\n",
       "            "
      ],
      "text/plain": [
       "<IPython.core.display.Javascript object>"
      ]
     },
     "metadata": {},
     "output_type": "display_data"
    }
   ],
   "source": [
    "data_model_2(\n",
    "    df_customers,\n",
    "    df_geolocation_gr_0,\n",
    "    \"customers\",\n",
    "    \"geolocation_gr_0\",\n",
    "    \"customer_zip_code_prefix\",\n",
    "    \"geolocation_zip_code_prefix\",\n",
    ")"
   ]
  },
  {
   "cell_type": "markdown",
   "id": "a9ee33bf",
   "metadata": {},
   "source": [
    "**Fusion customers / geolocation_gr_0**"
   ]
  },
  {
   "cell_type": "markdown",
   "id": "5ac6bb39",
   "metadata": {},
   "source": [
    "Les références client n'ont pas toutes de correspondance dans le dataset *geolocation_gr_0*."
   ]
  },
  {
   "cell_type": "markdown",
   "id": "17d890ec",
   "metadata": {},
   "source": [
    "On fusionne donc les datasets *customers* et *geolocation_gr_0* avec une contrainte de correspondance facultative sur *geolocation_gr_0* (left join)."
   ]
  },
  {
   "cell_type": "code",
   "execution_count": 655,
   "id": "af292e3b",
   "metadata": {},
   "outputs": [
    {
     "data": {
      "application/javascript": [
       "\n",
       "            setTimeout(function() {\n",
       "                var nbb_cell_id = 655;\n",
       "                var nbb_unformatted_code = \"df_customers_geolocation = df_customers.merge(\\n    df_geolocation_gr_0,\\n    left_on=\\\"customer_zip_code_prefix\\\",\\n    right_on=\\\"geolocation_zip_code_prefix\\\",\\n    how=\\\"left\\\",\\n)\";\n",
       "                var nbb_formatted_code = \"df_customers_geolocation = df_customers.merge(\\n    df_geolocation_gr_0,\\n    left_on=\\\"customer_zip_code_prefix\\\",\\n    right_on=\\\"geolocation_zip_code_prefix\\\",\\n    how=\\\"left\\\",\\n)\";\n",
       "                var nbb_cells = Jupyter.notebook.get_cells();\n",
       "                for (var i = 0; i < nbb_cells.length; ++i) {\n",
       "                    if (nbb_cells[i].input_prompt_number == nbb_cell_id) {\n",
       "                        if (nbb_cells[i].get_text() == nbb_unformatted_code) {\n",
       "                             nbb_cells[i].set_text(nbb_formatted_code);\n",
       "                        }\n",
       "                        break;\n",
       "                    }\n",
       "                }\n",
       "            }, 500);\n",
       "            "
      ],
      "text/plain": [
       "<IPython.core.display.Javascript object>"
      ]
     },
     "metadata": {},
     "output_type": "display_data"
    }
   ],
   "source": [
    "df_customers_geolocation = df_customers.merge(\n",
    "    df_geolocation_gr_0,\n",
    "    left_on=\"customer_zip_code_prefix\",\n",
    "    right_on=\"geolocation_zip_code_prefix\",\n",
    "    how=\"left\",\n",
    ")"
   ]
  },
  {
   "cell_type": "code",
   "execution_count": 656,
   "id": "c27f7089",
   "metadata": {},
   "outputs": [
    {
     "data": {
      "text/html": [
       "<div>\n",
       "<style scoped>\n",
       "    .dataframe tbody tr th:only-of-type {\n",
       "        vertical-align: middle;\n",
       "    }\n",
       "\n",
       "    .dataframe tbody tr th {\n",
       "        vertical-align: top;\n",
       "    }\n",
       "\n",
       "    .dataframe thead th {\n",
       "        text-align: right;\n",
       "    }\n",
       "</style>\n",
       "<table border=\"1\" class=\"dataframe\">\n",
       "  <thead>\n",
       "    <tr style=\"text-align: right;\">\n",
       "      <th></th>\n",
       "      <th>customer_id</th>\n",
       "      <th>customer_unique_id</th>\n",
       "      <th>customer_zip_code_prefix</th>\n",
       "      <th>geolocation_zip_code_prefix</th>\n",
       "      <th>geolocation_lat</th>\n",
       "      <th>geolocation_lng</th>\n",
       "      <th>geolocation_city</th>\n",
       "      <th>geolocation_state</th>\n",
       "    </tr>\n",
       "  </thead>\n",
       "  <tbody>\n",
       "    <tr>\n",
       "      <th>0</th>\n",
       "      <td>06b8999e2fba1a1fbc88172c00ba8bc7</td>\n",
       "      <td>861eff4711a542e4b93843c6dd7febb0</td>\n",
       "      <td>14409</td>\n",
       "      <td>14409.0</td>\n",
       "      <td>-20.498489</td>\n",
       "      <td>-47.396929</td>\n",
       "      <td>franca</td>\n",
       "      <td>SP</td>\n",
       "    </tr>\n",
       "    <tr>\n",
       "      <th>1</th>\n",
       "      <td>18955e83d337fd6b2def6b18a428ac77</td>\n",
       "      <td>290c77bc529b7ac935b93aa66c333dc3</td>\n",
       "      <td>9790</td>\n",
       "      <td>9790.0</td>\n",
       "      <td>-23.727992</td>\n",
       "      <td>-46.542848</td>\n",
       "      <td>sao bernardo do campo</td>\n",
       "      <td>SP</td>\n",
       "    </tr>\n",
       "    <tr>\n",
       "      <th>2</th>\n",
       "      <td>4e7b3e00288586ebd08712fdd0374a03</td>\n",
       "      <td>060e732b5b29e8181a18229c7b0b2b5e</td>\n",
       "      <td>1151</td>\n",
       "      <td>1151.0</td>\n",
       "      <td>-23.531642</td>\n",
       "      <td>-46.656289</td>\n",
       "      <td>sao paulo</td>\n",
       "      <td>SP</td>\n",
       "    </tr>\n",
       "    <tr>\n",
       "      <th>3</th>\n",
       "      <td>b2b6027bc5c5109e529d4dc6358b12c3</td>\n",
       "      <td>259dac757896d24d7702b9acbbff3f3c</td>\n",
       "      <td>8775</td>\n",
       "      <td>8775.0</td>\n",
       "      <td>-23.499702</td>\n",
       "      <td>-46.185233</td>\n",
       "      <td>mogi das cruzes</td>\n",
       "      <td>SP</td>\n",
       "    </tr>\n",
       "    <tr>\n",
       "      <th>4</th>\n",
       "      <td>4f2d8ab171c80ec8364f7c12e35b23ad</td>\n",
       "      <td>345ecd01c38d18a9036ed96c73b8d066</td>\n",
       "      <td>13056</td>\n",
       "      <td>13056.0</td>\n",
       "      <td>-22.975100</td>\n",
       "      <td>-47.142925</td>\n",
       "      <td>campinas</td>\n",
       "      <td>SP</td>\n",
       "    </tr>\n",
       "    <tr>\n",
       "      <th>...</th>\n",
       "      <td>...</td>\n",
       "      <td>...</td>\n",
       "      <td>...</td>\n",
       "      <td>...</td>\n",
       "      <td>...</td>\n",
       "      <td>...</td>\n",
       "      <td>...</td>\n",
       "      <td>...</td>\n",
       "    </tr>\n",
       "    <tr>\n",
       "      <th>99436</th>\n",
       "      <td>17ddf5dd5d51696bb3d7c6291687be6f</td>\n",
       "      <td>1a29b476fee25c95fbafc67c5ac95cf8</td>\n",
       "      <td>3937</td>\n",
       "      <td>3937.0</td>\n",
       "      <td>-23.586003</td>\n",
       "      <td>-46.499638</td>\n",
       "      <td>são paulo</td>\n",
       "      <td>SP</td>\n",
       "    </tr>\n",
       "    <tr>\n",
       "      <th>99437</th>\n",
       "      <td>e7b71a9017aa05c9a7fd292d714858e8</td>\n",
       "      <td>d52a67c98be1cf6a5c84435bd38d095d</td>\n",
       "      <td>6764</td>\n",
       "      <td>6764.0</td>\n",
       "      <td>-23.615830</td>\n",
       "      <td>-46.768533</td>\n",
       "      <td>taboao da serra</td>\n",
       "      <td>SP</td>\n",
       "    </tr>\n",
       "    <tr>\n",
       "      <th>99438</th>\n",
       "      <td>5e28dfe12db7fb50a4b2f691faecea5e</td>\n",
       "      <td>e9f50caf99f032f0bf3c55141f019d99</td>\n",
       "      <td>60115</td>\n",
       "      <td>60115.0</td>\n",
       "      <td>-3.734569</td>\n",
       "      <td>-38.510534</td>\n",
       "      <td>fortaleza</td>\n",
       "      <td>CE</td>\n",
       "    </tr>\n",
       "    <tr>\n",
       "      <th>99439</th>\n",
       "      <td>56b18e2166679b8a959d72dd06da27f9</td>\n",
       "      <td>73c2643a0a458b49f58cea58833b192e</td>\n",
       "      <td>92120</td>\n",
       "      <td>92120.0</td>\n",
       "      <td>-29.949839</td>\n",
       "      <td>-51.168494</td>\n",
       "      <td>canoas</td>\n",
       "      <td>RS</td>\n",
       "    </tr>\n",
       "    <tr>\n",
       "      <th>99440</th>\n",
       "      <td>274fa6071e5e17fe303b9748641082c8</td>\n",
       "      <td>84732c5050c01db9b23e19ba39899398</td>\n",
       "      <td>6703</td>\n",
       "      <td>6703.0</td>\n",
       "      <td>-23.596732</td>\n",
       "      <td>-46.911994</td>\n",
       "      <td>cotia</td>\n",
       "      <td>SP</td>\n",
       "    </tr>\n",
       "  </tbody>\n",
       "</table>\n",
       "<p>99441 rows × 8 columns</p>\n",
       "</div>"
      ],
      "text/plain": [
       "                            customer_id                customer_unique_id  \\\n",
       "0      06b8999e2fba1a1fbc88172c00ba8bc7  861eff4711a542e4b93843c6dd7febb0   \n",
       "1      18955e83d337fd6b2def6b18a428ac77  290c77bc529b7ac935b93aa66c333dc3   \n",
       "2      4e7b3e00288586ebd08712fdd0374a03  060e732b5b29e8181a18229c7b0b2b5e   \n",
       "3      b2b6027bc5c5109e529d4dc6358b12c3  259dac757896d24d7702b9acbbff3f3c   \n",
       "4      4f2d8ab171c80ec8364f7c12e35b23ad  345ecd01c38d18a9036ed96c73b8d066   \n",
       "...                                 ...                               ...   \n",
       "99436  17ddf5dd5d51696bb3d7c6291687be6f  1a29b476fee25c95fbafc67c5ac95cf8   \n",
       "99437  e7b71a9017aa05c9a7fd292d714858e8  d52a67c98be1cf6a5c84435bd38d095d   \n",
       "99438  5e28dfe12db7fb50a4b2f691faecea5e  e9f50caf99f032f0bf3c55141f019d99   \n",
       "99439  56b18e2166679b8a959d72dd06da27f9  73c2643a0a458b49f58cea58833b192e   \n",
       "99440  274fa6071e5e17fe303b9748641082c8  84732c5050c01db9b23e19ba39899398   \n",
       "\n",
       "       customer_zip_code_prefix  geolocation_zip_code_prefix  geolocation_lat  \\\n",
       "0                         14409                      14409.0       -20.498489   \n",
       "1                          9790                       9790.0       -23.727992   \n",
       "2                          1151                       1151.0       -23.531642   \n",
       "3                          8775                       8775.0       -23.499702   \n",
       "4                         13056                      13056.0       -22.975100   \n",
       "...                         ...                          ...              ...   \n",
       "99436                      3937                       3937.0       -23.586003   \n",
       "99437                      6764                       6764.0       -23.615830   \n",
       "99438                     60115                      60115.0        -3.734569   \n",
       "99439                     92120                      92120.0       -29.949839   \n",
       "99440                      6703                       6703.0       -23.596732   \n",
       "\n",
       "       geolocation_lng       geolocation_city geolocation_state  \n",
       "0           -47.396929                 franca                SP  \n",
       "1           -46.542848  sao bernardo do campo                SP  \n",
       "2           -46.656289              sao paulo                SP  \n",
       "3           -46.185233        mogi das cruzes                SP  \n",
       "4           -47.142925               campinas                SP  \n",
       "...                ...                    ...               ...  \n",
       "99436       -46.499638              são paulo                SP  \n",
       "99437       -46.768533        taboao da serra                SP  \n",
       "99438       -38.510534              fortaleza                CE  \n",
       "99439       -51.168494                 canoas                RS  \n",
       "99440       -46.911994                  cotia                SP  \n",
       "\n",
       "[99441 rows x 8 columns]"
      ]
     },
     "execution_count": 656,
     "metadata": {},
     "output_type": "execute_result"
    },
    {
     "data": {
      "application/javascript": [
       "\n",
       "            setTimeout(function() {\n",
       "                var nbb_cell_id = 656;\n",
       "                var nbb_unformatted_code = \"df_customers_geolocation\";\n",
       "                var nbb_formatted_code = \"df_customers_geolocation\";\n",
       "                var nbb_cells = Jupyter.notebook.get_cells();\n",
       "                for (var i = 0; i < nbb_cells.length; ++i) {\n",
       "                    if (nbb_cells[i].input_prompt_number == nbb_cell_id) {\n",
       "                        if (nbb_cells[i].get_text() == nbb_unformatted_code) {\n",
       "                             nbb_cells[i].set_text(nbb_formatted_code);\n",
       "                        }\n",
       "                        break;\n",
       "                    }\n",
       "                }\n",
       "            }, 500);\n",
       "            "
      ],
      "text/plain": [
       "<IPython.core.display.Javascript object>"
      ]
     },
     "metadata": {},
     "output_type": "display_data"
    }
   ],
   "source": [
    "df_customers_geolocation"
   ]
  },
  {
   "cell_type": "markdown",
   "id": "6901e2c8",
   "metadata": {},
   "source": [
    "on supprime les colonns qui ne sont plus nécessaires"
   ]
  },
  {
   "cell_type": "code",
   "execution_count": 657,
   "id": "c27f854c",
   "metadata": {},
   "outputs": [
    {
     "data": {
      "application/javascript": [
       "\n",
       "            setTimeout(function() {\n",
       "                var nbb_cell_id = 657;\n",
       "                var nbb_unformatted_code = \"del df_customers_geolocation[\\\"geolocation_lat\\\"]\\ndel df_customers_geolocation[\\\"geolocation_lng\\\"]\\ndel df_customers_geolocation[\\\"geolocation_city\\\"]\\ndel df_customers_geolocation[\\\"geolocation_state\\\"]\";\n",
       "                var nbb_formatted_code = \"del df_customers_geolocation[\\\"geolocation_lat\\\"]\\ndel df_customers_geolocation[\\\"geolocation_lng\\\"]\\ndel df_customers_geolocation[\\\"geolocation_city\\\"]\\ndel df_customers_geolocation[\\\"geolocation_state\\\"]\";\n",
       "                var nbb_cells = Jupyter.notebook.get_cells();\n",
       "                for (var i = 0; i < nbb_cells.length; ++i) {\n",
       "                    if (nbb_cells[i].input_prompt_number == nbb_cell_id) {\n",
       "                        if (nbb_cells[i].get_text() == nbb_unformatted_code) {\n",
       "                             nbb_cells[i].set_text(nbb_formatted_code);\n",
       "                        }\n",
       "                        break;\n",
       "                    }\n",
       "                }\n",
       "            }, 500);\n",
       "            "
      ],
      "text/plain": [
       "<IPython.core.display.Javascript object>"
      ]
     },
     "metadata": {},
     "output_type": "display_data"
    }
   ],
   "source": [
    "del df_customers_geolocation[\"geolocation_lat\"]\n",
    "del df_customers_geolocation[\"geolocation_lng\"]\n",
    "del df_customers_geolocation[\"geolocation_city\"]\n",
    "del df_customers_geolocation[\"geolocation_state\"]"
   ]
  },
  {
   "cell_type": "code",
   "execution_count": 658,
   "id": "9b7a32ba",
   "metadata": {},
   "outputs": [
    {
     "data": {
      "application/javascript": [
       "\n",
       "            setTimeout(function() {\n",
       "                var nbb_cell_id = 658;\n",
       "                var nbb_unformatted_code = \"print(\\\"Dimensions df_customers_geolocation\\\", df_customers_geolocation.shape)\";\n",
       "                var nbb_formatted_code = \"print(\\\"Dimensions df_customers_geolocation\\\", df_customers_geolocation.shape)\";\n",
       "                var nbb_cells = Jupyter.notebook.get_cells();\n",
       "                for (var i = 0; i < nbb_cells.length; ++i) {\n",
       "                    if (nbb_cells[i].input_prompt_number == nbb_cell_id) {\n",
       "                        if (nbb_cells[i].get_text() == nbb_unformatted_code) {\n",
       "                             nbb_cells[i].set_text(nbb_formatted_code);\n",
       "                        }\n",
       "                        break;\n",
       "                    }\n",
       "                }\n",
       "            }, 500);\n",
       "            "
      ],
      "text/plain": [
       "<IPython.core.display.Javascript object>"
      ]
     },
     "metadata": {},
     "output_type": "display_data"
    }
   ],
   "source": [
    "print(\"Dimensions df_customers_geolocation\", df_customers_geolocation.shape)"
   ]
  },
  {
   "cell_type": "markdown",
   "id": "9426ae21",
   "metadata": {},
   "source": [
    "# Commandes-Evaluations/Clients-Geolocalisation"
   ]
  },
  {
   "cell_type": "code",
   "execution_count": 659,
   "id": "8d8387ff",
   "metadata": {},
   "outputs": [
    {
     "data": {
      "text/html": [
       "<div>\n",
       "<style scoped>\n",
       "    .dataframe tbody tr th:only-of-type {\n",
       "        vertical-align: middle;\n",
       "    }\n",
       "\n",
       "    .dataframe tbody tr th {\n",
       "        vertical-align: top;\n",
       "    }\n",
       "\n",
       "    .dataframe thead th {\n",
       "        text-align: right;\n",
       "    }\n",
       "</style>\n",
       "<table border=\"1\" class=\"dataframe\">\n",
       "  <thead>\n",
       "    <tr style=\"text-align: right;\">\n",
       "      <th></th>\n",
       "      <th>Dataset</th>\n",
       "      <th>Shape</th>\n",
       "      <th>Variable</th>\n",
       "      <th>Duplicates</th>\n",
       "      <th>Unique</th>\n",
       "      <th>Null</th>\n",
       "    </tr>\n",
       "  </thead>\n",
       "  <tbody>\n",
       "    <tr>\n",
       "      <th>4</th>\n",
       "      <td>geolocation_gr_0</td>\n",
       "      <td>19015</td>\n",
       "      <td>geolocation_zip_code_prefix</td>\n",
       "      <td>0</td>\n",
       "      <td>19015</td>\n",
       "      <td>0</td>\n",
       "    </tr>\n",
       "    <tr>\n",
       "      <th>5</th>\n",
       "      <td>customers</td>\n",
       "      <td>99441</td>\n",
       "      <td>customer_zip_code_prefix</td>\n",
       "      <td>84447</td>\n",
       "      <td>14994</td>\n",
       "      <td>0</td>\n",
       "    </tr>\n",
       "    <tr>\n",
       "      <th>6</th>\n",
       "      <td>orders_reviews</td>\n",
       "      <td>99441</td>\n",
       "      <td>order_id</td>\n",
       "      <td>0</td>\n",
       "      <td>99441</td>\n",
       "      <td>0</td>\n",
       "    </tr>\n",
       "    <tr>\n",
       "      <th>7</th>\n",
       "      <td>orders_reviews</td>\n",
       "      <td>99441</td>\n",
       "      <td>customer_id</td>\n",
       "      <td>0</td>\n",
       "      <td>99441</td>\n",
       "      <td>0</td>\n",
       "    </tr>\n",
       "  </tbody>\n",
       "</table>\n",
       "</div>"
      ],
      "text/plain": [
       "            Dataset  Shape                     Variable  Duplicates  Unique  \\\n",
       "4  geolocation_gr_0  19015  geolocation_zip_code_prefix           0   19015   \n",
       "5         customers  99441     customer_zip_code_prefix       84447   14994   \n",
       "6    orders_reviews  99441                     order_id           0   99441   \n",
       "7    orders_reviews  99441                  customer_id           0   99441   \n",
       "\n",
       "   Null  \n",
       "4     0  \n",
       "5     0  \n",
       "6     0  \n",
       "7     0  "
      ]
     },
     "execution_count": 659,
     "metadata": {},
     "output_type": "execute_result"
    },
    {
     "data": {
      "application/javascript": [
       "\n",
       "            setTimeout(function() {\n",
       "                var nbb_cell_id = 659;\n",
       "                var nbb_unformatted_code = \"data_model(df_orders_reviews, \\\"orders_reviews\\\", \\\"order_id\\\")\\ndata_model(df_orders_reviews, \\\"orders_reviews\\\", \\\"customer_id\\\", 1, 4)\";\n",
       "                var nbb_formatted_code = \"data_model(df_orders_reviews, \\\"orders_reviews\\\", \\\"order_id\\\")\\ndata_model(df_orders_reviews, \\\"orders_reviews\\\", \\\"customer_id\\\", 1, 4)\";\n",
       "                var nbb_cells = Jupyter.notebook.get_cells();\n",
       "                for (var i = 0; i < nbb_cells.length; ++i) {\n",
       "                    if (nbb_cells[i].input_prompt_number == nbb_cell_id) {\n",
       "                        if (nbb_cells[i].get_text() == nbb_unformatted_code) {\n",
       "                             nbb_cells[i].set_text(nbb_formatted_code);\n",
       "                        }\n",
       "                        break;\n",
       "                    }\n",
       "                }\n",
       "            }, 500);\n",
       "            "
      ],
      "text/plain": [
       "<IPython.core.display.Javascript object>"
      ]
     },
     "metadata": {},
     "output_type": "display_data"
    }
   ],
   "source": [
    "data_model(df_orders_reviews, \"orders_reviews\", \"order_id\")\n",
    "data_model(df_orders_reviews, \"orders_reviews\", \"customer_id\", 1, 4)"
   ]
  },
  {
   "cell_type": "markdown",
   "id": "18a7c9ef",
   "metadata": {},
   "source": [
    "La clé du dataset *orders* est la variable 'order_id' qui définit les commandes.\n",
    "\n",
    "A chaque commande correspond une référence client, la variable 'customer_id'."
   ]
  },
  {
   "cell_type": "markdown",
   "id": "5d539f39",
   "metadata": {},
   "source": [
    "On vérifie que chaque commande est associée à une référence client et inversement."
   ]
  },
  {
   "cell_type": "code",
   "execution_count": 660,
   "id": "4c05cfb5",
   "metadata": {},
   "outputs": [
    {
     "data": {
      "application/javascript": [
       "\n",
       "            setTimeout(function() {\n",
       "                var nbb_cell_id = 660;\n",
       "                var nbb_unformatted_code = \"data_model_2(\\n    df_customers_geolocation,\\n    df_orders_reviews,\\n    \\\"customers_geolocation\\\",\\n    \\\"orders_reviews\\\",\\n    \\\"customer_id\\\",\\n    \\\"customer_id\\\",\\n)\";\n",
       "                var nbb_formatted_code = \"data_model_2(\\n    df_customers_geolocation,\\n    df_orders_reviews,\\n    \\\"customers_geolocation\\\",\\n    \\\"orders_reviews\\\",\\n    \\\"customer_id\\\",\\n    \\\"customer_id\\\",\\n)\";\n",
       "                var nbb_cells = Jupyter.notebook.get_cells();\n",
       "                for (var i = 0; i < nbb_cells.length; ++i) {\n",
       "                    if (nbb_cells[i].input_prompt_number == nbb_cell_id) {\n",
       "                        if (nbb_cells[i].get_text() == nbb_unformatted_code) {\n",
       "                             nbb_cells[i].set_text(nbb_formatted_code);\n",
       "                        }\n",
       "                        break;\n",
       "                    }\n",
       "                }\n",
       "            }, 500);\n",
       "            "
      ],
      "text/plain": [
       "<IPython.core.display.Javascript object>"
      ]
     },
     "metadata": {},
     "output_type": "display_data"
    }
   ],
   "source": [
    "data_model_2(\n",
    "    df_customers_geolocation,\n",
    "    df_orders_reviews,\n",
    "    \"customers_geolocation\",\n",
    "    \"orders_reviews\",\n",
    "    \"customer_id\",\n",
    "    \"customer_id\",\n",
    ")"
   ]
  },
  {
   "cell_type": "markdown",
   "id": "a30e23f1",
   "metadata": {},
   "source": [
    "**Fusion customers_geolocation / orders_reviews**"
   ]
  },
  {
   "cell_type": "code",
   "execution_count": 661,
   "id": "81715a2d",
   "metadata": {},
   "outputs": [
    {
     "name": "stderr",
     "output_type": "stream",
     "text": [
      "2:80: E501 line too long (81 > 79 characters)\n",
      "INFO:pycodestyle:2:80: E501 line too long (81 > 79 characters)\n",
      "8:80: E501 line too long (84 > 79 characters)\n",
      "INFO:pycodestyle:8:80: E501 line too long (84 > 79 characters)\n"
     ]
    },
    {
     "data": {
      "application/javascript": [
       "\n",
       "            setTimeout(function() {\n",
       "                var nbb_cell_id = 661;\n",
       "                var nbb_unformatted_code = \"df_customers_geolocation_orders_reviews = df_customers_geolocation.merge(\\n    df_orders_reviews, left_on=\\\"customer_id\\\", right_on=\\\"customer_id\\\", how=\\\"inner\\\"\\n)\\nprint(df_customers_geolocation_orders_reviews.info())\\nprint(\\\"\\\")\\nprint(\\n    \\\"Nombre de valeurs uniques pour 'customer_unique_id':\\\",\\n    df_customers_geolocation_orders_reviews[\\\"customer_unique_id\\\"].unique().shape[0],\\n)\";\n",
       "                var nbb_formatted_code = \"df_customers_geolocation_orders_reviews = df_customers_geolocation.merge(\\n    df_orders_reviews, left_on=\\\"customer_id\\\", right_on=\\\"customer_id\\\", how=\\\"inner\\\"\\n)\\nprint(df_customers_geolocation_orders_reviews.info())\\nprint(\\\"\\\")\\nprint(\\n    \\\"Nombre de valeurs uniques pour 'customer_unique_id':\\\",\\n    df_customers_geolocation_orders_reviews[\\\"customer_unique_id\\\"].unique().shape[0],\\n)\";\n",
       "                var nbb_cells = Jupyter.notebook.get_cells();\n",
       "                for (var i = 0; i < nbb_cells.length; ++i) {\n",
       "                    if (nbb_cells[i].input_prompt_number == nbb_cell_id) {\n",
       "                        if (nbb_cells[i].get_text() == nbb_unformatted_code) {\n",
       "                             nbb_cells[i].set_text(nbb_formatted_code);\n",
       "                        }\n",
       "                        break;\n",
       "                    }\n",
       "                }\n",
       "            }, 500);\n",
       "            "
      ],
      "text/plain": [
       "<IPython.core.display.Javascript object>"
      ]
     },
     "metadata": {},
     "output_type": "display_data"
    }
   ],
   "source": [
    "df_customers_geolocation_orders_reviews = df_customers_geolocation.merge(\n",
    "    df_orders_reviews, left_on=\"customer_id\", right_on=\"customer_id\", how=\"inner\"\n",
    ")\n",
    "print(df_customers_geolocation_orders_reviews.info())\n",
    "print(\"\")\n",
    "print(\n",
    "    \"Nombre de valeurs uniques pour 'customer_unique_id':\",\n",
    "    df_customers_geolocation_orders_reviews[\"customer_unique_id\"].unique().shape[0],\n",
    ")"
   ]
  },
  {
   "cell_type": "code",
   "execution_count": 662,
   "id": "93edb208",
   "metadata": {},
   "outputs": [
    {
     "data": {
      "application/javascript": [
       "\n",
       "            setTimeout(function() {\n",
       "                var nbb_cell_id = 662;\n",
       "                var nbb_unformatted_code = \"print(\\n    \\\"Dimensions df_customers_geolocation_orders_reviews\\\",\\n    df_customers_geolocation_orders_reviews.shape,\\n)\";\n",
       "                var nbb_formatted_code = \"print(\\n    \\\"Dimensions df_customers_geolocation_orders_reviews\\\",\\n    df_customers_geolocation_orders_reviews.shape,\\n)\";\n",
       "                var nbb_cells = Jupyter.notebook.get_cells();\n",
       "                for (var i = 0; i < nbb_cells.length; ++i) {\n",
       "                    if (nbb_cells[i].input_prompt_number == nbb_cell_id) {\n",
       "                        if (nbb_cells[i].get_text() == nbb_unformatted_code) {\n",
       "                             nbb_cells[i].set_text(nbb_formatted_code);\n",
       "                        }\n",
       "                        break;\n",
       "                    }\n",
       "                }\n",
       "            }, 500);\n",
       "            "
      ],
      "text/plain": [
       "<IPython.core.display.Javascript object>"
      ]
     },
     "metadata": {},
     "output_type": "display_data"
    }
   ],
   "source": [
    "print(\n",
    "    \"Dimensions df_customers_geolocation_orders_reviews\",\n",
    "    df_customers_geolocation_orders_reviews.shape,\n",
    ")"
   ]
  },
  {
   "cell_type": "markdown",
   "id": "1d5378d5",
   "metadata": {},
   "source": [
    "# Fusion 2: "
   ]
  },
  {
   "cell_type": "markdown",
   "id": "60a5a077",
   "metadata": {},
   "source": [
    "# Articles / vendeur"
   ]
  },
  {
   "cell_type": "markdown",
   "id": "c68a15ee",
   "metadata": {},
   "source": [
    "**items**"
   ]
  },
  {
   "cell_type": "code",
   "execution_count": 663,
   "id": "f4ace611",
   "metadata": {},
   "outputs": [
    {
     "data": {
      "application/javascript": [
       "\n",
       "            setTimeout(function() {\n",
       "                var nbb_cell_id = 663;\n",
       "                var nbb_unformatted_code = \"df_items.info()\";\n",
       "                var nbb_formatted_code = \"df_items.info()\";\n",
       "                var nbb_cells = Jupyter.notebook.get_cells();\n",
       "                for (var i = 0; i < nbb_cells.length; ++i) {\n",
       "                    if (nbb_cells[i].input_prompt_number == nbb_cell_id) {\n",
       "                        if (nbb_cells[i].get_text() == nbb_unformatted_code) {\n",
       "                             nbb_cells[i].set_text(nbb_formatted_code);\n",
       "                        }\n",
       "                        break;\n",
       "                    }\n",
       "                }\n",
       "            }, 500);\n",
       "            "
      ],
      "text/plain": [
       "<IPython.core.display.Javascript object>"
      ]
     },
     "metadata": {},
     "output_type": "display_data"
    }
   ],
   "source": [
    "df_items.info()"
   ]
  },
  {
   "cell_type": "code",
   "execution_count": 664,
   "id": "91e717a4",
   "metadata": {},
   "outputs": [
    {
     "data": {
      "text/html": [
       "<div>\n",
       "<style scoped>\n",
       "    .dataframe tbody tr th:only-of-type {\n",
       "        vertical-align: middle;\n",
       "    }\n",
       "\n",
       "    .dataframe tbody tr th {\n",
       "        vertical-align: top;\n",
       "    }\n",
       "\n",
       "    .dataframe thead th {\n",
       "        text-align: right;\n",
       "    }\n",
       "</style>\n",
       "<table border=\"1\" class=\"dataframe\">\n",
       "  <thead>\n",
       "    <tr style=\"text-align: right;\">\n",
       "      <th></th>\n",
       "      <th>Dataset</th>\n",
       "      <th>Shape</th>\n",
       "      <th>Variable</th>\n",
       "      <th>Duplicates</th>\n",
       "      <th>Unique</th>\n",
       "      <th>Null</th>\n",
       "    </tr>\n",
       "  </thead>\n",
       "  <tbody>\n",
       "    <tr>\n",
       "      <th>8</th>\n",
       "      <td>items</td>\n",
       "      <td>112650</td>\n",
       "      <td>order_id</td>\n",
       "      <td>13984</td>\n",
       "      <td>98666</td>\n",
       "      <td>0</td>\n",
       "    </tr>\n",
       "  </tbody>\n",
       "</table>\n",
       "</div>"
      ],
      "text/plain": [
       "  Dataset   Shape  Variable  Duplicates  Unique  Null\n",
       "8   items  112650  order_id       13984   98666     0"
      ]
     },
     "execution_count": 664,
     "metadata": {},
     "output_type": "execute_result"
    },
    {
     "data": {
      "application/javascript": [
       "\n",
       "            setTimeout(function() {\n",
       "                var nbb_cell_id = 664;\n",
       "                var nbb_unformatted_code = \"data_model(df_items, \\\"items\\\", \\\"order_id\\\", 1, 1)\";\n",
       "                var nbb_formatted_code = \"data_model(df_items, \\\"items\\\", \\\"order_id\\\", 1, 1)\";\n",
       "                var nbb_cells = Jupyter.notebook.get_cells();\n",
       "                for (var i = 0; i < nbb_cells.length; ++i) {\n",
       "                    if (nbb_cells[i].input_prompt_number == nbb_cell_id) {\n",
       "                        if (nbb_cells[i].get_text() == nbb_unformatted_code) {\n",
       "                             nbb_cells[i].set_text(nbb_formatted_code);\n",
       "                        }\n",
       "                        break;\n",
       "                    }\n",
       "                }\n",
       "            }, 500);\n",
       "            "
      ],
      "text/plain": [
       "<IPython.core.display.Javascript object>"
      ]
     },
     "metadata": {},
     "output_type": "display_data"
    }
   ],
   "source": [
    "data_model(df_items, \"items\", \"order_id\", 1, 1)"
   ]
  },
  {
   "cell_type": "markdown",
   "id": "608ec651",
   "metadata": {},
   "source": [
    "**Variable - price_total**"
   ]
  },
  {
   "cell_type": "markdown",
   "id": "819ae9af",
   "metadata": {},
   "source": [
    "On créé la variable 'price_total' qui correspond à la somme des variables 'price' (prix du produit) et 'freight_value' (frais de transport)."
   ]
  },
  {
   "cell_type": "code",
   "execution_count": 665,
   "id": "bc075e52",
   "metadata": {},
   "outputs": [
    {
     "data": {
      "application/javascript": [
       "\n",
       "            setTimeout(function() {\n",
       "                var nbb_cell_id = 665;\n",
       "                var nbb_unformatted_code = \"df_items[\\\"price_total\\\"] = df_items[\\\"price\\\"] + df_items[\\\"freight_value\\\"]\";\n",
       "                var nbb_formatted_code = \"df_items[\\\"price_total\\\"] = df_items[\\\"price\\\"] + df_items[\\\"freight_value\\\"]\";\n",
       "                var nbb_cells = Jupyter.notebook.get_cells();\n",
       "                for (var i = 0; i < nbb_cells.length; ++i) {\n",
       "                    if (nbb_cells[i].input_prompt_number == nbb_cell_id) {\n",
       "                        if (nbb_cells[i].get_text() == nbb_unformatted_code) {\n",
       "                             nbb_cells[i].set_text(nbb_formatted_code);\n",
       "                        }\n",
       "                        break;\n",
       "                    }\n",
       "                }\n",
       "            }, 500);\n",
       "            "
      ],
      "text/plain": [
       "<IPython.core.display.Javascript object>"
      ]
     },
     "metadata": {},
     "output_type": "display_data"
    }
   ],
   "source": [
    "df_items[\"price_total\"] = df_items[\"price\"] + df_items[\"freight_value\"]"
   ]
  },
  {
   "cell_type": "markdown",
   "id": "6aaa99d1",
   "metadata": {},
   "source": [
    "On supprime les variables qui ne nous intéressent pas."
   ]
  },
  {
   "cell_type": "code",
   "execution_count": 666,
   "id": "3da76300",
   "metadata": {},
   "outputs": [
    {
     "data": {
      "application/javascript": [
       "\n",
       "            setTimeout(function() {\n",
       "                var nbb_cell_id = 666;\n",
       "                var nbb_unformatted_code = \"del df_items[\\\"price\\\"]\\ndel df_items[\\\"freight_value\\\"]\\ndel df_items[\\\"shipping_limit_date\\\"]\";\n",
       "                var nbb_formatted_code = \"del df_items[\\\"price\\\"]\\ndel df_items[\\\"freight_value\\\"]\\ndel df_items[\\\"shipping_limit_date\\\"]\";\n",
       "                var nbb_cells = Jupyter.notebook.get_cells();\n",
       "                for (var i = 0; i < nbb_cells.length; ++i) {\n",
       "                    if (nbb_cells[i].input_prompt_number == nbb_cell_id) {\n",
       "                        if (nbb_cells[i].get_text() == nbb_unformatted_code) {\n",
       "                             nbb_cells[i].set_text(nbb_formatted_code);\n",
       "                        }\n",
       "                        break;\n",
       "                    }\n",
       "                }\n",
       "            }, 500);\n",
       "            "
      ],
      "text/plain": [
       "<IPython.core.display.Javascript object>"
      ]
     },
     "metadata": {},
     "output_type": "display_data"
    }
   ],
   "source": [
    "del df_items[\"price\"]\n",
    "del df_items[\"freight_value\"]\n",
    "del df_items[\"shipping_limit_date\"]"
   ]
  },
  {
   "cell_type": "markdown",
   "id": "d947e442",
   "metadata": {},
   "source": [
    "**Sellers**"
   ]
  },
  {
   "cell_type": "code",
   "execution_count": 667,
   "id": "da12a5ec",
   "metadata": {},
   "outputs": [
    {
     "data": {
      "application/javascript": [
       "\n",
       "            setTimeout(function() {\n",
       "                var nbb_cell_id = 667;\n",
       "                var nbb_unformatted_code = \"df_sellers.info(verbose=True)\";\n",
       "                var nbb_formatted_code = \"df_sellers.info(verbose=True)\";\n",
       "                var nbb_cells = Jupyter.notebook.get_cells();\n",
       "                for (var i = 0; i < nbb_cells.length; ++i) {\n",
       "                    if (nbb_cells[i].input_prompt_number == nbb_cell_id) {\n",
       "                        if (nbb_cells[i].get_text() == nbb_unformatted_code) {\n",
       "                             nbb_cells[i].set_text(nbb_formatted_code);\n",
       "                        }\n",
       "                        break;\n",
       "                    }\n",
       "                }\n",
       "            }, 500);\n",
       "            "
      ],
      "text/plain": [
       "<IPython.core.display.Javascript object>"
      ]
     },
     "metadata": {},
     "output_type": "display_data"
    }
   ],
   "source": [
    "df_sellers.info(verbose=True)"
   ]
  },
  {
   "cell_type": "markdown",
   "id": "1dfa19fc",
   "metadata": {},
   "source": [
    "On supprime les variables qui ne nous intéressent pas."
   ]
  },
  {
   "cell_type": "code",
   "execution_count": 668,
   "id": "957d4412",
   "metadata": {},
   "outputs": [
    {
     "data": {
      "application/javascript": [
       "\n",
       "            setTimeout(function() {\n",
       "                var nbb_cell_id = 668;\n",
       "                var nbb_unformatted_code = \"del df_sellers[\\\"seller_state\\\"]\\ndel df_sellers[\\\"seller_city\\\"]\";\n",
       "                var nbb_formatted_code = \"del df_sellers[\\\"seller_state\\\"]\\ndel df_sellers[\\\"seller_city\\\"]\";\n",
       "                var nbb_cells = Jupyter.notebook.get_cells();\n",
       "                for (var i = 0; i < nbb_cells.length; ++i) {\n",
       "                    if (nbb_cells[i].input_prompt_number == nbb_cell_id) {\n",
       "                        if (nbb_cells[i].get_text() == nbb_unformatted_code) {\n",
       "                             nbb_cells[i].set_text(nbb_formatted_code);\n",
       "                        }\n",
       "                        break;\n",
       "                    }\n",
       "                }\n",
       "            }, 500);\n",
       "            "
      ],
      "text/plain": [
       "<IPython.core.display.Javascript object>"
      ]
     },
     "metadata": {},
     "output_type": "display_data"
    }
   ],
   "source": [
    "del df_sellers[\"seller_state\"]\n",
    "del df_sellers[\"seller_city\"]"
   ]
  },
  {
   "cell_type": "markdown",
   "id": "5cf7c7d4",
   "metadata": {},
   "source": [
    "**items et sellers**"
   ]
  },
  {
   "cell_type": "code",
   "execution_count": 669,
   "id": "575f663b",
   "metadata": {},
   "outputs": [
    {
     "data": {
      "text/html": [
       "<div>\n",
       "<style scoped>\n",
       "    .dataframe tbody tr th:only-of-type {\n",
       "        vertical-align: middle;\n",
       "    }\n",
       "\n",
       "    .dataframe tbody tr th {\n",
       "        vertical-align: top;\n",
       "    }\n",
       "\n",
       "    .dataframe thead th {\n",
       "        text-align: right;\n",
       "    }\n",
       "</style>\n",
       "<table border=\"1\" class=\"dataframe\">\n",
       "  <thead>\n",
       "    <tr style=\"text-align: right;\">\n",
       "      <th></th>\n",
       "      <th>Dataset</th>\n",
       "      <th>Shape</th>\n",
       "      <th>Variable</th>\n",
       "      <th>Duplicates</th>\n",
       "      <th>Unique</th>\n",
       "      <th>Null</th>\n",
       "    </tr>\n",
       "  </thead>\n",
       "  <tbody>\n",
       "    <tr>\n",
       "      <th>9</th>\n",
       "      <td>items</td>\n",
       "      <td>112650</td>\n",
       "      <td>seller_id</td>\n",
       "      <td>109555</td>\n",
       "      <td>3095</td>\n",
       "      <td>0</td>\n",
       "    </tr>\n",
       "    <tr>\n",
       "      <th>10</th>\n",
       "      <td>sellers</td>\n",
       "      <td>3095</td>\n",
       "      <td>seller_id</td>\n",
       "      <td>0</td>\n",
       "      <td>3095</td>\n",
       "      <td>0</td>\n",
       "    </tr>\n",
       "  </tbody>\n",
       "</table>\n",
       "</div>"
      ],
      "text/plain": [
       "    Dataset   Shape   Variable  Duplicates  Unique  Null\n",
       "9     items  112650  seller_id      109555    3095     0\n",
       "10  sellers    3095  seller_id           0    3095     0"
      ]
     },
     "execution_count": 669,
     "metadata": {},
     "output_type": "execute_result"
    },
    {
     "data": {
      "application/javascript": [
       "\n",
       "            setTimeout(function() {\n",
       "                var nbb_cell_id = 669;\n",
       "                var nbb_unformatted_code = \"data_model(df_items, \\\"items\\\", \\\"seller_id\\\")\\ndata_model(df_sellers, \\\"sellers\\\", \\\"seller_id\\\", 1, 2)\";\n",
       "                var nbb_formatted_code = \"data_model(df_items, \\\"items\\\", \\\"seller_id\\\")\\ndata_model(df_sellers, \\\"sellers\\\", \\\"seller_id\\\", 1, 2)\";\n",
       "                var nbb_cells = Jupyter.notebook.get_cells();\n",
       "                for (var i = 0; i < nbb_cells.length; ++i) {\n",
       "                    if (nbb_cells[i].input_prompt_number == nbb_cell_id) {\n",
       "                        if (nbb_cells[i].get_text() == nbb_unformatted_code) {\n",
       "                             nbb_cells[i].set_text(nbb_formatted_code);\n",
       "                        }\n",
       "                        break;\n",
       "                    }\n",
       "                }\n",
       "            }, 500);\n",
       "            "
      ],
      "text/plain": [
       "<IPython.core.display.Javascript object>"
      ]
     },
     "metadata": {},
     "output_type": "display_data"
    }
   ],
   "source": [
    "data_model(df_items, \"items\", \"seller_id\")\n",
    "data_model(df_sellers, \"sellers\", \"seller_id\", 1, 2)"
   ]
  },
  {
   "cell_type": "code",
   "execution_count": 670,
   "id": "8250bc3f",
   "metadata": {},
   "outputs": [
    {
     "name": "stderr",
     "output_type": "stream",
     "text": [
      "1:80: E501 line too long (80 > 79 characters)\n",
      "INFO:pycodestyle:1:80: E501 line too long (80 > 79 characters)\n"
     ]
    },
    {
     "data": {
      "application/javascript": [
       "\n",
       "            setTimeout(function() {\n",
       "                var nbb_cell_id = 670;\n",
       "                var nbb_unformatted_code = \"data_model_2(df_items, df_sellers, \\\"items\\\", \\\"sellers\\\", \\\"seller_id\\\", \\\"seller_id\\\")\";\n",
       "                var nbb_formatted_code = \"data_model_2(df_items, df_sellers, \\\"items\\\", \\\"sellers\\\", \\\"seller_id\\\", \\\"seller_id\\\")\";\n",
       "                var nbb_cells = Jupyter.notebook.get_cells();\n",
       "                for (var i = 0; i < nbb_cells.length; ++i) {\n",
       "                    if (nbb_cells[i].input_prompt_number == nbb_cell_id) {\n",
       "                        if (nbb_cells[i].get_text() == nbb_unformatted_code) {\n",
       "                             nbb_cells[i].set_text(nbb_formatted_code);\n",
       "                        }\n",
       "                        break;\n",
       "                    }\n",
       "                }\n",
       "            }, 500);\n",
       "            "
      ],
      "text/plain": [
       "<IPython.core.display.Javascript object>"
      ]
     },
     "metadata": {},
     "output_type": "display_data"
    }
   ],
   "source": [
    "data_model_2(df_items, df_sellers, \"items\", \"sellers\", \"seller_id\", \"seller_id\")"
   ]
  },
  {
   "cell_type": "markdown",
   "id": "b4fa4018",
   "metadata": {},
   "source": [
    "**Fusion items / sellers**"
   ]
  },
  {
   "cell_type": "markdown",
   "id": "bcbee751",
   "metadata": {},
   "source": [
    "Tous les vendeurs ont été référencés au moins une fois dans le dataset *order_items* et chaque enregistrement de *items* a une référence dans *sellers*.\n",
    "\n",
    "On fusionne donc les datasets *items* et *sellers* avec une contrainte de correspondance nécessaire (inner join)."
   ]
  },
  {
   "cell_type": "code",
   "execution_count": 671,
   "id": "52086ea3",
   "metadata": {},
   "outputs": [
    {
     "data": {
      "application/javascript": [
       "\n",
       "            setTimeout(function() {\n",
       "                var nbb_cell_id = 671;\n",
       "                var nbb_unformatted_code = \"df_items_sellers = df_items.merge(\\n    df_sellers, left_on=\\\"seller_id\\\", right_on=\\\"seller_id\\\", how=\\\"inner\\\"\\n)\";\n",
       "                var nbb_formatted_code = \"df_items_sellers = df_items.merge(\\n    df_sellers, left_on=\\\"seller_id\\\", right_on=\\\"seller_id\\\", how=\\\"inner\\\"\\n)\";\n",
       "                var nbb_cells = Jupyter.notebook.get_cells();\n",
       "                for (var i = 0; i < nbb_cells.length; ++i) {\n",
       "                    if (nbb_cells[i].input_prompt_number == nbb_cell_id) {\n",
       "                        if (nbb_cells[i].get_text() == nbb_unformatted_code) {\n",
       "                             nbb_cells[i].set_text(nbb_formatted_code);\n",
       "                        }\n",
       "                        break;\n",
       "                    }\n",
       "                }\n",
       "            }, 500);\n",
       "            "
      ],
      "text/plain": [
       "<IPython.core.display.Javascript object>"
      ]
     },
     "metadata": {},
     "output_type": "display_data"
    }
   ],
   "source": [
    "df_items_sellers = df_items.merge(\n",
    "    df_sellers, left_on=\"seller_id\", right_on=\"seller_id\", how=\"inner\"\n",
    ")"
   ]
  },
  {
   "cell_type": "code",
   "execution_count": 672,
   "id": "71935740",
   "metadata": {},
   "outputs": [
    {
     "data": {
      "application/javascript": [
       "\n",
       "            setTimeout(function() {\n",
       "                var nbb_cell_id = 672;\n",
       "                var nbb_unformatted_code = \"df_items_sellers.info()\";\n",
       "                var nbb_formatted_code = \"df_items_sellers.info()\";\n",
       "                var nbb_cells = Jupyter.notebook.get_cells();\n",
       "                for (var i = 0; i < nbb_cells.length; ++i) {\n",
       "                    if (nbb_cells[i].input_prompt_number == nbb_cell_id) {\n",
       "                        if (nbb_cells[i].get_text() == nbb_unformatted_code) {\n",
       "                             nbb_cells[i].set_text(nbb_formatted_code);\n",
       "                        }\n",
       "                        break;\n",
       "                    }\n",
       "                }\n",
       "            }, 500);\n",
       "            "
      ],
      "text/plain": [
       "<IPython.core.display.Javascript object>"
      ]
     },
     "metadata": {},
     "output_type": "display_data"
    }
   ],
   "source": [
    "df_items_sellers.info()"
   ]
  },
  {
   "cell_type": "code",
   "execution_count": 673,
   "id": "2e80159c",
   "metadata": {},
   "outputs": [
    {
     "data": {
      "application/javascript": [
       "\n",
       "            setTimeout(function() {\n",
       "                var nbb_cell_id = 673;\n",
       "                var nbb_unformatted_code = \"del df_items_sellers[\\\"seller_id\\\"]\";\n",
       "                var nbb_formatted_code = \"del df_items_sellers[\\\"seller_id\\\"]\";\n",
       "                var nbb_cells = Jupyter.notebook.get_cells();\n",
       "                for (var i = 0; i < nbb_cells.length; ++i) {\n",
       "                    if (nbb_cells[i].input_prompt_number == nbb_cell_id) {\n",
       "                        if (nbb_cells[i].get_text() == nbb_unformatted_code) {\n",
       "                             nbb_cells[i].set_text(nbb_formatted_code);\n",
       "                        }\n",
       "                        break;\n",
       "                    }\n",
       "                }\n",
       "            }, 500);\n",
       "            "
      ],
      "text/plain": [
       "<IPython.core.display.Javascript object>"
      ]
     },
     "metadata": {},
     "output_type": "display_data"
    }
   ],
   "source": [
    "del df_items_sellers[\"seller_id\"]"
   ]
  },
  {
   "cell_type": "markdown",
   "id": "389b3bdd",
   "metadata": {},
   "source": [
    "# Articles-vendeur/Geolocalisation"
   ]
  },
  {
   "cell_type": "markdown",
   "id": "52d90020",
   "metadata": {},
   "source": [
    "**Geolocation**"
   ]
  },
  {
   "cell_type": "markdown",
   "id": "02cb77e0",
   "metadata": {},
   "source": [
    "**nous définissons un nouveau dataset *geolocation_gr* qui ne contient que l'index des préfixes.**"
   ]
  },
  {
   "cell_type": "code",
   "execution_count": 674,
   "id": "5cfc061f",
   "metadata": {},
   "outputs": [
    {
     "data": {
      "text/html": [
       "<div>\n",
       "<style scoped>\n",
       "    .dataframe tbody tr th:only-of-type {\n",
       "        vertical-align: middle;\n",
       "    }\n",
       "\n",
       "    .dataframe tbody tr th {\n",
       "        vertical-align: top;\n",
       "    }\n",
       "\n",
       "    .dataframe thead th {\n",
       "        text-align: right;\n",
       "    }\n",
       "</style>\n",
       "<table border=\"1\" class=\"dataframe\">\n",
       "  <thead>\n",
       "    <tr style=\"text-align: right;\">\n",
       "      <th></th>\n",
       "      <th>geolocation_zip_code_prefix</th>\n",
       "    </tr>\n",
       "  </thead>\n",
       "  <tbody>\n",
       "    <tr>\n",
       "      <th>0</th>\n",
       "      <td>1001</td>\n",
       "    </tr>\n",
       "    <tr>\n",
       "      <th>1</th>\n",
       "      <td>1002</td>\n",
       "    </tr>\n",
       "    <tr>\n",
       "      <th>2</th>\n",
       "      <td>1003</td>\n",
       "    </tr>\n",
       "    <tr>\n",
       "      <th>3</th>\n",
       "      <td>1004</td>\n",
       "    </tr>\n",
       "    <tr>\n",
       "      <th>4</th>\n",
       "      <td>1005</td>\n",
       "    </tr>\n",
       "  </tbody>\n",
       "</table>\n",
       "</div>"
      ],
      "text/plain": [
       "   geolocation_zip_code_prefix\n",
       "0                         1001\n",
       "1                         1002\n",
       "2                         1003\n",
       "3                         1004\n",
       "4                         1005"
      ]
     },
     "execution_count": 674,
     "metadata": {},
     "output_type": "execute_result"
    },
    {
     "data": {
      "application/javascript": [
       "\n",
       "            setTimeout(function() {\n",
       "                var nbb_cell_id = 674;\n",
       "                var nbb_unformatted_code = \"df_geolocation_gr = df_geolocation_gr_0[[\\\"geolocation_zip_code_prefix\\\"]]\\ndf_geolocation_gr.head()\";\n",
       "                var nbb_formatted_code = \"df_geolocation_gr = df_geolocation_gr_0[[\\\"geolocation_zip_code_prefix\\\"]]\\ndf_geolocation_gr.head()\";\n",
       "                var nbb_cells = Jupyter.notebook.get_cells();\n",
       "                for (var i = 0; i < nbb_cells.length; ++i) {\n",
       "                    if (nbb_cells[i].input_prompt_number == nbb_cell_id) {\n",
       "                        if (nbb_cells[i].get_text() == nbb_unformatted_code) {\n",
       "                             nbb_cells[i].set_text(nbb_formatted_code);\n",
       "                        }\n",
       "                        break;\n",
       "                    }\n",
       "                }\n",
       "            }, 500);\n",
       "            "
      ],
      "text/plain": [
       "<IPython.core.display.Javascript object>"
      ]
     },
     "metadata": {},
     "output_type": "display_data"
    }
   ],
   "source": [
    "df_geolocation_gr = df_geolocation_gr_0[[\"geolocation_zip_code_prefix\"]]\n",
    "df_geolocation_gr.head()"
   ]
  },
  {
   "cell_type": "markdown",
   "id": "c342e819",
   "metadata": {},
   "source": [
    "Les enregistrements du dataset *items_sellers* sont reliés au dataset *geolocation_gr* par les variables 'seller_zip_code_prefix' et 'geolocation_zip_code_prefix'."
   ]
  },
  {
   "cell_type": "markdown",
   "id": "0ccf18b2",
   "metadata": {},
   "source": [
    "**items_sellers et geolocation_gr**"
   ]
  },
  {
   "cell_type": "code",
   "execution_count": 675,
   "id": "482185d0",
   "metadata": {},
   "outputs": [
    {
     "data": {
      "text/html": [
       "<div>\n",
       "<style scoped>\n",
       "    .dataframe tbody tr th:only-of-type {\n",
       "        vertical-align: middle;\n",
       "    }\n",
       "\n",
       "    .dataframe tbody tr th {\n",
       "        vertical-align: top;\n",
       "    }\n",
       "\n",
       "    .dataframe thead th {\n",
       "        text-align: right;\n",
       "    }\n",
       "</style>\n",
       "<table border=\"1\" class=\"dataframe\">\n",
       "  <thead>\n",
       "    <tr style=\"text-align: right;\">\n",
       "      <th></th>\n",
       "      <th>Dataset</th>\n",
       "      <th>Shape</th>\n",
       "      <th>Variable</th>\n",
       "      <th>Duplicates</th>\n",
       "      <th>Unique</th>\n",
       "      <th>Null</th>\n",
       "    </tr>\n",
       "  </thead>\n",
       "  <tbody>\n",
       "    <tr>\n",
       "      <th>11</th>\n",
       "      <td>items_sellers</td>\n",
       "      <td>112650</td>\n",
       "      <td>seller_zip_code_prefix</td>\n",
       "      <td>110404</td>\n",
       "      <td>2246</td>\n",
       "      <td>0</td>\n",
       "    </tr>\n",
       "    <tr>\n",
       "      <th>12</th>\n",
       "      <td>geolocation_gr</td>\n",
       "      <td>19015</td>\n",
       "      <td>geolocation_zip_code_prefix</td>\n",
       "      <td>0</td>\n",
       "      <td>19015</td>\n",
       "      <td>0</td>\n",
       "    </tr>\n",
       "  </tbody>\n",
       "</table>\n",
       "</div>"
      ],
      "text/plain": [
       "           Dataset   Shape                     Variable  Duplicates  Unique  \\\n",
       "11   items_sellers  112650       seller_zip_code_prefix      110404    2246   \n",
       "12  geolocation_gr   19015  geolocation_zip_code_prefix           0   19015   \n",
       "\n",
       "    Null  \n",
       "11     0  \n",
       "12     0  "
      ]
     },
     "execution_count": 675,
     "metadata": {},
     "output_type": "execute_result"
    },
    {
     "name": "stderr",
     "output_type": "stream",
     "text": [
      "2:80: E501 line too long (84 > 79 characters)\n",
      "INFO:pycodestyle:2:80: E501 line too long (84 > 79 characters)\n"
     ]
    },
    {
     "data": {
      "application/javascript": [
       "\n",
       "            setTimeout(function() {\n",
       "                var nbb_cell_id = 675;\n",
       "                var nbb_unformatted_code = \"data_model(df_items_sellers, \\\"items_sellers\\\", \\\"seller_zip_code_prefix\\\")\\ndata_model(df_geolocation_gr, \\\"geolocation_gr\\\", \\\"geolocation_zip_code_prefix\\\", 1, 2)\";\n",
       "                var nbb_formatted_code = \"data_model(df_items_sellers, \\\"items_sellers\\\", \\\"seller_zip_code_prefix\\\")\\ndata_model(df_geolocation_gr, \\\"geolocation_gr\\\", \\\"geolocation_zip_code_prefix\\\", 1, 2)\";\n",
       "                var nbb_cells = Jupyter.notebook.get_cells();\n",
       "                for (var i = 0; i < nbb_cells.length; ++i) {\n",
       "                    if (nbb_cells[i].input_prompt_number == nbb_cell_id) {\n",
       "                        if (nbb_cells[i].get_text() == nbb_unformatted_code) {\n",
       "                             nbb_cells[i].set_text(nbb_formatted_code);\n",
       "                        }\n",
       "                        break;\n",
       "                    }\n",
       "                }\n",
       "            }, 500);\n",
       "            "
      ],
      "text/plain": [
       "<IPython.core.display.Javascript object>"
      ]
     },
     "metadata": {},
     "output_type": "display_data"
    }
   ],
   "source": [
    "data_model(df_items_sellers, \"items_sellers\", \"seller_zip_code_prefix\")\n",
    "data_model(df_geolocation_gr, \"geolocation_gr\", \"geolocation_zip_code_prefix\", 1, 2)"
   ]
  },
  {
   "cell_type": "code",
   "execution_count": 676,
   "id": "0ae22840",
   "metadata": {},
   "outputs": [
    {
     "data": {
      "application/javascript": [
       "\n",
       "            setTimeout(function() {\n",
       "                var nbb_cell_id = 676;\n",
       "                var nbb_unformatted_code = \"data_model_2(\\n    df_items_sellers,\\n    df_geolocation_gr,\\n    \\\"items_sellers\\\",\\n    \\\"geolocation_gr\\\",\\n    \\\"seller_zip_code_prefix\\\",\\n    \\\"geolocation_zip_code_prefix\\\",\\n)\";\n",
       "                var nbb_formatted_code = \"data_model_2(\\n    df_items_sellers,\\n    df_geolocation_gr,\\n    \\\"items_sellers\\\",\\n    \\\"geolocation_gr\\\",\\n    \\\"seller_zip_code_prefix\\\",\\n    \\\"geolocation_zip_code_prefix\\\",\\n)\";\n",
       "                var nbb_cells = Jupyter.notebook.get_cells();\n",
       "                for (var i = 0; i < nbb_cells.length; ++i) {\n",
       "                    if (nbb_cells[i].input_prompt_number == nbb_cell_id) {\n",
       "                        if (nbb_cells[i].get_text() == nbb_unformatted_code) {\n",
       "                             nbb_cells[i].set_text(nbb_formatted_code);\n",
       "                        }\n",
       "                        break;\n",
       "                    }\n",
       "                }\n",
       "            }, 500);\n",
       "            "
      ],
      "text/plain": [
       "<IPython.core.display.Javascript object>"
      ]
     },
     "metadata": {},
     "output_type": "display_data"
    }
   ],
   "source": [
    "data_model_2(\n",
    "    df_items_sellers,\n",
    "    df_geolocation_gr,\n",
    "    \"items_sellers\",\n",
    "    \"geolocation_gr\",\n",
    "    \"seller_zip_code_prefix\",\n",
    "    \"geolocation_zip_code_prefix\",\n",
    ")"
   ]
  },
  {
   "cell_type": "markdown",
   "id": "f8d17404",
   "metadata": {},
   "source": [
    "**Fusion items_sellers / geolocation_gr**"
   ]
  },
  {
   "cell_type": "markdown",
   "id": "27baccf3",
   "metadata": {},
   "source": [
    "Les lignes de commandes n'ont pas toutes de correspondance dans le dataset *geolocation_gr*.\n",
    "On fusionne donc les datasets *items_sellers* et *geolocation_gr* avec une contrainte de correspondance facultative sur *geolocation_gr* (left join)."
   ]
  },
  {
   "cell_type": "code",
   "execution_count": 677,
   "id": "5eb073d1",
   "metadata": {},
   "outputs": [
    {
     "data": {
      "application/javascript": [
       "\n",
       "            setTimeout(function() {\n",
       "                var nbb_cell_id = 677;\n",
       "                var nbb_unformatted_code = \"df_items_sellers_geolocation = df_items_sellers.merge(\\n    df_geolocation_gr,\\n    left_on=\\\"seller_zip_code_prefix\\\",\\n    right_on=\\\"geolocation_zip_code_prefix\\\",\\n    how=\\\"left\\\",\\n)\";\n",
       "                var nbb_formatted_code = \"df_items_sellers_geolocation = df_items_sellers.merge(\\n    df_geolocation_gr,\\n    left_on=\\\"seller_zip_code_prefix\\\",\\n    right_on=\\\"geolocation_zip_code_prefix\\\",\\n    how=\\\"left\\\",\\n)\";\n",
       "                var nbb_cells = Jupyter.notebook.get_cells();\n",
       "                for (var i = 0; i < nbb_cells.length; ++i) {\n",
       "                    if (nbb_cells[i].input_prompt_number == nbb_cell_id) {\n",
       "                        if (nbb_cells[i].get_text() == nbb_unformatted_code) {\n",
       "                             nbb_cells[i].set_text(nbb_formatted_code);\n",
       "                        }\n",
       "                        break;\n",
       "                    }\n",
       "                }\n",
       "            }, 500);\n",
       "            "
      ],
      "text/plain": [
       "<IPython.core.display.Javascript object>"
      ]
     },
     "metadata": {},
     "output_type": "display_data"
    }
   ],
   "source": [
    "df_items_sellers_geolocation = df_items_sellers.merge(\n",
    "    df_geolocation_gr,\n",
    "    left_on=\"seller_zip_code_prefix\",\n",
    "    right_on=\"geolocation_zip_code_prefix\",\n",
    "    how=\"left\",\n",
    ")"
   ]
  },
  {
   "cell_type": "code",
   "execution_count": 678,
   "id": "c068d806",
   "metadata": {},
   "outputs": [
    {
     "name": "stderr",
     "output_type": "stream",
     "text": [
      "1:80: E501 line too long (84 > 79 characters)\n",
      "INFO:pycodestyle:1:80: E501 line too long (84 > 79 characters)\n"
     ]
    },
    {
     "data": {
      "application/javascript": [
       "\n",
       "            setTimeout(function() {\n",
       "                var nbb_cell_id = 678;\n",
       "                var nbb_unformatted_code = \"print(\\\"Dimensions df_items_sellers_geolocation\\\", df_items_sellers_geolocation.shape)\";\n",
       "                var nbb_formatted_code = \"print(\\\"Dimensions df_items_sellers_geolocation\\\", df_items_sellers_geolocation.shape)\";\n",
       "                var nbb_cells = Jupyter.notebook.get_cells();\n",
       "                for (var i = 0; i < nbb_cells.length; ++i) {\n",
       "                    if (nbb_cells[i].input_prompt_number == nbb_cell_id) {\n",
       "                        if (nbb_cells[i].get_text() == nbb_unformatted_code) {\n",
       "                             nbb_cells[i].set_text(nbb_formatted_code);\n",
       "                        }\n",
       "                        break;\n",
       "                    }\n",
       "                }\n",
       "            }, 500);\n",
       "            "
      ],
      "text/plain": [
       "<IPython.core.display.Javascript object>"
      ]
     },
     "metadata": {},
     "output_type": "display_data"
    }
   ],
   "source": [
    "print(\"Dimensions df_items_sellers_geolocation\", df_items_sellers_geolocation.shape)"
   ]
  },
  {
   "cell_type": "code",
   "execution_count": 679,
   "id": "5ee48af1",
   "metadata": {},
   "outputs": [
    {
     "data": {
      "text/html": [
       "<div>\n",
       "<style scoped>\n",
       "    .dataframe tbody tr th:only-of-type {\n",
       "        vertical-align: middle;\n",
       "    }\n",
       "\n",
       "    .dataframe tbody tr th {\n",
       "        vertical-align: top;\n",
       "    }\n",
       "\n",
       "    .dataframe thead th {\n",
       "        text-align: right;\n",
       "    }\n",
       "</style>\n",
       "<table border=\"1\" class=\"dataframe\">\n",
       "  <thead>\n",
       "    <tr style=\"text-align: right;\">\n",
       "      <th></th>\n",
       "      <th>order_id</th>\n",
       "      <th>order_item_id</th>\n",
       "      <th>product_id</th>\n",
       "      <th>price_total</th>\n",
       "      <th>seller_zip_code_prefix</th>\n",
       "      <th>geolocation_zip_code_prefix</th>\n",
       "    </tr>\n",
       "  </thead>\n",
       "  <tbody>\n",
       "    <tr>\n",
       "      <th>0</th>\n",
       "      <td>00010242fe8c5a6d1ba2dd792cb16214</td>\n",
       "      <td>1</td>\n",
       "      <td>4244733e06e7ecb4970a6e2683c13e61</td>\n",
       "      <td>72.19</td>\n",
       "      <td>27277</td>\n",
       "      <td>27277.0</td>\n",
       "    </tr>\n",
       "    <tr>\n",
       "      <th>1</th>\n",
       "      <td>0188777fe321843a18be24a6e9aa1e53</td>\n",
       "      <td>1</td>\n",
       "      <td>436c8d57ff8d4aa254318e9bd9b48c83</td>\n",
       "      <td>65.84</td>\n",
       "      <td>27277</td>\n",
       "      <td>27277.0</td>\n",
       "    </tr>\n",
       "    <tr>\n",
       "      <th>2</th>\n",
       "      <td>0191bbb5166d4b9a68df11797d5acfa9</td>\n",
       "      <td>1</td>\n",
       "      <td>ec02a5d380128f7a188e9ce8f3ddd832</td>\n",
       "      <td>153.07</td>\n",
       "      <td>27277</td>\n",
       "      <td>27277.0</td>\n",
       "    </tr>\n",
       "    <tr>\n",
       "      <th>3</th>\n",
       "      <td>03054d8a8eefc2981cfad06f58e27979</td>\n",
       "      <td>1</td>\n",
       "      <td>3e31fd1419cc4cd6adad1925e72e3a03</td>\n",
       "      <td>74.06</td>\n",
       "      <td>27277</td>\n",
       "      <td>27277.0</td>\n",
       "    </tr>\n",
       "    <tr>\n",
       "      <th>4</th>\n",
       "      <td>0c325ea6925de749e1420be0cf43587c</td>\n",
       "      <td>1</td>\n",
       "      <td>3a135477bf41350a0b1d8afdf616d446</td>\n",
       "      <td>156.64</td>\n",
       "      <td>27277</td>\n",
       "      <td>27277.0</td>\n",
       "    </tr>\n",
       "    <tr>\n",
       "      <th>...</th>\n",
       "      <td>...</td>\n",
       "      <td>...</td>\n",
       "      <td>...</td>\n",
       "      <td>...</td>\n",
       "      <td>...</td>\n",
       "      <td>...</td>\n",
       "    </tr>\n",
       "    <tr>\n",
       "      <th>112645</th>\n",
       "      <td>fdfeec75aa07c1d2a88b17b8fbfc7b8f</td>\n",
       "      <td>1</td>\n",
       "      <td>11059273f4bc1a293777e98c89807c62</td>\n",
       "      <td>218.13</td>\n",
       "      <td>14402</td>\n",
       "      <td>14402.0</td>\n",
       "    </tr>\n",
       "    <tr>\n",
       "      <th>112646</th>\n",
       "      <td>fe68b52db13993f58175fa589125d345</td>\n",
       "      <td>1</td>\n",
       "      <td>f4135cbdece8245560f7be179533797a</td>\n",
       "      <td>225.21</td>\n",
       "      <td>82620</td>\n",
       "      <td>82620.0</td>\n",
       "    </tr>\n",
       "    <tr>\n",
       "      <th>112647</th>\n",
       "      <td>fefacc66af859508bf1a7934eab1e97f</td>\n",
       "      <td>1</td>\n",
       "      <td>69c590f7ffc7bf8db97190b6cb6ed62e</td>\n",
       "      <td>6922.21</td>\n",
       "      <td>86026</td>\n",
       "      <td>86026.0</td>\n",
       "    </tr>\n",
       "    <tr>\n",
       "      <th>112648</th>\n",
       "      <td>ff701a7c869ad21de22a6994237c8a00</td>\n",
       "      <td>1</td>\n",
       "      <td>5ff4076c0f01eeba4f728c9e3fa2653c</td>\n",
       "      <td>42.34</td>\n",
       "      <td>3124</td>\n",
       "      <td>3124.0</td>\n",
       "    </tr>\n",
       "    <tr>\n",
       "      <th>112649</th>\n",
       "      <td>ff701a7c869ad21de22a6994237c8a00</td>\n",
       "      <td>2</td>\n",
       "      <td>5ff4076c0f01eeba4f728c9e3fa2653c</td>\n",
       "      <td>42.34</td>\n",
       "      <td>3124</td>\n",
       "      <td>3124.0</td>\n",
       "    </tr>\n",
       "  </tbody>\n",
       "</table>\n",
       "<p>112650 rows × 6 columns</p>\n",
       "</div>"
      ],
      "text/plain": [
       "                                order_id  order_item_id  \\\n",
       "0       00010242fe8c5a6d1ba2dd792cb16214              1   \n",
       "1       0188777fe321843a18be24a6e9aa1e53              1   \n",
       "2       0191bbb5166d4b9a68df11797d5acfa9              1   \n",
       "3       03054d8a8eefc2981cfad06f58e27979              1   \n",
       "4       0c325ea6925de749e1420be0cf43587c              1   \n",
       "...                                  ...            ...   \n",
       "112645  fdfeec75aa07c1d2a88b17b8fbfc7b8f              1   \n",
       "112646  fe68b52db13993f58175fa589125d345              1   \n",
       "112647  fefacc66af859508bf1a7934eab1e97f              1   \n",
       "112648  ff701a7c869ad21de22a6994237c8a00              1   \n",
       "112649  ff701a7c869ad21de22a6994237c8a00              2   \n",
       "\n",
       "                              product_id  price_total  seller_zip_code_prefix  \\\n",
       "0       4244733e06e7ecb4970a6e2683c13e61        72.19                   27277   \n",
       "1       436c8d57ff8d4aa254318e9bd9b48c83        65.84                   27277   \n",
       "2       ec02a5d380128f7a188e9ce8f3ddd832       153.07                   27277   \n",
       "3       3e31fd1419cc4cd6adad1925e72e3a03        74.06                   27277   \n",
       "4       3a135477bf41350a0b1d8afdf616d446       156.64                   27277   \n",
       "...                                  ...          ...                     ...   \n",
       "112645  11059273f4bc1a293777e98c89807c62       218.13                   14402   \n",
       "112646  f4135cbdece8245560f7be179533797a       225.21                   82620   \n",
       "112647  69c590f7ffc7bf8db97190b6cb6ed62e      6922.21                   86026   \n",
       "112648  5ff4076c0f01eeba4f728c9e3fa2653c        42.34                    3124   \n",
       "112649  5ff4076c0f01eeba4f728c9e3fa2653c        42.34                    3124   \n",
       "\n",
       "        geolocation_zip_code_prefix  \n",
       "0                           27277.0  \n",
       "1                           27277.0  \n",
       "2                           27277.0  \n",
       "3                           27277.0  \n",
       "4                           27277.0  \n",
       "...                             ...  \n",
       "112645                      14402.0  \n",
       "112646                      82620.0  \n",
       "112647                      86026.0  \n",
       "112648                       3124.0  \n",
       "112649                       3124.0  \n",
       "\n",
       "[112650 rows x 6 columns]"
      ]
     },
     "execution_count": 679,
     "metadata": {},
     "output_type": "execute_result"
    },
    {
     "data": {
      "application/javascript": [
       "\n",
       "            setTimeout(function() {\n",
       "                var nbb_cell_id = 679;\n",
       "                var nbb_unformatted_code = \"df_items_sellers_geolocation\";\n",
       "                var nbb_formatted_code = \"df_items_sellers_geolocation\";\n",
       "                var nbb_cells = Jupyter.notebook.get_cells();\n",
       "                for (var i = 0; i < nbb_cells.length; ++i) {\n",
       "                    if (nbb_cells[i].input_prompt_number == nbb_cell_id) {\n",
       "                        if (nbb_cells[i].get_text() == nbb_unformatted_code) {\n",
       "                             nbb_cells[i].set_text(nbb_formatted_code);\n",
       "                        }\n",
       "                        break;\n",
       "                    }\n",
       "                }\n",
       "            }, 500);\n",
       "            "
      ],
      "text/plain": [
       "<IPython.core.display.Javascript object>"
      ]
     },
     "metadata": {},
     "output_type": "display_data"
    }
   ],
   "source": [
    "df_items_sellers_geolocation"
   ]
  },
  {
   "cell_type": "markdown",
   "id": "7c0bc4a9",
   "metadata": {},
   "source": [
    "# Produits / categoryname "
   ]
  },
  {
   "cell_type": "markdown",
   "id": "7436a4e5",
   "metadata": {},
   "source": [
    "**products**"
   ]
  },
  {
   "cell_type": "code",
   "execution_count": 680,
   "id": "eb50136c",
   "metadata": {},
   "outputs": [
    {
     "data": {
      "application/javascript": [
       "\n",
       "            setTimeout(function() {\n",
       "                var nbb_cell_id = 680;\n",
       "                var nbb_unformatted_code = \"df_products.info()\";\n",
       "                var nbb_formatted_code = \"df_products.info()\";\n",
       "                var nbb_cells = Jupyter.notebook.get_cells();\n",
       "                for (var i = 0; i < nbb_cells.length; ++i) {\n",
       "                    if (nbb_cells[i].input_prompt_number == nbb_cell_id) {\n",
       "                        if (nbb_cells[i].get_text() == nbb_unformatted_code) {\n",
       "                             nbb_cells[i].set_text(nbb_formatted_code);\n",
       "                        }\n",
       "                        break;\n",
       "                    }\n",
       "                }\n",
       "            }, 500);\n",
       "            "
      ],
      "text/plain": [
       "<IPython.core.display.Javascript object>"
      ]
     },
     "metadata": {},
     "output_type": "display_data"
    }
   ],
   "source": [
    "df_products.info()"
   ]
  },
  {
   "cell_type": "markdown",
   "id": "330d7a65",
   "metadata": {},
   "source": [
    "On supprime les variables qui ne nous intéressent pas."
   ]
  },
  {
   "cell_type": "code",
   "execution_count": 681,
   "id": "3efbeb85",
   "metadata": {},
   "outputs": [
    {
     "data": {
      "application/javascript": [
       "\n",
       "            setTimeout(function() {\n",
       "                var nbb_cell_id = 681;\n",
       "                var nbb_unformatted_code = \"del df_products[\\\"product_name_lenght\\\"]\\ndel df_products[\\\"product_description_lenght\\\"]\\ndel df_products[\\\"product_photos_qty\\\"]\\ndel df_products[\\\"product_weight_g\\\"]\\ndel df_products[\\\"product_length_cm\\\"]\\ndel df_products[\\\"product_height_cm\\\"]\\ndel df_products[\\\"product_width_cm\\\"]\";\n",
       "                var nbb_formatted_code = \"del df_products[\\\"product_name_lenght\\\"]\\ndel df_products[\\\"product_description_lenght\\\"]\\ndel df_products[\\\"product_photos_qty\\\"]\\ndel df_products[\\\"product_weight_g\\\"]\\ndel df_products[\\\"product_length_cm\\\"]\\ndel df_products[\\\"product_height_cm\\\"]\\ndel df_products[\\\"product_width_cm\\\"]\";\n",
       "                var nbb_cells = Jupyter.notebook.get_cells();\n",
       "                for (var i = 0; i < nbb_cells.length; ++i) {\n",
       "                    if (nbb_cells[i].input_prompt_number == nbb_cell_id) {\n",
       "                        if (nbb_cells[i].get_text() == nbb_unformatted_code) {\n",
       "                             nbb_cells[i].set_text(nbb_formatted_code);\n",
       "                        }\n",
       "                        break;\n",
       "                    }\n",
       "                }\n",
       "            }, 500);\n",
       "            "
      ],
      "text/plain": [
       "<IPython.core.display.Javascript object>"
      ]
     },
     "metadata": {},
     "output_type": "display_data"
    }
   ],
   "source": [
    "del df_products[\"product_name_lenght\"]\n",
    "del df_products[\"product_description_lenght\"]\n",
    "del df_products[\"product_photos_qty\"]\n",
    "del df_products[\"product_weight_g\"]\n",
    "del df_products[\"product_length_cm\"]\n",
    "del df_products[\"product_height_cm\"]\n",
    "del df_products[\"product_width_cm\"]"
   ]
  },
  {
   "cell_type": "markdown",
   "id": "b3583749",
   "metadata": {},
   "source": [
    "**categoryname**"
   ]
  },
  {
   "cell_type": "code",
   "execution_count": 682,
   "id": "acea67f7",
   "metadata": {},
   "outputs": [
    {
     "data": {
      "application/javascript": [
       "\n",
       "            setTimeout(function() {\n",
       "                var nbb_cell_id = 682;\n",
       "                var nbb_unformatted_code = \"df_categoryname.info()\";\n",
       "                var nbb_formatted_code = \"df_categoryname.info()\";\n",
       "                var nbb_cells = Jupyter.notebook.get_cells();\n",
       "                for (var i = 0; i < nbb_cells.length; ++i) {\n",
       "                    if (nbb_cells[i].input_prompt_number == nbb_cell_id) {\n",
       "                        if (nbb_cells[i].get_text() == nbb_unformatted_code) {\n",
       "                             nbb_cells[i].set_text(nbb_formatted_code);\n",
       "                        }\n",
       "                        break;\n",
       "                    }\n",
       "                }\n",
       "            }, 500);\n",
       "            "
      ],
      "text/plain": [
       "<IPython.core.display.Javascript object>"
      ]
     },
     "metadata": {},
     "output_type": "display_data"
    }
   ],
   "source": [
    "df_categoryname.info()"
   ]
  },
  {
   "cell_type": "markdown",
   "id": "6ba4ded4",
   "metadata": {},
   "source": [
    "**products et categoryname**\n"
   ]
  },
  {
   "cell_type": "code",
   "execution_count": 683,
   "id": "99d1bfc4",
   "metadata": {},
   "outputs": [
    {
     "data": {
      "text/html": [
       "<div>\n",
       "<style scoped>\n",
       "    .dataframe tbody tr th:only-of-type {\n",
       "        vertical-align: middle;\n",
       "    }\n",
       "\n",
       "    .dataframe tbody tr th {\n",
       "        vertical-align: top;\n",
       "    }\n",
       "\n",
       "    .dataframe thead th {\n",
       "        text-align: right;\n",
       "    }\n",
       "</style>\n",
       "<table border=\"1\" class=\"dataframe\">\n",
       "  <thead>\n",
       "    <tr style=\"text-align: right;\">\n",
       "      <th></th>\n",
       "      <th>Dataset</th>\n",
       "      <th>Shape</th>\n",
       "      <th>Variable</th>\n",
       "      <th>Duplicates</th>\n",
       "      <th>Unique</th>\n",
       "      <th>Null</th>\n",
       "    </tr>\n",
       "  </thead>\n",
       "  <tbody>\n",
       "    <tr>\n",
       "      <th>13</th>\n",
       "      <td>products</td>\n",
       "      <td>32951</td>\n",
       "      <td>product_id</td>\n",
       "      <td>0</td>\n",
       "      <td>32951</td>\n",
       "      <td>0</td>\n",
       "    </tr>\n",
       "    <tr>\n",
       "      <th>14</th>\n",
       "      <td>products</td>\n",
       "      <td>32951</td>\n",
       "      <td>product_category_name</td>\n",
       "      <td>32877</td>\n",
       "      <td>74</td>\n",
       "      <td>610</td>\n",
       "    </tr>\n",
       "    <tr>\n",
       "      <th>15</th>\n",
       "      <td>categoryname</td>\n",
       "      <td>71</td>\n",
       "      <td>product_category_name</td>\n",
       "      <td>0</td>\n",
       "      <td>71</td>\n",
       "      <td>0</td>\n",
       "    </tr>\n",
       "  </tbody>\n",
       "</table>\n",
       "</div>"
      ],
      "text/plain": [
       "         Dataset  Shape               Variable  Duplicates  Unique  Null\n",
       "13      products  32951             product_id           0   32951     0\n",
       "14      products  32951  product_category_name       32877      74   610\n",
       "15  categoryname     71  product_category_name           0      71     0"
      ]
     },
     "execution_count": 683,
     "metadata": {},
     "output_type": "execute_result"
    },
    {
     "data": {
      "application/javascript": [
       "\n",
       "            setTimeout(function() {\n",
       "                var nbb_cell_id = 683;\n",
       "                var nbb_unformatted_code = \"data_model(df_products, \\\"products\\\", \\\"product_id\\\")\\ndata_model(df_products, \\\"products\\\", \\\"product_category_name\\\")\\ndata_model(df_categoryname, \\\"categoryname\\\", \\\"product_category_name\\\", 1, 3)\";\n",
       "                var nbb_formatted_code = \"data_model(df_products, \\\"products\\\", \\\"product_id\\\")\\ndata_model(df_products, \\\"products\\\", \\\"product_category_name\\\")\\ndata_model(df_categoryname, \\\"categoryname\\\", \\\"product_category_name\\\", 1, 3)\";\n",
       "                var nbb_cells = Jupyter.notebook.get_cells();\n",
       "                for (var i = 0; i < nbb_cells.length; ++i) {\n",
       "                    if (nbb_cells[i].input_prompt_number == nbb_cell_id) {\n",
       "                        if (nbb_cells[i].get_text() == nbb_unformatted_code) {\n",
       "                             nbb_cells[i].set_text(nbb_formatted_code);\n",
       "                        }\n",
       "                        break;\n",
       "                    }\n",
       "                }\n",
       "            }, 500);\n",
       "            "
      ],
      "text/plain": [
       "<IPython.core.display.Javascript object>"
      ]
     },
     "metadata": {},
     "output_type": "display_data"
    }
   ],
   "source": [
    "data_model(df_products, \"products\", \"product_id\")\n",
    "data_model(df_products, \"products\", \"product_category_name\")\n",
    "data_model(df_categoryname, \"categoryname\", \"product_category_name\", 1, 3)"
   ]
  },
  {
   "cell_type": "code",
   "execution_count": 684,
   "id": "9d01c8f9",
   "metadata": {},
   "outputs": [
    {
     "data": {
      "application/javascript": [
       "\n",
       "            setTimeout(function() {\n",
       "                var nbb_cell_id = 684;\n",
       "                var nbb_unformatted_code = \"data_model_2(\\n    df_products,\\n    df_categoryname,\\n    \\\"products\\\",\\n    \\\"categoryname\\\",\\n    \\\"product_category_name\\\",\\n    \\\"product_category_name\\\",\\n)\";\n",
       "                var nbb_formatted_code = \"data_model_2(\\n    df_products,\\n    df_categoryname,\\n    \\\"products\\\",\\n    \\\"categoryname\\\",\\n    \\\"product_category_name\\\",\\n    \\\"product_category_name\\\",\\n)\";\n",
       "                var nbb_cells = Jupyter.notebook.get_cells();\n",
       "                for (var i = 0; i < nbb_cells.length; ++i) {\n",
       "                    if (nbb_cells[i].input_prompt_number == nbb_cell_id) {\n",
       "                        if (nbb_cells[i].get_text() == nbb_unformatted_code) {\n",
       "                             nbb_cells[i].set_text(nbb_formatted_code);\n",
       "                        }\n",
       "                        break;\n",
       "                    }\n",
       "                }\n",
       "            }, 500);\n",
       "            "
      ],
      "text/plain": [
       "<IPython.core.display.Javascript object>"
      ]
     },
     "metadata": {},
     "output_type": "display_data"
    }
   ],
   "source": [
    "data_model_2(\n",
    "    df_products,\n",
    "    df_categoryname,\n",
    "    \"products\",\n",
    "    \"categoryname\",\n",
    "    \"product_category_name\",\n",
    "    \"product_category_name\",\n",
    ")"
   ]
  },
  {
   "cell_type": "markdown",
   "id": "926892f4",
   "metadata": {},
   "source": [
    "**Fusion products / categoryname**"
   ]
  },
  {
   "cell_type": "markdown",
   "id": "20d93cb2",
   "metadata": {},
   "source": [
    "Il existe plusieurs produits dont la catégorie n'est pas renseignée dans le dataset *categoryname* pour 2 raisons:\n",
    "\n",
    "La valeur de catégorie du dataset *products* n'existe pas dans le dataset *categoryname*\n",
    "\n",
    "La valeur de catégorie du dataset *products* est nulle"
   ]
  },
  {
   "cell_type": "markdown",
   "id": "186323b1",
   "metadata": {},
   "source": [
    "On fusionne donc les datasets *products* et *categoryname* avec une contrainte de correspondance facultative sur *categoryname* (left join)."
   ]
  },
  {
   "cell_type": "code",
   "execution_count": 685,
   "id": "8e1304ce",
   "metadata": {},
   "outputs": [
    {
     "data": {
      "application/javascript": [
       "\n",
       "            setTimeout(function() {\n",
       "                var nbb_cell_id = 685;\n",
       "                var nbb_unformatted_code = \"df_products_categoryname = df_products.merge(\\n    df_categoryname,\\n    left_on=\\\"product_category_name\\\",\\n    right_on=\\\"product_category_name\\\",\\n    how=\\\"left\\\",\\n)\\ndf_products_categoryname.info()\";\n",
       "                var nbb_formatted_code = \"df_products_categoryname = df_products.merge(\\n    df_categoryname,\\n    left_on=\\\"product_category_name\\\",\\n    right_on=\\\"product_category_name\\\",\\n    how=\\\"left\\\",\\n)\\ndf_products_categoryname.info()\";\n",
       "                var nbb_cells = Jupyter.notebook.get_cells();\n",
       "                for (var i = 0; i < nbb_cells.length; ++i) {\n",
       "                    if (nbb_cells[i].input_prompt_number == nbb_cell_id) {\n",
       "                        if (nbb_cells[i].get_text() == nbb_unformatted_code) {\n",
       "                             nbb_cells[i].set_text(nbb_formatted_code);\n",
       "                        }\n",
       "                        break;\n",
       "                    }\n",
       "                }\n",
       "            }, 500);\n",
       "            "
      ],
      "text/plain": [
       "<IPython.core.display.Javascript object>"
      ]
     },
     "metadata": {},
     "output_type": "display_data"
    }
   ],
   "source": [
    "df_products_categoryname = df_products.merge(\n",
    "    df_categoryname,\n",
    "    left_on=\"product_category_name\",\n",
    "    right_on=\"product_category_name\",\n",
    "    how=\"left\",\n",
    ")\n",
    "df_products_categoryname.info()"
   ]
  },
  {
   "cell_type": "code",
   "execution_count": 686,
   "id": "cb47174e",
   "metadata": {},
   "outputs": [
    {
     "data": {
      "application/javascript": [
       "\n",
       "            setTimeout(function() {\n",
       "                var nbb_cell_id = 686;\n",
       "                var nbb_unformatted_code = \"print(\\\"Dimensions df_products_categoryname\\\", df_products_categoryname.shape)\";\n",
       "                var nbb_formatted_code = \"print(\\\"Dimensions df_products_categoryname\\\", df_products_categoryname.shape)\";\n",
       "                var nbb_cells = Jupyter.notebook.get_cells();\n",
       "                for (var i = 0; i < nbb_cells.length; ++i) {\n",
       "                    if (nbb_cells[i].input_prompt_number == nbb_cell_id) {\n",
       "                        if (nbb_cells[i].get_text() == nbb_unformatted_code) {\n",
       "                             nbb_cells[i].set_text(nbb_formatted_code);\n",
       "                        }\n",
       "                        break;\n",
       "                    }\n",
       "                }\n",
       "            }, 500);\n",
       "            "
      ],
      "text/plain": [
       "<IPython.core.display.Javascript object>"
      ]
     },
     "metadata": {},
     "output_type": "display_data"
    }
   ],
   "source": [
    "print(\"Dimensions df_products_categoryname\", df_products_categoryname.shape)"
   ]
  },
  {
   "cell_type": "markdown",
   "id": "71329fe4",
   "metadata": {},
   "source": [
    "#  Articles-vendeur-Geolocalisation/ProduIts-categoryname"
   ]
  },
  {
   "cell_type": "markdown",
   "id": "2f550201",
   "metadata": {},
   "source": [
    "**items_sellers_geolocation vs products_categoryname**"
   ]
  },
  {
   "cell_type": "code",
   "execution_count": 687,
   "id": "a64cb2ad",
   "metadata": {},
   "outputs": [
    {
     "data": {
      "text/html": [
       "<div>\n",
       "<style scoped>\n",
       "    .dataframe tbody tr th:only-of-type {\n",
       "        vertical-align: middle;\n",
       "    }\n",
       "\n",
       "    .dataframe tbody tr th {\n",
       "        vertical-align: top;\n",
       "    }\n",
       "\n",
       "    .dataframe thead th {\n",
       "        text-align: right;\n",
       "    }\n",
       "</style>\n",
       "<table border=\"1\" class=\"dataframe\">\n",
       "  <thead>\n",
       "    <tr style=\"text-align: right;\">\n",
       "      <th></th>\n",
       "      <th>Dataset</th>\n",
       "      <th>Shape</th>\n",
       "      <th>Variable</th>\n",
       "      <th>Duplicates</th>\n",
       "      <th>Unique</th>\n",
       "      <th>Null</th>\n",
       "    </tr>\n",
       "  </thead>\n",
       "  <tbody>\n",
       "    <tr>\n",
       "      <th>16</th>\n",
       "      <td>items_sellers_geolocation</td>\n",
       "      <td>112650</td>\n",
       "      <td>product_id</td>\n",
       "      <td>79699</td>\n",
       "      <td>32951</td>\n",
       "      <td>0</td>\n",
       "    </tr>\n",
       "    <tr>\n",
       "      <th>17</th>\n",
       "      <td>products_categoryname</td>\n",
       "      <td>32951</td>\n",
       "      <td>product_id</td>\n",
       "      <td>0</td>\n",
       "      <td>32951</td>\n",
       "      <td>0</td>\n",
       "    </tr>\n",
       "  </tbody>\n",
       "</table>\n",
       "</div>"
      ],
      "text/plain": [
       "                      Dataset   Shape    Variable  Duplicates  Unique  Null\n",
       "16  items_sellers_geolocation  112650  product_id       79699   32951     0\n",
       "17      products_categoryname   32951  product_id           0   32951     0"
      ]
     },
     "execution_count": 687,
     "metadata": {},
     "output_type": "execute_result"
    },
    {
     "name": "stderr",
     "output_type": "stream",
     "text": [
      "1:80: E501 line too long (83 > 79 characters)\n",
      "INFO:pycodestyle:1:80: E501 line too long (83 > 79 characters)\n",
      "2:80: E501 line too long (81 > 79 characters)\n",
      "INFO:pycodestyle:2:80: E501 line too long (81 > 79 characters)\n"
     ]
    },
    {
     "data": {
      "application/javascript": [
       "\n",
       "            setTimeout(function() {\n",
       "                var nbb_cell_id = 687;\n",
       "                var nbb_unformatted_code = \"data_model(df_items_sellers_geolocation, \\\"items_sellers_geolocation\\\", \\\"product_id\\\")\\ndata_model(df_products_categoryname, \\\"products_categoryname\\\", \\\"product_id\\\", 1, 2)\";\n",
       "                var nbb_formatted_code = \"data_model(df_items_sellers_geolocation, \\\"items_sellers_geolocation\\\", \\\"product_id\\\")\\ndata_model(df_products_categoryname, \\\"products_categoryname\\\", \\\"product_id\\\", 1, 2)\";\n",
       "                var nbb_cells = Jupyter.notebook.get_cells();\n",
       "                for (var i = 0; i < nbb_cells.length; ++i) {\n",
       "                    if (nbb_cells[i].input_prompt_number == nbb_cell_id) {\n",
       "                        if (nbb_cells[i].get_text() == nbb_unformatted_code) {\n",
       "                             nbb_cells[i].set_text(nbb_formatted_code);\n",
       "                        }\n",
       "                        break;\n",
       "                    }\n",
       "                }\n",
       "            }, 500);\n",
       "            "
      ],
      "text/plain": [
       "<IPython.core.display.Javascript object>"
      ]
     },
     "metadata": {},
     "output_type": "display_data"
    }
   ],
   "source": [
    "data_model(df_items_sellers_geolocation, \"items_sellers_geolocation\", \"product_id\")\n",
    "data_model(df_products_categoryname, \"products_categoryname\", \"product_id\", 1, 2)"
   ]
  },
  {
   "cell_type": "code",
   "execution_count": 688,
   "id": "da5a4a8e",
   "metadata": {},
   "outputs": [
    {
     "data": {
      "application/javascript": [
       "\n",
       "            setTimeout(function() {\n",
       "                var nbb_cell_id = 688;\n",
       "                var nbb_unformatted_code = \"data_model_2(\\n    df_items_sellers_geolocation,\\n    df_products_categoryname,\\n    \\\"items_sellers_geolocation\\\",\\n    \\\"products_categoryname\\\",\\n    \\\"product_id\\\",\\n    \\\"product_id\\\",\\n)\";\n",
       "                var nbb_formatted_code = \"data_model_2(\\n    df_items_sellers_geolocation,\\n    df_products_categoryname,\\n    \\\"items_sellers_geolocation\\\",\\n    \\\"products_categoryname\\\",\\n    \\\"product_id\\\",\\n    \\\"product_id\\\",\\n)\";\n",
       "                var nbb_cells = Jupyter.notebook.get_cells();\n",
       "                for (var i = 0; i < nbb_cells.length; ++i) {\n",
       "                    if (nbb_cells[i].input_prompt_number == nbb_cell_id) {\n",
       "                        if (nbb_cells[i].get_text() == nbb_unformatted_code) {\n",
       "                             nbb_cells[i].set_text(nbb_formatted_code);\n",
       "                        }\n",
       "                        break;\n",
       "                    }\n",
       "                }\n",
       "            }, 500);\n",
       "            "
      ],
      "text/plain": [
       "<IPython.core.display.Javascript object>"
      ]
     },
     "metadata": {},
     "output_type": "display_data"
    }
   ],
   "source": [
    "data_model_2(\n",
    "    df_items_sellers_geolocation,\n",
    "    df_products_categoryname,\n",
    "    \"items_sellers_geolocation\",\n",
    "    \"products_categoryname\",\n",
    "    \"product_id\",\n",
    "    \"product_id\",\n",
    ")"
   ]
  },
  {
   "cell_type": "markdown",
   "id": "9c060c40",
   "metadata": {},
   "source": [
    "**Fusion - items_sellers_geolocation / products_categoryname**"
   ]
  },
  {
   "cell_type": "markdown",
   "id": "e0d8df73",
   "metadata": {},
   "source": [
    "Tous les produits ont été référencés au moins une fois dans le dataset *items_sellers_geolocation* et chaque enregistrement de *items_sellers_geolocation* a une référence dans *products_categoryname*."
   ]
  },
  {
   "cell_type": "markdown",
   "id": "52aa6ead",
   "metadata": {},
   "source": [
    "On fusionne donc les datasets *order_items* et *products* avec une contrainte de correspondance nécessaire (inner join).\n",
    "\n",
    "L'objectif est de connaitre le type de produit par commande."
   ]
  },
  {
   "cell_type": "code",
   "execution_count": 689,
   "id": "5be33850",
   "metadata": {},
   "outputs": [
    {
     "name": "stderr",
     "output_type": "stream",
     "text": [
      "1:80: E501 line too long (88 > 79 characters)\n",
      "INFO:pycodestyle:1:80: E501 line too long (88 > 79 characters)\n",
      "2:80: E501 line too long (86 > 79 characters)\n",
      "INFO:pycodestyle:2:80: E501 line too long (86 > 79 characters)\n"
     ]
    },
    {
     "data": {
      "application/javascript": [
       "\n",
       "            setTimeout(function() {\n",
       "                var nbb_cell_id = 689;\n",
       "                var nbb_unformatted_code = \"df_items_sellers_geolocation_products_categoryname = df_items_sellers_geolocation.merge(\\n    df_products_categoryname, left_on=\\\"product_id\\\", right_on=\\\"product_id\\\", how=\\\"inner\\\"\\n)\\n\\ndf_items_sellers_geolocation_products_categoryname.info()\";\n",
       "                var nbb_formatted_code = \"df_items_sellers_geolocation_products_categoryname = df_items_sellers_geolocation.merge(\\n    df_products_categoryname, left_on=\\\"product_id\\\", right_on=\\\"product_id\\\", how=\\\"inner\\\"\\n)\\n\\ndf_items_sellers_geolocation_products_categoryname.info()\";\n",
       "                var nbb_cells = Jupyter.notebook.get_cells();\n",
       "                for (var i = 0; i < nbb_cells.length; ++i) {\n",
       "                    if (nbb_cells[i].input_prompt_number == nbb_cell_id) {\n",
       "                        if (nbb_cells[i].get_text() == nbb_unformatted_code) {\n",
       "                             nbb_cells[i].set_text(nbb_formatted_code);\n",
       "                        }\n",
       "                        break;\n",
       "                    }\n",
       "                }\n",
       "            }, 500);\n",
       "            "
      ],
      "text/plain": [
       "<IPython.core.display.Javascript object>"
      ]
     },
     "metadata": {},
     "output_type": "display_data"
    }
   ],
   "source": [
    "df_items_sellers_geolocation_products_categoryname = df_items_sellers_geolocation.merge(\n",
    "    df_products_categoryname, left_on=\"product_id\", right_on=\"product_id\", how=\"inner\"\n",
    ")\n",
    "\n",
    "df_items_sellers_geolocation_products_categoryname.info()"
   ]
  },
  {
   "cell_type": "code",
   "execution_count": 690,
   "id": "442d5f6c",
   "metadata": {},
   "outputs": [
    {
     "data": {
      "application/javascript": [
       "\n",
       "            setTimeout(function() {\n",
       "                var nbb_cell_id = 690;\n",
       "                var nbb_unformatted_code = \"print(\\n    \\\"Dimensions df_items_sellers_geolocation_products_categoryname\\\",\\n    df_items_sellers_geolocation_products_categoryname.shape,\\n)\";\n",
       "                var nbb_formatted_code = \"print(\\n    \\\"Dimensions df_items_sellers_geolocation_products_categoryname\\\",\\n    df_items_sellers_geolocation_products_categoryname.shape,\\n)\";\n",
       "                var nbb_cells = Jupyter.notebook.get_cells();\n",
       "                for (var i = 0; i < nbb_cells.length; ++i) {\n",
       "                    if (nbb_cells[i].input_prompt_number == nbb_cell_id) {\n",
       "                        if (nbb_cells[i].get_text() == nbb_unformatted_code) {\n",
       "                             nbb_cells[i].set_text(nbb_formatted_code);\n",
       "                        }\n",
       "                        break;\n",
       "                    }\n",
       "                }\n",
       "            }, 500);\n",
       "            "
      ],
      "text/plain": [
       "<IPython.core.display.Javascript object>"
      ]
     },
     "metadata": {},
     "output_type": "display_data"
    }
   ],
   "source": [
    "print(\n",
    "    \"Dimensions df_items_sellers_geolocation_products_categoryname\",\n",
    "    df_items_sellers_geolocation_products_categoryname.shape,\n",
    ")"
   ]
  },
  {
   "cell_type": "markdown",
   "id": "ed6ba57c",
   "metadata": {},
   "source": [
    "**Montant par commande**"
   ]
  },
  {
   "cell_type": "code",
   "execution_count": 691,
   "id": "12f7e37f",
   "metadata": {},
   "outputs": [
    {
     "name": "stderr",
     "output_type": "stream",
     "text": [
      "1:80: E501 line too long (115 > 79 characters)\n",
      "INFO:pycodestyle:1:80: E501 line too long (115 > 79 characters)\n"
     ]
    },
    {
     "data": {
      "application/javascript": [
       "\n",
       "            setTimeout(function() {\n",
       "                var nbb_cell_id = 691;\n",
       "                var nbb_unformatted_code = \"df_items_sellers_geolocation_products_categoryname_gr = df_items_sellers_geolocation_products_categoryname.groupby(\\n    \\\"order_id\\\"\\n).agg(\\n    {\\\"price_total\\\": \\\"sum\\\"}\\n)\\n\\ndf_items_sellers_geolocation_products_categoryname_gr = (\\n    df_items_sellers_geolocation_products_categoryname_gr.reset_index()\\n)\\n\\n# On renomme les colonnes\\ndf_items_sellers_geolocation_products_categoryname_gr.columns = [\\n    \\\"order_id\\\",\\n    \\\"montant_total\\\",\\n]\";\n",
       "                var nbb_formatted_code = \"df_items_sellers_geolocation_products_categoryname_gr = df_items_sellers_geolocation_products_categoryname.groupby(\\n    \\\"order_id\\\"\\n).agg(\\n    {\\\"price_total\\\": \\\"sum\\\"}\\n)\\n\\ndf_items_sellers_geolocation_products_categoryname_gr = (\\n    df_items_sellers_geolocation_products_categoryname_gr.reset_index()\\n)\\n\\n# On renomme les colonnes\\ndf_items_sellers_geolocation_products_categoryname_gr.columns = [\\n    \\\"order_id\\\",\\n    \\\"montant_total\\\",\\n]\";\n",
       "                var nbb_cells = Jupyter.notebook.get_cells();\n",
       "                for (var i = 0; i < nbb_cells.length; ++i) {\n",
       "                    if (nbb_cells[i].input_prompt_number == nbb_cell_id) {\n",
       "                        if (nbb_cells[i].get_text() == nbb_unformatted_code) {\n",
       "                             nbb_cells[i].set_text(nbb_formatted_code);\n",
       "                        }\n",
       "                        break;\n",
       "                    }\n",
       "                }\n",
       "            }, 500);\n",
       "            "
      ],
      "text/plain": [
       "<IPython.core.display.Javascript object>"
      ]
     },
     "metadata": {},
     "output_type": "display_data"
    }
   ],
   "source": [
    "df_items_sellers_geolocation_products_categoryname_gr = df_items_sellers_geolocation_products_categoryname.groupby(\n",
    "    \"order_id\"\n",
    ").agg(\n",
    "    {\"price_total\": \"sum\"}\n",
    ")\n",
    "\n",
    "df_items_sellers_geolocation_products_categoryname_gr = (\n",
    "    df_items_sellers_geolocation_products_categoryname_gr.reset_index()\n",
    ")\n",
    "\n",
    "# On renomme les colonnes\n",
    "df_items_sellers_geolocation_products_categoryname_gr.columns = [\n",
    "    \"order_id\",\n",
    "    \"montant_total\",\n",
    "]"
   ]
  },
  {
   "cell_type": "code",
   "execution_count": 692,
   "id": "966da626",
   "metadata": {},
   "outputs": [
    {
     "data": {
      "application/javascript": [
       "\n",
       "            setTimeout(function() {\n",
       "                var nbb_cell_id = 692;\n",
       "                var nbb_unformatted_code = \"df_items_sellers_geolocation_products_categoryname_gr.info()\";\n",
       "                var nbb_formatted_code = \"df_items_sellers_geolocation_products_categoryname_gr.info()\";\n",
       "                var nbb_cells = Jupyter.notebook.get_cells();\n",
       "                for (var i = 0; i < nbb_cells.length; ++i) {\n",
       "                    if (nbb_cells[i].input_prompt_number == nbb_cell_id) {\n",
       "                        if (nbb_cells[i].get_text() == nbb_unformatted_code) {\n",
       "                             nbb_cells[i].set_text(nbb_formatted_code);\n",
       "                        }\n",
       "                        break;\n",
       "                    }\n",
       "                }\n",
       "            }, 500);\n",
       "            "
      ],
      "text/plain": [
       "<IPython.core.display.Javascript object>"
      ]
     },
     "metadata": {},
     "output_type": "display_data"
    }
   ],
   "source": [
    "df_items_sellers_geolocation_products_categoryname_gr.info()"
   ]
  },
  {
   "cell_type": "markdown",
   "id": "62821ffc",
   "metadata": {},
   "source": [
    "# Fusion 3: "
   ]
  },
  {
   "cell_type": "markdown",
   "id": "ace600b5",
   "metadata": {},
   "source": [
    "# customers_geolocation_orders_reviews / items_sellers_geolocation_products_categoryname_gr"
   ]
  },
  {
   "cell_type": "markdown",
   "id": "7e76b658",
   "metadata": {},
   "source": [
    "**customers_geolocation_orders_reviews et items_sellers_geolocation_products_categoryname**"
   ]
  },
  {
   "cell_type": "code",
   "execution_count": 693,
   "id": "9215fb00",
   "metadata": {},
   "outputs": [
    {
     "data": {
      "text/html": [
       "<div>\n",
       "<style scoped>\n",
       "    .dataframe tbody tr th:only-of-type {\n",
       "        vertical-align: middle;\n",
       "    }\n",
       "\n",
       "    .dataframe tbody tr th {\n",
       "        vertical-align: top;\n",
       "    }\n",
       "\n",
       "    .dataframe thead th {\n",
       "        text-align: right;\n",
       "    }\n",
       "</style>\n",
       "<table border=\"1\" class=\"dataframe\">\n",
       "  <thead>\n",
       "    <tr style=\"text-align: right;\">\n",
       "      <th></th>\n",
       "      <th>Dataset</th>\n",
       "      <th>Shape</th>\n",
       "      <th>Variable</th>\n",
       "      <th>Duplicates</th>\n",
       "      <th>Unique</th>\n",
       "      <th>Null</th>\n",
       "    </tr>\n",
       "  </thead>\n",
       "  <tbody>\n",
       "    <tr>\n",
       "      <th>18</th>\n",
       "      <td>items_sellers_geolocation_products_categoryname</td>\n",
       "      <td>98666</td>\n",
       "      <td>order_id</td>\n",
       "      <td>0</td>\n",
       "      <td>98666</td>\n",
       "      <td>0</td>\n",
       "    </tr>\n",
       "    <tr>\n",
       "      <th>19</th>\n",
       "      <td>customers_geolocation_orders_reviews</td>\n",
       "      <td>99441</td>\n",
       "      <td>order_id</td>\n",
       "      <td>0</td>\n",
       "      <td>99441</td>\n",
       "      <td>0</td>\n",
       "    </tr>\n",
       "  </tbody>\n",
       "</table>\n",
       "</div>"
      ],
      "text/plain": [
       "                                            Dataset  Shape  Variable  \\\n",
       "18  items_sellers_geolocation_products_categoryname  98666  order_id   \n",
       "19             customers_geolocation_orders_reviews  99441  order_id   \n",
       "\n",
       "    Duplicates  Unique  Null  \n",
       "18           0   98666     0  \n",
       "19           0   99441     0  "
      ]
     },
     "execution_count": 693,
     "metadata": {},
     "output_type": "execute_result"
    },
    {
     "data": {
      "application/javascript": [
       "\n",
       "            setTimeout(function() {\n",
       "                var nbb_cell_id = 693;\n",
       "                var nbb_unformatted_code = \"data_model(\\n    df_items_sellers_geolocation_products_categoryname_gr,\\n    \\\"items_sellers_geolocation_products_categoryname\\\",\\n    \\\"order_id\\\",\\n)\\ndata_model(\\n    df_customers_geolocation_orders_reviews,\\n    \\\"customers_geolocation_orders_reviews\\\",\\n    \\\"order_id\\\",\\n    1,\\n    2,\\n)\";\n",
       "                var nbb_formatted_code = \"data_model(\\n    df_items_sellers_geolocation_products_categoryname_gr,\\n    \\\"items_sellers_geolocation_products_categoryname\\\",\\n    \\\"order_id\\\",\\n)\\ndata_model(\\n    df_customers_geolocation_orders_reviews,\\n    \\\"customers_geolocation_orders_reviews\\\",\\n    \\\"order_id\\\",\\n    1,\\n    2,\\n)\";\n",
       "                var nbb_cells = Jupyter.notebook.get_cells();\n",
       "                for (var i = 0; i < nbb_cells.length; ++i) {\n",
       "                    if (nbb_cells[i].input_prompt_number == nbb_cell_id) {\n",
       "                        if (nbb_cells[i].get_text() == nbb_unformatted_code) {\n",
       "                             nbb_cells[i].set_text(nbb_formatted_code);\n",
       "                        }\n",
       "                        break;\n",
       "                    }\n",
       "                }\n",
       "            }, 500);\n",
       "            "
      ],
      "text/plain": [
       "<IPython.core.display.Javascript object>"
      ]
     },
     "metadata": {},
     "output_type": "display_data"
    }
   ],
   "source": [
    "data_model(\n",
    "    df_items_sellers_geolocation_products_categoryname_gr,\n",
    "    \"items_sellers_geolocation_products_categoryname\",\n",
    "    \"order_id\",\n",
    ")\n",
    "data_model(\n",
    "    df_customers_geolocation_orders_reviews,\n",
    "    \"customers_geolocation_orders_reviews\",\n",
    "    \"order_id\",\n",
    "    1,\n",
    "    2,\n",
    ")"
   ]
  },
  {
   "cell_type": "markdown",
   "id": "9b3714bf",
   "metadata": {},
   "source": [
    "Le dataset *items_sellers_geolocation_products_categoryname* contient moins de valeurs uniques de 'order_id' que le dataset *customers_geolocation_orders_reviews*.\n",
    "Il existe en effet un certain nombre de commandes qui n'ont pas de ligne de commande (pas de référence dans le dataset *items_sellers_geolocation_products_categoryname*) donc pas de référence produit."
   ]
  },
  {
   "cell_type": "code",
   "execution_count": 694,
   "id": "3113ce54",
   "metadata": {},
   "outputs": [
    {
     "data": {
      "application/javascript": [
       "\n",
       "            setTimeout(function() {\n",
       "                var nbb_cell_id = 694;\n",
       "                var nbb_unformatted_code = \"data_model_2(\\n    df_customers_geolocation_orders_reviews,\\n    df_items_sellers_geolocation_products_categoryname_gr,\\n    \\\"customers_geolocation_orders_reviews\\\",\\n    \\\"items_sellers_geolocation_products_categoryname_gr\\\",\\n    \\\"order_id\\\",\\n    \\\"order_id\\\",\\n)\";\n",
       "                var nbb_formatted_code = \"data_model_2(\\n    df_customers_geolocation_orders_reviews,\\n    df_items_sellers_geolocation_products_categoryname_gr,\\n    \\\"customers_geolocation_orders_reviews\\\",\\n    \\\"items_sellers_geolocation_products_categoryname_gr\\\",\\n    \\\"order_id\\\",\\n    \\\"order_id\\\",\\n)\";\n",
       "                var nbb_cells = Jupyter.notebook.get_cells();\n",
       "                for (var i = 0; i < nbb_cells.length; ++i) {\n",
       "                    if (nbb_cells[i].input_prompt_number == nbb_cell_id) {\n",
       "                        if (nbb_cells[i].get_text() == nbb_unformatted_code) {\n",
       "                             nbb_cells[i].set_text(nbb_formatted_code);\n",
       "                        }\n",
       "                        break;\n",
       "                    }\n",
       "                }\n",
       "            }, 500);\n",
       "            "
      ],
      "text/plain": [
       "<IPython.core.display.Javascript object>"
      ]
     },
     "metadata": {},
     "output_type": "display_data"
    }
   ],
   "source": [
    "data_model_2(\n",
    "    df_customers_geolocation_orders_reviews,\n",
    "    df_items_sellers_geolocation_products_categoryname_gr,\n",
    "    \"customers_geolocation_orders_reviews\",\n",
    "    \"items_sellers_geolocation_products_categoryname_gr\",\n",
    "    \"order_id\",\n",
    "    \"order_id\",\n",
    ")"
   ]
  },
  {
   "cell_type": "markdown",
   "id": "6789fd1c",
   "metadata": {},
   "source": [
    "**Fusion customers_geolocation_orders_reviews / items_sellers_geolocation_products_categoryname_gr**"
   ]
  },
  {
   "cell_type": "markdown",
   "id": "ad27fe19",
   "metadata": {},
   "source": [
    "Les informations relatives aux produits et donc aux prix sont nécessaires au projet.\n",
    "\n",
    "On ne retient donc que les commandes avec des lignes de commande."
   ]
  },
  {
   "cell_type": "markdown",
   "id": "5fcdad3c",
   "metadata": {},
   "source": [
    "On fusionne le dataset *customers_geolocation_orders_reviews* avec le dataset *items_sellers_geolocation_products_categoryname* avec une contrainte de correspondance nécessaire (inner join)."
   ]
  },
  {
   "cell_type": "code",
   "execution_count": 695,
   "id": "c1bd986a",
   "metadata": {},
   "outputs": [
    {
     "name": "stderr",
     "output_type": "stream",
     "text": [
      "1:80: E501 line too long (150 > 79 characters)\n",
      "INFO:pycodestyle:1:80: E501 line too long (150 > 79 characters)\n"
     ]
    },
    {
     "data": {
      "application/javascript": [
       "\n",
       "            setTimeout(function() {\n",
       "                var nbb_cell_id = 695;\n",
       "                var nbb_unformatted_code = \"df_customers_geolocation_orders_reviews_items_sellers_geolocation_products_categoryname = df_items_sellers_geolocation_products_categoryname_gr.merge(\\n    df_customers_geolocation_orders_reviews,\\n    left_on=\\\"order_id\\\",\\n    right_on=\\\"order_id\\\",\\n    how=\\\"left\\\",\\n)\";\n",
       "                var nbb_formatted_code = \"df_customers_geolocation_orders_reviews_items_sellers_geolocation_products_categoryname = df_items_sellers_geolocation_products_categoryname_gr.merge(\\n    df_customers_geolocation_orders_reviews,\\n    left_on=\\\"order_id\\\",\\n    right_on=\\\"order_id\\\",\\n    how=\\\"left\\\",\\n)\";\n",
       "                var nbb_cells = Jupyter.notebook.get_cells();\n",
       "                for (var i = 0; i < nbb_cells.length; ++i) {\n",
       "                    if (nbb_cells[i].input_prompt_number == nbb_cell_id) {\n",
       "                        if (nbb_cells[i].get_text() == nbb_unformatted_code) {\n",
       "                             nbb_cells[i].set_text(nbb_formatted_code);\n",
       "                        }\n",
       "                        break;\n",
       "                    }\n",
       "                }\n",
       "            }, 500);\n",
       "            "
      ],
      "text/plain": [
       "<IPython.core.display.Javascript object>"
      ]
     },
     "metadata": {},
     "output_type": "display_data"
    }
   ],
   "source": [
    "df_customers_geolocation_orders_reviews_items_sellers_geolocation_products_categoryname = df_items_sellers_geolocation_products_categoryname_gr.merge(\n",
    "    df_customers_geolocation_orders_reviews,\n",
    "    left_on=\"order_id\",\n",
    "    right_on=\"order_id\",\n",
    "    how=\"left\",\n",
    ")"
   ]
  },
  {
   "cell_type": "code",
   "execution_count": 696,
   "id": "18743b11",
   "metadata": {},
   "outputs": [
    {
     "name": "stderr",
     "output_type": "stream",
     "text": [
      "2:80: E501 line too long (91 > 79 characters)\n",
      "INFO:pycodestyle:2:80: E501 line too long (91 > 79 characters)\n",
      "3:80: E501 line too long (98 > 79 characters)\n",
      "INFO:pycodestyle:3:80: E501 line too long (98 > 79 characters)\n"
     ]
    },
    {
     "data": {
      "application/javascript": [
       "\n",
       "            setTimeout(function() {\n",
       "                var nbb_cell_id = 696;\n",
       "                var nbb_unformatted_code = \"print(\\n    \\\"customers_geolocation_orders_reviews_items_sellers_geolocation_products_categoryname\\\",\\n    df_customers_geolocation_orders_reviews_items_sellers_geolocation_products_categoryname.shape,\\n)\";\n",
       "                var nbb_formatted_code = \"print(\\n    \\\"customers_geolocation_orders_reviews_items_sellers_geolocation_products_categoryname\\\",\\n    df_customers_geolocation_orders_reviews_items_sellers_geolocation_products_categoryname.shape,\\n)\";\n",
       "                var nbb_cells = Jupyter.notebook.get_cells();\n",
       "                for (var i = 0; i < nbb_cells.length; ++i) {\n",
       "                    if (nbb_cells[i].input_prompt_number == nbb_cell_id) {\n",
       "                        if (nbb_cells[i].get_text() == nbb_unformatted_code) {\n",
       "                             nbb_cells[i].set_text(nbb_formatted_code);\n",
       "                        }\n",
       "                        break;\n",
       "                    }\n",
       "                }\n",
       "            }, 500);\n",
       "            "
      ],
      "text/plain": [
       "<IPython.core.display.Javascript object>"
      ]
     },
     "metadata": {},
     "output_type": "display_data"
    }
   ],
   "source": [
    "print(\n",
    "    \"customers_geolocation_orders_reviews_items_sellers_geolocation_products_categoryname\",\n",
    "    df_customers_geolocation_orders_reviews_items_sellers_geolocation_products_categoryname.shape,\n",
    ")"
   ]
  },
  {
   "cell_type": "code",
   "execution_count": 697,
   "id": "4df7107c",
   "metadata": {},
   "outputs": [
    {
     "name": "stderr",
     "output_type": "stream",
     "text": [
      "1:80: E501 line too long (94 > 79 characters)\n",
      "INFO:pycodestyle:1:80: E501 line too long (94 > 79 characters)\n"
     ]
    },
    {
     "data": {
      "application/javascript": [
       "\n",
       "            setTimeout(function() {\n",
       "                var nbb_cell_id = 697;\n",
       "                var nbb_unformatted_code = \"df_customers_geolocation_orders_reviews_items_sellers_geolocation_products_categoryname.info()\";\n",
       "                var nbb_formatted_code = \"df_customers_geolocation_orders_reviews_items_sellers_geolocation_products_categoryname.info()\";\n",
       "                var nbb_cells = Jupyter.notebook.get_cells();\n",
       "                for (var i = 0; i < nbb_cells.length; ++i) {\n",
       "                    if (nbb_cells[i].input_prompt_number == nbb_cell_id) {\n",
       "                        if (nbb_cells[i].get_text() == nbb_unformatted_code) {\n",
       "                             nbb_cells[i].set_text(nbb_formatted_code);\n",
       "                        }\n",
       "                        break;\n",
       "                    }\n",
       "                }\n",
       "            }, 500);\n",
       "            "
      ],
      "text/plain": [
       "<IPython.core.display.Javascript object>"
      ]
     },
     "metadata": {},
     "output_type": "display_data"
    }
   ],
   "source": [
    "df_customers_geolocation_orders_reviews_items_sellers_geolocation_products_categoryname.info()"
   ]
  },
  {
   "cell_type": "markdown",
   "id": "c30a94da",
   "metadata": {},
   "source": [
    "# Fusion 4: "
   ]
  },
  {
   "cell_type": "markdown",
   "id": "43efd522",
   "metadata": {},
   "source": [
    "# Clients-geolocalisation-commandes-evaluations-articles-vendeur-Geolocalisation-ProduIts-categoryname / Paiement"
   ]
  },
  {
   "cell_type": "markdown",
   "id": "ef73d068",
   "metadata": {},
   "source": [
    "**payments**"
   ]
  },
  {
   "cell_type": "code",
   "execution_count": 698,
   "id": "b7fdf0fa",
   "metadata": {},
   "outputs": [
    {
     "data": {
      "application/javascript": [
       "\n",
       "            setTimeout(function() {\n",
       "                var nbb_cell_id = 698;\n",
       "                var nbb_unformatted_code = \"df_payments.info()\";\n",
       "                var nbb_formatted_code = \"df_payments.info()\";\n",
       "                var nbb_cells = Jupyter.notebook.get_cells();\n",
       "                for (var i = 0; i < nbb_cells.length; ++i) {\n",
       "                    if (nbb_cells[i].input_prompt_number == nbb_cell_id) {\n",
       "                        if (nbb_cells[i].get_text() == nbb_unformatted_code) {\n",
       "                             nbb_cells[i].set_text(nbb_formatted_code);\n",
       "                        }\n",
       "                        break;\n",
       "                    }\n",
       "                }\n",
       "            }, 500);\n",
       "            "
      ],
      "text/plain": [
       "<IPython.core.display.Javascript object>"
      ]
     },
     "metadata": {},
     "output_type": "display_data"
    }
   ],
   "source": [
    "df_payments.info()"
   ]
  },
  {
   "cell_type": "markdown",
   "id": "886840fb",
   "metadata": {},
   "source": [
    "**df_customers_geolocation_orders_reviews_items_sellers_geolocation_products_categoryname et payments**"
   ]
  },
  {
   "cell_type": "code",
   "execution_count": 699,
   "id": "640959ab",
   "metadata": {},
   "outputs": [
    {
     "data": {
      "text/html": [
       "<div>\n",
       "<style scoped>\n",
       "    .dataframe tbody tr th:only-of-type {\n",
       "        vertical-align: middle;\n",
       "    }\n",
       "\n",
       "    .dataframe tbody tr th {\n",
       "        vertical-align: top;\n",
       "    }\n",
       "\n",
       "    .dataframe thead th {\n",
       "        text-align: right;\n",
       "    }\n",
       "</style>\n",
       "<table border=\"1\" class=\"dataframe\">\n",
       "  <thead>\n",
       "    <tr style=\"text-align: right;\">\n",
       "      <th></th>\n",
       "      <th>Dataset</th>\n",
       "      <th>Shape</th>\n",
       "      <th>Variable</th>\n",
       "      <th>Duplicates</th>\n",
       "      <th>Unique</th>\n",
       "      <th>Null</th>\n",
       "    </tr>\n",
       "  </thead>\n",
       "  <tbody>\n",
       "    <tr>\n",
       "      <th>20</th>\n",
       "      <td>customers_geolocation_orders_reviews_items_sel...</td>\n",
       "      <td>98666</td>\n",
       "      <td>order_id</td>\n",
       "      <td>0</td>\n",
       "      <td>98666</td>\n",
       "      <td>0</td>\n",
       "    </tr>\n",
       "    <tr>\n",
       "      <th>21</th>\n",
       "      <td>payments</td>\n",
       "      <td>103886</td>\n",
       "      <td>order_id</td>\n",
       "      <td>4446</td>\n",
       "      <td>99440</td>\n",
       "      <td>0</td>\n",
       "    </tr>\n",
       "  </tbody>\n",
       "</table>\n",
       "</div>"
      ],
      "text/plain": [
       "                                              Dataset   Shape  Variable  \\\n",
       "20  customers_geolocation_orders_reviews_items_sel...   98666  order_id   \n",
       "21                                           payments  103886  order_id   \n",
       "\n",
       "    Duplicates  Unique  Null  \n",
       "20           0   98666     0  \n",
       "21        4446   99440     0  "
      ]
     },
     "execution_count": 699,
     "metadata": {},
     "output_type": "execute_result"
    },
    {
     "name": "stderr",
     "output_type": "stream",
     "text": [
      "2:80: E501 line too long (92 > 79 characters)\n",
      "INFO:pycodestyle:2:80: E501 line too long (92 > 79 characters)\n",
      "3:80: E501 line too long (91 > 79 characters)\n",
      "INFO:pycodestyle:3:80: E501 line too long (91 > 79 characters)\n"
     ]
    },
    {
     "data": {
      "application/javascript": [
       "\n",
       "            setTimeout(function() {\n",
       "                var nbb_cell_id = 699;\n",
       "                var nbb_unformatted_code = \"data_model(\\n    df_customers_geolocation_orders_reviews_items_sellers_geolocation_products_categoryname,\\n    \\\"customers_geolocation_orders_reviews_items_sellers_geolocation_products_categoryname\\\",\\n    \\\"order_id\\\",\\n)\\ndata_model(df_payments, \\\"payments\\\", \\\"order_id\\\", 1, 2)\";\n",
       "                var nbb_formatted_code = \"data_model(\\n    df_customers_geolocation_orders_reviews_items_sellers_geolocation_products_categoryname,\\n    \\\"customers_geolocation_orders_reviews_items_sellers_geolocation_products_categoryname\\\",\\n    \\\"order_id\\\",\\n)\\ndata_model(df_payments, \\\"payments\\\", \\\"order_id\\\", 1, 2)\";\n",
       "                var nbb_cells = Jupyter.notebook.get_cells();\n",
       "                for (var i = 0; i < nbb_cells.length; ++i) {\n",
       "                    if (nbb_cells[i].input_prompt_number == nbb_cell_id) {\n",
       "                        if (nbb_cells[i].get_text() == nbb_unformatted_code) {\n",
       "                             nbb_cells[i].set_text(nbb_formatted_code);\n",
       "                        }\n",
       "                        break;\n",
       "                    }\n",
       "                }\n",
       "            }, 500);\n",
       "            "
      ],
      "text/plain": [
       "<IPython.core.display.Javascript object>"
      ]
     },
     "metadata": {},
     "output_type": "display_data"
    }
   ],
   "source": [
    "data_model(\n",
    "    df_customers_geolocation_orders_reviews_items_sellers_geolocation_products_categoryname,\n",
    "    \"customers_geolocation_orders_reviews_items_sellers_geolocation_products_categoryname\",\n",
    "    \"order_id\",\n",
    ")\n",
    "data_model(df_payments, \"payments\", \"order_id\", 1, 2)"
   ]
  },
  {
   "cell_type": "markdown",
   "id": "71935d93",
   "metadata": {},
   "source": [
    "On cherche à associer une valeur unique de paiement à chaque commande."
   ]
  },
  {
   "cell_type": "markdown",
   "id": "9ddaaa9f",
   "metadata": {},
   "source": [
    "Chaque commande peut faire l'objet de plusieurs paiements.\n",
    "\n",
    "On regroupe les paiements par commande en faisant la somme des paiements."
   ]
  },
  {
   "cell_type": "code",
   "execution_count": 700,
   "id": "35ef16b7",
   "metadata": {},
   "outputs": [
    {
     "data": {
      "text/html": [
       "<div>\n",
       "<style scoped>\n",
       "    .dataframe tbody tr th:only-of-type {\n",
       "        vertical-align: middle;\n",
       "    }\n",
       "\n",
       "    .dataframe tbody tr th {\n",
       "        vertical-align: top;\n",
       "    }\n",
       "\n",
       "    .dataframe thead th {\n",
       "        text-align: right;\n",
       "    }\n",
       "</style>\n",
       "<table border=\"1\" class=\"dataframe\">\n",
       "  <thead>\n",
       "    <tr style=\"text-align: right;\">\n",
       "      <th></th>\n",
       "      <th>order_id</th>\n",
       "      <th>payment_value</th>\n",
       "      <th>payment_sequential</th>\n",
       "    </tr>\n",
       "  </thead>\n",
       "  <tbody>\n",
       "    <tr>\n",
       "      <th>0</th>\n",
       "      <td>03caa2c082116e1d31e67e9ae3700499</td>\n",
       "      <td>13664.08</td>\n",
       "      <td>1</td>\n",
       "    </tr>\n",
       "    <tr>\n",
       "      <th>1</th>\n",
       "      <td>736e1922ae60d0d6a89247b851902527</td>\n",
       "      <td>7274.88</td>\n",
       "      <td>1</td>\n",
       "    </tr>\n",
       "    <tr>\n",
       "      <th>2</th>\n",
       "      <td>0812eb902a67711a1cb742b3cdaa65ae</td>\n",
       "      <td>6929.31</td>\n",
       "      <td>1</td>\n",
       "    </tr>\n",
       "    <tr>\n",
       "      <th>3</th>\n",
       "      <td>fefacc66af859508bf1a7934eab1e97f</td>\n",
       "      <td>6922.21</td>\n",
       "      <td>1</td>\n",
       "    </tr>\n",
       "    <tr>\n",
       "      <th>4</th>\n",
       "      <td>f5136e38d1a14a4dbd87dff67da82701</td>\n",
       "      <td>6726.66</td>\n",
       "      <td>1</td>\n",
       "    </tr>\n",
       "    <tr>\n",
       "      <th>...</th>\n",
       "      <td>...</td>\n",
       "      <td>...</td>\n",
       "      <td>...</td>\n",
       "    </tr>\n",
       "    <tr>\n",
       "      <th>99435</th>\n",
       "      <td>e8bbc1d69fee39eee4c72cb5c969e39d</td>\n",
       "      <td>10.07</td>\n",
       "      <td>1</td>\n",
       "    </tr>\n",
       "    <tr>\n",
       "      <th>99436</th>\n",
       "      <td>f1d5c2e6867fa93ceee9ef9b34a53cbf</td>\n",
       "      <td>9.59</td>\n",
       "      <td>2</td>\n",
       "    </tr>\n",
       "    <tr>\n",
       "      <th>99437</th>\n",
       "      <td>c8c528189310eaa44a745b8d9d26908b</td>\n",
       "      <td>0.00</td>\n",
       "      <td>1</td>\n",
       "    </tr>\n",
       "    <tr>\n",
       "      <th>99438</th>\n",
       "      <td>00b1cb0320190ca0daa2c88b35206009</td>\n",
       "      <td>0.00</td>\n",
       "      <td>1</td>\n",
       "    </tr>\n",
       "    <tr>\n",
       "      <th>99439</th>\n",
       "      <td>4637ca194b6387e2d538dc89b124b0ee</td>\n",
       "      <td>0.00</td>\n",
       "      <td>1</td>\n",
       "    </tr>\n",
       "  </tbody>\n",
       "</table>\n",
       "<p>99440 rows × 3 columns</p>\n",
       "</div>"
      ],
      "text/plain": [
       "                               order_id  payment_value  payment_sequential\n",
       "0      03caa2c082116e1d31e67e9ae3700499       13664.08                   1\n",
       "1      736e1922ae60d0d6a89247b851902527        7274.88                   1\n",
       "2      0812eb902a67711a1cb742b3cdaa65ae        6929.31                   1\n",
       "3      fefacc66af859508bf1a7934eab1e97f        6922.21                   1\n",
       "4      f5136e38d1a14a4dbd87dff67da82701        6726.66                   1\n",
       "...                                 ...            ...                 ...\n",
       "99435  e8bbc1d69fee39eee4c72cb5c969e39d          10.07                   1\n",
       "99436  f1d5c2e6867fa93ceee9ef9b34a53cbf           9.59                   2\n",
       "99437  c8c528189310eaa44a745b8d9d26908b           0.00                   1\n",
       "99438  00b1cb0320190ca0daa2c88b35206009           0.00                   1\n",
       "99439  4637ca194b6387e2d538dc89b124b0ee           0.00                   1\n",
       "\n",
       "[99440 rows x 3 columns]"
      ]
     },
     "execution_count": 700,
     "metadata": {},
     "output_type": "execute_result"
    },
    {
     "name": "stderr",
     "output_type": "stream",
     "text": [
      "3:64: E231 missing whitespace after ','\n",
      "INFO:pycodestyle:3:64: E231 missing whitespace after ','\n"
     ]
    },
    {
     "data": {
      "application/javascript": [
       "\n",
       "            setTimeout(function() {\n",
       "                var nbb_cell_id = 700;\n",
       "                var nbb_unformatted_code = \"df_payments_gr = (\\n    df_payments.groupby(\\\"order_id\\\")\\n    .agg({\\\"payment_value\\\": \\\"sum\\\", \\\"payment_sequential\\\": \\\"count\\\",})\\n    .sort_values((\\\"payment_value\\\"), ascending=False)\\n)\\ndf_payments_gr = df_payments_gr.reset_index()\\ndf_payments_gr\";\n",
       "                var nbb_formatted_code = \"df_payments_gr = (\\n    df_payments.groupby(\\\"order_id\\\")\\n    .agg({\\\"payment_value\\\": \\\"sum\\\", \\\"payment_sequential\\\": \\\"count\\\",})\\n    .sort_values((\\\"payment_value\\\"), ascending=False)\\n)\\ndf_payments_gr = df_payments_gr.reset_index()\\ndf_payments_gr\";\n",
       "                var nbb_cells = Jupyter.notebook.get_cells();\n",
       "                for (var i = 0; i < nbb_cells.length; ++i) {\n",
       "                    if (nbb_cells[i].input_prompt_number == nbb_cell_id) {\n",
       "                        if (nbb_cells[i].get_text() == nbb_unformatted_code) {\n",
       "                             nbb_cells[i].set_text(nbb_formatted_code);\n",
       "                        }\n",
       "                        break;\n",
       "                    }\n",
       "                }\n",
       "            }, 500);\n",
       "            "
      ],
      "text/plain": [
       "<IPython.core.display.Javascript object>"
      ]
     },
     "metadata": {},
     "output_type": "display_data"
    }
   ],
   "source": [
    "df_payments_gr = (\n",
    "    df_payments.groupby(\"order_id\")\n",
    "    .agg({\"payment_value\": \"sum\", \"payment_sequential\": \"count\",})\n",
    "    .sort_values((\"payment_value\"), ascending=False)\n",
    ")\n",
    "df_payments_gr = df_payments_gr.reset_index()\n",
    "df_payments_gr"
   ]
  },
  {
   "cell_type": "code",
   "execution_count": 701,
   "id": "de0f55bb",
   "metadata": {},
   "outputs": [
    {
     "name": "stderr",
     "output_type": "stream",
     "text": [
      "2:80: E501 line too long (82 > 79 characters)\n",
      "INFO:pycodestyle:2:80: E501 line too long (82 > 79 characters)\n"
     ]
    },
    {
     "data": {
      "application/javascript": [
       "\n",
       "            setTimeout(function() {\n",
       "                var nbb_cell_id = 701;\n",
       "                var nbb_unformatted_code = \"# On renomme les colonnes\\ndf_payments_gr.columns = [\\\"order_id\\\", \\\"payment_sum_per_ord\\\", \\\"payment_sequential\\\"]\";\n",
       "                var nbb_formatted_code = \"# On renomme les colonnes\\ndf_payments_gr.columns = [\\\"order_id\\\", \\\"payment_sum_per_ord\\\", \\\"payment_sequential\\\"]\";\n",
       "                var nbb_cells = Jupyter.notebook.get_cells();\n",
       "                for (var i = 0; i < nbb_cells.length; ++i) {\n",
       "                    if (nbb_cells[i].input_prompt_number == nbb_cell_id) {\n",
       "                        if (nbb_cells[i].get_text() == nbb_unformatted_code) {\n",
       "                             nbb_cells[i].set_text(nbb_formatted_code);\n",
       "                        }\n",
       "                        break;\n",
       "                    }\n",
       "                }\n",
       "            }, 500);\n",
       "            "
      ],
      "text/plain": [
       "<IPython.core.display.Javascript object>"
      ]
     },
     "metadata": {},
     "output_type": "display_data"
    }
   ],
   "source": [
    "# On renomme les colonnes\n",
    "df_payments_gr.columns = [\"order_id\", \"payment_sum_per_ord\", \"payment_sequential\"]"
   ]
  },
  {
   "cell_type": "code",
   "execution_count": 702,
   "id": "b648f1b1",
   "metadata": {},
   "outputs": [
    {
     "data": {
      "application/javascript": [
       "\n",
       "            setTimeout(function() {\n",
       "                var nbb_cell_id = 702;\n",
       "                var nbb_unformatted_code = \"df_payments_gr.info()\";\n",
       "                var nbb_formatted_code = \"df_payments_gr.info()\";\n",
       "                var nbb_cells = Jupyter.notebook.get_cells();\n",
       "                for (var i = 0; i < nbb_cells.length; ++i) {\n",
       "                    if (nbb_cells[i].input_prompt_number == nbb_cell_id) {\n",
       "                        if (nbb_cells[i].get_text() == nbb_unformatted_code) {\n",
       "                             nbb_cells[i].set_text(nbb_formatted_code);\n",
       "                        }\n",
       "                        break;\n",
       "                    }\n",
       "                }\n",
       "            }, 500);\n",
       "            "
      ],
      "text/plain": [
       "<IPython.core.display.Javascript object>"
      ]
     },
     "metadata": {},
     "output_type": "display_data"
    }
   ],
   "source": [
    "df_payments_gr.info()"
   ]
  },
  {
   "cell_type": "code",
   "execution_count": 703,
   "id": "ce6af4c9",
   "metadata": {},
   "outputs": [
    {
     "data": {
      "text/html": [
       "<div>\n",
       "<style scoped>\n",
       "    .dataframe tbody tr th:only-of-type {\n",
       "        vertical-align: middle;\n",
       "    }\n",
       "\n",
       "    .dataframe tbody tr th {\n",
       "        vertical-align: top;\n",
       "    }\n",
       "\n",
       "    .dataframe thead th {\n",
       "        text-align: right;\n",
       "    }\n",
       "</style>\n",
       "<table border=\"1\" class=\"dataframe\">\n",
       "  <thead>\n",
       "    <tr style=\"text-align: right;\">\n",
       "      <th></th>\n",
       "      <th>Dataset</th>\n",
       "      <th>Shape</th>\n",
       "      <th>Variable</th>\n",
       "      <th>Duplicates</th>\n",
       "      <th>Unique</th>\n",
       "      <th>Null</th>\n",
       "    </tr>\n",
       "  </thead>\n",
       "  <tbody>\n",
       "    <tr>\n",
       "      <th>20</th>\n",
       "      <td>customers_geolocation_orders_reviews_items_sel...</td>\n",
       "      <td>98666</td>\n",
       "      <td>order_id</td>\n",
       "      <td>0</td>\n",
       "      <td>98666</td>\n",
       "      <td>0</td>\n",
       "    </tr>\n",
       "    <tr>\n",
       "      <th>21</th>\n",
       "      <td>payments</td>\n",
       "      <td>103886</td>\n",
       "      <td>order_id</td>\n",
       "      <td>4446</td>\n",
       "      <td>99440</td>\n",
       "      <td>0</td>\n",
       "    </tr>\n",
       "    <tr>\n",
       "      <th>22</th>\n",
       "      <td>payments_gr</td>\n",
       "      <td>99440</td>\n",
       "      <td>order_id</td>\n",
       "      <td>0</td>\n",
       "      <td>99440</td>\n",
       "      <td>0</td>\n",
       "    </tr>\n",
       "  </tbody>\n",
       "</table>\n",
       "</div>"
      ],
      "text/plain": [
       "                                              Dataset   Shape  Variable  \\\n",
       "20  customers_geolocation_orders_reviews_items_sel...   98666  order_id   \n",
       "21                                           payments  103886  order_id   \n",
       "22                                        payments_gr   99440  order_id   \n",
       "\n",
       "    Duplicates  Unique  Null  \n",
       "20           0   98666     0  \n",
       "21        4446   99440     0  \n",
       "22           0   99440     0  "
      ]
     },
     "execution_count": 703,
     "metadata": {},
     "output_type": "execute_result"
    },
    {
     "data": {
      "application/javascript": [
       "\n",
       "            setTimeout(function() {\n",
       "                var nbb_cell_id = 703;\n",
       "                var nbb_unformatted_code = \"data_model(df_payments_gr, \\\"payments_gr\\\", \\\"order_id\\\", 1, 3)\";\n",
       "                var nbb_formatted_code = \"data_model(df_payments_gr, \\\"payments_gr\\\", \\\"order_id\\\", 1, 3)\";\n",
       "                var nbb_cells = Jupyter.notebook.get_cells();\n",
       "                for (var i = 0; i < nbb_cells.length; ++i) {\n",
       "                    if (nbb_cells[i].input_prompt_number == nbb_cell_id) {\n",
       "                        if (nbb_cells[i].get_text() == nbb_unformatted_code) {\n",
       "                             nbb_cells[i].set_text(nbb_formatted_code);\n",
       "                        }\n",
       "                        break;\n",
       "                    }\n",
       "                }\n",
       "            }, 500);\n",
       "            "
      ],
      "text/plain": [
       "<IPython.core.display.Javascript object>"
      ]
     },
     "metadata": {},
     "output_type": "display_data"
    }
   ],
   "source": [
    "data_model(df_payments_gr, \"payments_gr\", \"order_id\", 1, 3)"
   ]
  },
  {
   "cell_type": "markdown",
   "id": "25b1ef7d",
   "metadata": {},
   "source": [
    "La dataset *payments_gr* contient maintenant 99440 valeurs uniques pour la variable 'order_id'."
   ]
  },
  {
   "cell_type": "markdown",
   "id": "b4bb8d63",
   "metadata": {},
   "source": [
    "**customers_geolocation_orders_reviews_items_sellers_geolocation_products_categoryname et payments_gr**"
   ]
  },
  {
   "cell_type": "code",
   "execution_count": 704,
   "id": "04e90260",
   "metadata": {},
   "outputs": [
    {
     "name": "stderr",
     "output_type": "stream",
     "text": [
      "2:80: E501 line too long (92 > 79 characters)\n",
      "INFO:pycodestyle:2:80: E501 line too long (92 > 79 characters)\n",
      "4:80: E501 line too long (91 > 79 characters)\n",
      "INFO:pycodestyle:4:80: E501 line too long (91 > 79 characters)\n"
     ]
    },
    {
     "data": {
      "application/javascript": [
       "\n",
       "            setTimeout(function() {\n",
       "                var nbb_cell_id = 704;\n",
       "                var nbb_unformatted_code = \"data_model_2(\\n    df_customers_geolocation_orders_reviews_items_sellers_geolocation_products_categoryname,\\n    df_payments_gr,\\n    \\\"customers_geolocation_orders_reviews_items_sellers_geolocation_products_categoryname\\\",\\n    \\\"payments_gr\\\",\\n    \\\"order_id\\\",\\n    \\\"order_id\\\",\\n)\";\n",
       "                var nbb_formatted_code = \"data_model_2(\\n    df_customers_geolocation_orders_reviews_items_sellers_geolocation_products_categoryname,\\n    df_payments_gr,\\n    \\\"customers_geolocation_orders_reviews_items_sellers_geolocation_products_categoryname\\\",\\n    \\\"payments_gr\\\",\\n    \\\"order_id\\\",\\n    \\\"order_id\\\",\\n)\";\n",
       "                var nbb_cells = Jupyter.notebook.get_cells();\n",
       "                for (var i = 0; i < nbb_cells.length; ++i) {\n",
       "                    if (nbb_cells[i].input_prompt_number == nbb_cell_id) {\n",
       "                        if (nbb_cells[i].get_text() == nbb_unformatted_code) {\n",
       "                             nbb_cells[i].set_text(nbb_formatted_code);\n",
       "                        }\n",
       "                        break;\n",
       "                    }\n",
       "                }\n",
       "            }, 500);\n",
       "            "
      ],
      "text/plain": [
       "<IPython.core.display.Javascript object>"
      ]
     },
     "metadata": {},
     "output_type": "display_data"
    }
   ],
   "source": [
    "data_model_2(\n",
    "    df_customers_geolocation_orders_reviews_items_sellers_geolocation_products_categoryname,\n",
    "    df_payments_gr,\n",
    "    \"customers_geolocation_orders_reviews_items_sellers_geolocation_products_categoryname\",\n",
    "    \"payments_gr\",\n",
    "    \"order_id\",\n",
    "    \"order_id\",\n",
    ")"
   ]
  },
  {
   "cell_type": "markdown",
   "id": "91985808",
   "metadata": {},
   "source": [
    "**Fusion - customers_geolocation_orders_reviews_items_sellers_geolocation_products_categoryname / payments_gr**"
   ]
  },
  {
   "cell_type": "markdown",
   "id": "e9e9dd76",
   "metadata": {},
   "source": [
    "On fusionne donc les datasets *customers_geolocation_orders_reviews_items_sellers_geolocation_products_categoryname* et *payments_gr* avec une contrainte de correspondance facultative sur *payments_gr* (left join)."
   ]
  },
  {
   "cell_type": "code",
   "execution_count": 705,
   "id": "69fbcf47",
   "metadata": {},
   "outputs": [
    {
     "name": "stderr",
     "output_type": "stream",
     "text": [
      "1:80: E501 line too long (193 > 79 characters)\n",
      "INFO:pycodestyle:1:80: E501 line too long (193 > 79 characters)\n",
      "4:80: E501 line too long (103 > 79 characters)\n",
      "INFO:pycodestyle:4:80: E501 line too long (103 > 79 characters)\n"
     ]
    },
    {
     "data": {
      "application/javascript": [
       "\n",
       "            setTimeout(function() {\n",
       "                var nbb_cell_id = 705;\n",
       "                var nbb_unformatted_code = \"df_customers_geolocation_orders_reviews_items_sellers_geolocation_products_categoryname_payments = df_customers_geolocation_orders_reviews_items_sellers_geolocation_products_categoryname.merge(\\n    df_payments_gr, left_on=\\\"order_id\\\", right_on=\\\"order_id\\\", how=\\\"left\\\"\\n)\\ndf_customers_geolocation_orders_reviews_items_sellers_geolocation_products_categoryname_payments.info()\";\n",
       "                var nbb_formatted_code = \"df_customers_geolocation_orders_reviews_items_sellers_geolocation_products_categoryname_payments = df_customers_geolocation_orders_reviews_items_sellers_geolocation_products_categoryname.merge(\\n    df_payments_gr, left_on=\\\"order_id\\\", right_on=\\\"order_id\\\", how=\\\"left\\\"\\n)\\ndf_customers_geolocation_orders_reviews_items_sellers_geolocation_products_categoryname_payments.info()\";\n",
       "                var nbb_cells = Jupyter.notebook.get_cells();\n",
       "                for (var i = 0; i < nbb_cells.length; ++i) {\n",
       "                    if (nbb_cells[i].input_prompt_number == nbb_cell_id) {\n",
       "                        if (nbb_cells[i].get_text() == nbb_unformatted_code) {\n",
       "                             nbb_cells[i].set_text(nbb_formatted_code);\n",
       "                        }\n",
       "                        break;\n",
       "                    }\n",
       "                }\n",
       "            }, 500);\n",
       "            "
      ],
      "text/plain": [
       "<IPython.core.display.Javascript object>"
      ]
     },
     "metadata": {},
     "output_type": "display_data"
    }
   ],
   "source": [
    "df_customers_geolocation_orders_reviews_items_sellers_geolocation_products_categoryname_payments = df_customers_geolocation_orders_reviews_items_sellers_geolocation_products_categoryname.merge(\n",
    "    df_payments_gr, left_on=\"order_id\", right_on=\"order_id\", how=\"left\"\n",
    ")\n",
    "df_customers_geolocation_orders_reviews_items_sellers_geolocation_products_categoryname_payments.info()"
   ]
  },
  {
   "cell_type": "code",
   "execution_count": 706,
   "id": "d9070690",
   "metadata": {},
   "outputs": [
    {
     "name": "stderr",
     "output_type": "stream",
     "text": [
      "1:80: E501 line too long (101 > 79 characters)\n",
      "INFO:pycodestyle:1:80: E501 line too long (101 > 79 characters)\n",
      "4:80: E501 line too long (101 > 79 characters)\n",
      "INFO:pycodestyle:4:80: E501 line too long (101 > 79 characters)\n"
     ]
    },
    {
     "data": {
      "application/javascript": [
       "\n",
       "            setTimeout(function() {\n",
       "                var nbb_cell_id = 706;\n",
       "                var nbb_unformatted_code = \"del df_customers_geolocation_orders_reviews_items_sellers_geolocation_products_categoryname_payments[\\n    \\\"customer_zip_code_prefix\\\"\\n]\\ndel df_customers_geolocation_orders_reviews_items_sellers_geolocation_products_categoryname_payments[\\n    \\\"geolocation_zip_code_prefix\\\"\\n]\";\n",
       "                var nbb_formatted_code = \"del df_customers_geolocation_orders_reviews_items_sellers_geolocation_products_categoryname_payments[\\n    \\\"customer_zip_code_prefix\\\"\\n]\\ndel df_customers_geolocation_orders_reviews_items_sellers_geolocation_products_categoryname_payments[\\n    \\\"geolocation_zip_code_prefix\\\"\\n]\";\n",
       "                var nbb_cells = Jupyter.notebook.get_cells();\n",
       "                for (var i = 0; i < nbb_cells.length; ++i) {\n",
       "                    if (nbb_cells[i].input_prompt_number == nbb_cell_id) {\n",
       "                        if (nbb_cells[i].get_text() == nbb_unformatted_code) {\n",
       "                             nbb_cells[i].set_text(nbb_formatted_code);\n",
       "                        }\n",
       "                        break;\n",
       "                    }\n",
       "                }\n",
       "            }, 500);\n",
       "            "
      ],
      "text/plain": [
       "<IPython.core.display.Javascript object>"
      ]
     },
     "metadata": {},
     "output_type": "display_data"
    }
   ],
   "source": [
    "del df_customers_geolocation_orders_reviews_items_sellers_geolocation_products_categoryname_payments[\n",
    "    \"customer_zip_code_prefix\"\n",
    "]\n",
    "del df_customers_geolocation_orders_reviews_items_sellers_geolocation_products_categoryname_payments[\n",
    "    \"geolocation_zip_code_prefix\"\n",
    "]"
   ]
  },
  {
   "cell_type": "code",
   "execution_count": 707,
   "id": "a873b187",
   "metadata": {},
   "outputs": [
    {
     "name": "stderr",
     "output_type": "stream",
     "text": [
      "2:80: E501 line too long (114 > 79 characters)\n",
      "INFO:pycodestyle:2:80: E501 line too long (114 > 79 characters)\n",
      "3:80: E501 line too long (107 > 79 characters)\n",
      "INFO:pycodestyle:3:80: E501 line too long (107 > 79 characters)\n"
     ]
    },
    {
     "data": {
      "application/javascript": [
       "\n",
       "            setTimeout(function() {\n",
       "                var nbb_cell_id = 707;\n",
       "                var nbb_unformatted_code = \"print(\\n    \\\"Dimensions df_customers_geolocation_orders_reviews_items_sellers_geolocation_products_categoryname_payments\\\",\\n    df_customers_geolocation_orders_reviews_items_sellers_geolocation_products_categoryname_payments.shape,\\n)\";\n",
       "                var nbb_formatted_code = \"print(\\n    \\\"Dimensions df_customers_geolocation_orders_reviews_items_sellers_geolocation_products_categoryname_payments\\\",\\n    df_customers_geolocation_orders_reviews_items_sellers_geolocation_products_categoryname_payments.shape,\\n)\";\n",
       "                var nbb_cells = Jupyter.notebook.get_cells();\n",
       "                for (var i = 0; i < nbb_cells.length; ++i) {\n",
       "                    if (nbb_cells[i].input_prompt_number == nbb_cell_id) {\n",
       "                        if (nbb_cells[i].get_text() == nbb_unformatted_code) {\n",
       "                             nbb_cells[i].set_text(nbb_formatted_code);\n",
       "                        }\n",
       "                        break;\n",
       "                    }\n",
       "                }\n",
       "            }, 500);\n",
       "            "
      ],
      "text/plain": [
       "<IPython.core.display.Javascript object>"
      ]
     },
     "metadata": {},
     "output_type": "display_data"
    }
   ],
   "source": [
    "print(\n",
    "    \"Dimensions df_customers_geolocation_orders_reviews_items_sellers_geolocation_products_categoryname_payments\",\n",
    "    df_customers_geolocation_orders_reviews_items_sellers_geolocation_products_categoryname_payments.shape,\n",
    ")"
   ]
  },
  {
   "cell_type": "code",
   "execution_count": 708,
   "id": "34855d78",
   "metadata": {},
   "outputs": [
    {
     "name": "stderr",
     "output_type": "stream",
     "text": [
      "1:80: E501 line too long (112 > 79 characters)\n",
      "INFO:pycodestyle:1:80: E501 line too long (112 > 79 characters)\n"
     ]
    },
    {
     "data": {
      "application/javascript": [
       "\n",
       "            setTimeout(function() {\n",
       "                var nbb_cell_id = 708;\n",
       "                var nbb_unformatted_code = \"data_commande = df_customers_geolocation_orders_reviews_items_sellers_geolocation_products_categoryname_payments\";\n",
       "                var nbb_formatted_code = \"data_commande = df_customers_geolocation_orders_reviews_items_sellers_geolocation_products_categoryname_payments\";\n",
       "                var nbb_cells = Jupyter.notebook.get_cells();\n",
       "                for (var i = 0; i < nbb_cells.length; ++i) {\n",
       "                    if (nbb_cells[i].input_prompt_number == nbb_cell_id) {\n",
       "                        if (nbb_cells[i].get_text() == nbb_unformatted_code) {\n",
       "                             nbb_cells[i].set_text(nbb_formatted_code);\n",
       "                        }\n",
       "                        break;\n",
       "                    }\n",
       "                }\n",
       "            }, 500);\n",
       "            "
      ],
      "text/plain": [
       "<IPython.core.display.Javascript object>"
      ]
     },
     "metadata": {},
     "output_type": "display_data"
    }
   ],
   "source": [
    "data_commande = df_customers_geolocation_orders_reviews_items_sellers_geolocation_products_categoryname_payments"
   ]
  },
  {
   "cell_type": "code",
   "execution_count": 709,
   "id": "9b02283c",
   "metadata": {
    "scrolled": false
   },
   "outputs": [
    {
     "data": {
      "text/html": [
       "<div>\n",
       "<style scoped>\n",
       "    .dataframe tbody tr th:only-of-type {\n",
       "        vertical-align: middle;\n",
       "    }\n",
       "\n",
       "    .dataframe tbody tr th {\n",
       "        vertical-align: top;\n",
       "    }\n",
       "\n",
       "    .dataframe thead th {\n",
       "        text-align: right;\n",
       "    }\n",
       "</style>\n",
       "<table border=\"1\" class=\"dataframe\">\n",
       "  <thead>\n",
       "    <tr style=\"text-align: right;\">\n",
       "      <th></th>\n",
       "      <th>order_id</th>\n",
       "      <th>montant_total</th>\n",
       "      <th>customer_id</th>\n",
       "      <th>customer_unique_id</th>\n",
       "      <th>order_purchase_timestamp</th>\n",
       "      <th>review_score</th>\n",
       "      <th>payment_sum_per_ord</th>\n",
       "      <th>payment_sequential</th>\n",
       "    </tr>\n",
       "  </thead>\n",
       "  <tbody>\n",
       "    <tr>\n",
       "      <th>0</th>\n",
       "      <td>00010242fe8c5a6d1ba2dd792cb16214</td>\n",
       "      <td>72.19</td>\n",
       "      <td>3ce436f183e68e07877b285a838db11a</td>\n",
       "      <td>871766c5855e863f6eccc05f988b23cb</td>\n",
       "      <td>2017-09-13 08:59:02</td>\n",
       "      <td>5.0</td>\n",
       "      <td>72.19</td>\n",
       "      <td>1.0</td>\n",
       "    </tr>\n",
       "    <tr>\n",
       "      <th>1</th>\n",
       "      <td>00018f77f2f0320c557190d7a144bdd3</td>\n",
       "      <td>259.83</td>\n",
       "      <td>f6dd3ec061db4e3987629fe6b26e5cce</td>\n",
       "      <td>eb28e67c4c0b83846050ddfb8a35d051</td>\n",
       "      <td>2017-04-26 10:53:06</td>\n",
       "      <td>4.0</td>\n",
       "      <td>259.83</td>\n",
       "      <td>1.0</td>\n",
       "    </tr>\n",
       "    <tr>\n",
       "      <th>2</th>\n",
       "      <td>000229ec398224ef6ca0657da4fc703e</td>\n",
       "      <td>216.87</td>\n",
       "      <td>6489ae5e4333f3693df5ad4372dab6d3</td>\n",
       "      <td>3818d81c6709e39d06b2738a8d3a2474</td>\n",
       "      <td>2018-01-14 14:33:31</td>\n",
       "      <td>5.0</td>\n",
       "      <td>216.87</td>\n",
       "      <td>1.0</td>\n",
       "    </tr>\n",
       "    <tr>\n",
       "      <th>3</th>\n",
       "      <td>00024acbcdf0a6daa1e931b038114c75</td>\n",
       "      <td>25.78</td>\n",
       "      <td>d4eb9395c8c0431ee92fce09860c5a06</td>\n",
       "      <td>af861d436cfc08b2c2ddefd0ba074622</td>\n",
       "      <td>2018-08-08 10:00:35</td>\n",
       "      <td>4.0</td>\n",
       "      <td>25.78</td>\n",
       "      <td>1.0</td>\n",
       "    </tr>\n",
       "    <tr>\n",
       "      <th>4</th>\n",
       "      <td>00042b26cf59d7ce69dfabb4e55b4fd9</td>\n",
       "      <td>218.04</td>\n",
       "      <td>58dbd0b2d70206bf40e62cd34e84d795</td>\n",
       "      <td>64b576fb70d441e8f1b2d7d446e483c5</td>\n",
       "      <td>2017-02-04 13:57:51</td>\n",
       "      <td>5.0</td>\n",
       "      <td>218.04</td>\n",
       "      <td>1.0</td>\n",
       "    </tr>\n",
       "    <tr>\n",
       "      <th>...</th>\n",
       "      <td>...</td>\n",
       "      <td>...</td>\n",
       "      <td>...</td>\n",
       "      <td>...</td>\n",
       "      <td>...</td>\n",
       "      <td>...</td>\n",
       "      <td>...</td>\n",
       "      <td>...</td>\n",
       "    </tr>\n",
       "    <tr>\n",
       "      <th>98661</th>\n",
       "      <td>fffc94f6ce00a00581880bf54a75a037</td>\n",
       "      <td>343.40</td>\n",
       "      <td>b51593916b4b8e0d6f66f2ae24f2673d</td>\n",
       "      <td>0c9aeda10a71f369396d0c04dce13a64</td>\n",
       "      <td>2018-04-23 13:57:06</td>\n",
       "      <td>5.0</td>\n",
       "      <td>343.40</td>\n",
       "      <td>1.0</td>\n",
       "    </tr>\n",
       "    <tr>\n",
       "      <th>98662</th>\n",
       "      <td>fffcd46ef2263f404302a634eb57f7eb</td>\n",
       "      <td>386.53</td>\n",
       "      <td>84c5d4fbaf120aae381fad077416eaa0</td>\n",
       "      <td>0da9fe112eae0c74d3ba1fe16de0988b</td>\n",
       "      <td>2018-07-14 10:26:46</td>\n",
       "      <td>5.0</td>\n",
       "      <td>386.53</td>\n",
       "      <td>1.0</td>\n",
       "    </tr>\n",
       "    <tr>\n",
       "      <th>98663</th>\n",
       "      <td>fffce4705a9662cd70adb13d4a31832d</td>\n",
       "      <td>116.85</td>\n",
       "      <td>29309aa813182aaddc9b259e31b870e6</td>\n",
       "      <td>cd79b407828f02fdbba457111c38e4c4</td>\n",
       "      <td>2017-10-23 17:07:56</td>\n",
       "      <td>5.0</td>\n",
       "      <td>116.85</td>\n",
       "      <td>1.0</td>\n",
       "    </tr>\n",
       "    <tr>\n",
       "      <th>98664</th>\n",
       "      <td>fffe18544ffabc95dfada21779c9644f</td>\n",
       "      <td>64.71</td>\n",
       "      <td>b5e6afd5a41800fdf401e0272ca74655</td>\n",
       "      <td>eb803377c9315b564bdedad672039306</td>\n",
       "      <td>2017-08-14 23:02:59</td>\n",
       "      <td>5.0</td>\n",
       "      <td>64.71</td>\n",
       "      <td>1.0</td>\n",
       "    </tr>\n",
       "    <tr>\n",
       "      <th>98665</th>\n",
       "      <td>fffe41c64501cc87c801fd61db3f6244</td>\n",
       "      <td>55.79</td>\n",
       "      <td>96d649da0cc4ff33bb408b199d4c7dcf</td>\n",
       "      <td>cd76a00d8e3ca5e6ab9ed9ecb6667ac4</td>\n",
       "      <td>2018-06-09 17:00:18</td>\n",
       "      <td>5.0</td>\n",
       "      <td>55.79</td>\n",
       "      <td>1.0</td>\n",
       "    </tr>\n",
       "  </tbody>\n",
       "</table>\n",
       "<p>98666 rows × 8 columns</p>\n",
       "</div>"
      ],
      "text/plain": [
       "                               order_id  montant_total  \\\n",
       "0      00010242fe8c5a6d1ba2dd792cb16214          72.19   \n",
       "1      00018f77f2f0320c557190d7a144bdd3         259.83   \n",
       "2      000229ec398224ef6ca0657da4fc703e         216.87   \n",
       "3      00024acbcdf0a6daa1e931b038114c75          25.78   \n",
       "4      00042b26cf59d7ce69dfabb4e55b4fd9         218.04   \n",
       "...                                 ...            ...   \n",
       "98661  fffc94f6ce00a00581880bf54a75a037         343.40   \n",
       "98662  fffcd46ef2263f404302a634eb57f7eb         386.53   \n",
       "98663  fffce4705a9662cd70adb13d4a31832d         116.85   \n",
       "98664  fffe18544ffabc95dfada21779c9644f          64.71   \n",
       "98665  fffe41c64501cc87c801fd61db3f6244          55.79   \n",
       "\n",
       "                            customer_id                customer_unique_id  \\\n",
       "0      3ce436f183e68e07877b285a838db11a  871766c5855e863f6eccc05f988b23cb   \n",
       "1      f6dd3ec061db4e3987629fe6b26e5cce  eb28e67c4c0b83846050ddfb8a35d051   \n",
       "2      6489ae5e4333f3693df5ad4372dab6d3  3818d81c6709e39d06b2738a8d3a2474   \n",
       "3      d4eb9395c8c0431ee92fce09860c5a06  af861d436cfc08b2c2ddefd0ba074622   \n",
       "4      58dbd0b2d70206bf40e62cd34e84d795  64b576fb70d441e8f1b2d7d446e483c5   \n",
       "...                                 ...                               ...   \n",
       "98661  b51593916b4b8e0d6f66f2ae24f2673d  0c9aeda10a71f369396d0c04dce13a64   \n",
       "98662  84c5d4fbaf120aae381fad077416eaa0  0da9fe112eae0c74d3ba1fe16de0988b   \n",
       "98663  29309aa813182aaddc9b259e31b870e6  cd79b407828f02fdbba457111c38e4c4   \n",
       "98664  b5e6afd5a41800fdf401e0272ca74655  eb803377c9315b564bdedad672039306   \n",
       "98665  96d649da0cc4ff33bb408b199d4c7dcf  cd76a00d8e3ca5e6ab9ed9ecb6667ac4   \n",
       "\n",
       "      order_purchase_timestamp  review_score  payment_sum_per_ord  \\\n",
       "0          2017-09-13 08:59:02           5.0                72.19   \n",
       "1          2017-04-26 10:53:06           4.0               259.83   \n",
       "2          2018-01-14 14:33:31           5.0               216.87   \n",
       "3          2018-08-08 10:00:35           4.0                25.78   \n",
       "4          2017-02-04 13:57:51           5.0               218.04   \n",
       "...                        ...           ...                  ...   \n",
       "98661      2018-04-23 13:57:06           5.0               343.40   \n",
       "98662      2018-07-14 10:26:46           5.0               386.53   \n",
       "98663      2017-10-23 17:07:56           5.0               116.85   \n",
       "98664      2017-08-14 23:02:59           5.0                64.71   \n",
       "98665      2018-06-09 17:00:18           5.0                55.79   \n",
       "\n",
       "       payment_sequential  \n",
       "0                     1.0  \n",
       "1                     1.0  \n",
       "2                     1.0  \n",
       "3                     1.0  \n",
       "4                     1.0  \n",
       "...                   ...  \n",
       "98661                 1.0  \n",
       "98662                 1.0  \n",
       "98663                 1.0  \n",
       "98664                 1.0  \n",
       "98665                 1.0  \n",
       "\n",
       "[98666 rows x 8 columns]"
      ]
     },
     "execution_count": 709,
     "metadata": {},
     "output_type": "execute_result"
    },
    {
     "data": {
      "application/javascript": [
       "\n",
       "            setTimeout(function() {\n",
       "                var nbb_cell_id = 709;\n",
       "                var nbb_unformatted_code = \"data_commande\";\n",
       "                var nbb_formatted_code = \"data_commande\";\n",
       "                var nbb_cells = Jupyter.notebook.get_cells();\n",
       "                for (var i = 0; i < nbb_cells.length; ++i) {\n",
       "                    if (nbb_cells[i].input_prompt_number == nbb_cell_id) {\n",
       "                        if (nbb_cells[i].get_text() == nbb_unformatted_code) {\n",
       "                             nbb_cells[i].set_text(nbb_formatted_code);\n",
       "                        }\n",
       "                        break;\n",
       "                    }\n",
       "                }\n",
       "            }, 500);\n",
       "            "
      ],
      "text/plain": [
       "<IPython.core.display.Javascript object>"
      ]
     },
     "metadata": {},
     "output_type": "display_data"
    }
   ],
   "source": [
    "data_commande"
   ]
  },
  {
   "cell_type": "code",
   "execution_count": 710,
   "id": "6fda99fd",
   "metadata": {},
   "outputs": [
    {
     "data": {
      "application/javascript": [
       "\n",
       "            setTimeout(function() {\n",
       "                var nbb_cell_id = 710;\n",
       "                var nbb_unformatted_code = \"# Export des donn\\u00e9es nettoy\\u00e9es sans pr\\u00e9-processing\\ndata_commande.to_csv(\\\"OLIST_data_commande0_clean.csv\\\")\";\n",
       "                var nbb_formatted_code = \"# Export des donn\\u00e9es nettoy\\u00e9es sans pr\\u00e9-processing\\ndata_commande.to_csv(\\\"OLIST_data_commande0_clean.csv\\\")\";\n",
       "                var nbb_cells = Jupyter.notebook.get_cells();\n",
       "                for (var i = 0; i < nbb_cells.length; ++i) {\n",
       "                    if (nbb_cells[i].input_prompt_number == nbb_cell_id) {\n",
       "                        if (nbb_cells[i].get_text() == nbb_unformatted_code) {\n",
       "                             nbb_cells[i].set_text(nbb_formatted_code);\n",
       "                        }\n",
       "                        break;\n",
       "                    }\n",
       "                }\n",
       "            }, 500);\n",
       "            "
      ],
      "text/plain": [
       "<IPython.core.display.Javascript object>"
      ]
     },
     "metadata": {},
     "output_type": "display_data"
    }
   ],
   "source": [
    "# Export des données nettoyées sans pré-processing\n",
    "data_commande.to_csv(\"OLIST_data_commande0_clean.csv\")"
   ]
  },
  {
   "cell_type": "markdown",
   "id": "dbf1846d",
   "metadata": {},
   "source": [
    "**Montant par client**"
   ]
  },
  {
   "cell_type": "markdown",
   "id": "33ff23c2",
   "metadata": {},
   "source": [
    "**On calcule, pour chaque client unique, la somme des montants par commande (variable 'price_per_cust').**"
   ]
  },
  {
   "cell_type": "code",
   "execution_count": 711,
   "id": "9672d359",
   "metadata": {},
   "outputs": [
    {
     "data": {
      "application/javascript": [
       "\n",
       "            setTimeout(function() {\n",
       "                var nbb_cell_id = 711;\n",
       "                var nbb_unformatted_code = \"data_client = data_commande.groupby(\\\"customer_unique_id\\\").agg(\\n    {\\n        \\\"order_id\\\": \\\"count\\\",\\n        \\\"order_purchase_timestamp\\\": \\\"max\\\",\\n        \\\"montant_total\\\": \\\"sum\\\",\\n        \\\"review_score\\\": \\\"mean\\\",\\n        \\\"payment_sequential\\\": \\\"mean\\\",\\n    }\\n)\\ndata_client.columns = [\\n    \\\"nombre de commande\\\",\\n    \\\"date de la derniere comande\\\",\\n    \\\"montant_total_client\\\",\\n    \\\"satisfaction\\\",\\n    \\\"payment_sequential\\\",\\n]\\ndata_client.reset_index(inplace=True)\";\n",
       "                var nbb_formatted_code = \"data_client = data_commande.groupby(\\\"customer_unique_id\\\").agg(\\n    {\\n        \\\"order_id\\\": \\\"count\\\",\\n        \\\"order_purchase_timestamp\\\": \\\"max\\\",\\n        \\\"montant_total\\\": \\\"sum\\\",\\n        \\\"review_score\\\": \\\"mean\\\",\\n        \\\"payment_sequential\\\": \\\"mean\\\",\\n    }\\n)\\ndata_client.columns = [\\n    \\\"nombre de commande\\\",\\n    \\\"date de la derniere comande\\\",\\n    \\\"montant_total_client\\\",\\n    \\\"satisfaction\\\",\\n    \\\"payment_sequential\\\",\\n]\\ndata_client.reset_index(inplace=True)\";\n",
       "                var nbb_cells = Jupyter.notebook.get_cells();\n",
       "                for (var i = 0; i < nbb_cells.length; ++i) {\n",
       "                    if (nbb_cells[i].input_prompt_number == nbb_cell_id) {\n",
       "                        if (nbb_cells[i].get_text() == nbb_unformatted_code) {\n",
       "                             nbb_cells[i].set_text(nbb_formatted_code);\n",
       "                        }\n",
       "                        break;\n",
       "                    }\n",
       "                }\n",
       "            }, 500);\n",
       "            "
      ],
      "text/plain": [
       "<IPython.core.display.Javascript object>"
      ]
     },
     "metadata": {},
     "output_type": "display_data"
    }
   ],
   "source": [
    "data_client = data_commande.groupby(\"customer_unique_id\").agg(\n",
    "    {\n",
    "        \"order_id\": \"count\",\n",
    "        \"order_purchase_timestamp\": \"max\",\n",
    "        \"montant_total\": \"sum\",\n",
    "        \"review_score\": \"mean\",\n",
    "        \"payment_sequential\": \"mean\",\n",
    "    }\n",
    ")\n",
    "data_client.columns = [\n",
    "    \"nombre de commande\",\n",
    "    \"date de la derniere comande\",\n",
    "    \"montant_total_client\",\n",
    "    \"satisfaction\",\n",
    "    \"payment_sequential\",\n",
    "]\n",
    "data_client.reset_index(inplace=True)"
   ]
  },
  {
   "cell_type": "code",
   "execution_count": 712,
   "id": "e3306520",
   "metadata": {},
   "outputs": [
    {
     "data": {
      "text/html": [
       "<div>\n",
       "<style scoped>\n",
       "    .dataframe tbody tr th:only-of-type {\n",
       "        vertical-align: middle;\n",
       "    }\n",
       "\n",
       "    .dataframe tbody tr th {\n",
       "        vertical-align: top;\n",
       "    }\n",
       "\n",
       "    .dataframe thead th {\n",
       "        text-align: right;\n",
       "    }\n",
       "</style>\n",
       "<table border=\"1\" class=\"dataframe\">\n",
       "  <thead>\n",
       "    <tr style=\"text-align: right;\">\n",
       "      <th></th>\n",
       "      <th>customer_unique_id</th>\n",
       "      <th>nombre de commande</th>\n",
       "      <th>date de la derniere comande</th>\n",
       "      <th>montant_total_client</th>\n",
       "      <th>satisfaction</th>\n",
       "      <th>payment_sequential</th>\n",
       "    </tr>\n",
       "  </thead>\n",
       "  <tbody>\n",
       "    <tr>\n",
       "      <th>0</th>\n",
       "      <td>0000366f3b9a7992bf8c76cfdf3221e2</td>\n",
       "      <td>1</td>\n",
       "      <td>2018-05-10 10:56:27</td>\n",
       "      <td>141.90</td>\n",
       "      <td>5.0</td>\n",
       "      <td>1.0</td>\n",
       "    </tr>\n",
       "    <tr>\n",
       "      <th>1</th>\n",
       "      <td>0000b849f77a49e4a4ce2b2a4ca5be3f</td>\n",
       "      <td>1</td>\n",
       "      <td>2018-05-07 11:11:27</td>\n",
       "      <td>27.19</td>\n",
       "      <td>4.0</td>\n",
       "      <td>1.0</td>\n",
       "    </tr>\n",
       "    <tr>\n",
       "      <th>2</th>\n",
       "      <td>0000f46a3911fa3c0805444483337064</td>\n",
       "      <td>1</td>\n",
       "      <td>2017-03-10 21:05:03</td>\n",
       "      <td>86.22</td>\n",
       "      <td>3.0</td>\n",
       "      <td>1.0</td>\n",
       "    </tr>\n",
       "    <tr>\n",
       "      <th>3</th>\n",
       "      <td>0000f6ccb0745a6a4b88665a16c9f078</td>\n",
       "      <td>1</td>\n",
       "      <td>2017-10-12 20:29:41</td>\n",
       "      <td>43.62</td>\n",
       "      <td>4.0</td>\n",
       "      <td>1.0</td>\n",
       "    </tr>\n",
       "    <tr>\n",
       "      <th>4</th>\n",
       "      <td>0004aac84e0df4da2b147fca70cf8255</td>\n",
       "      <td>1</td>\n",
       "      <td>2017-11-14 19:45:42</td>\n",
       "      <td>196.89</td>\n",
       "      <td>5.0</td>\n",
       "      <td>1.0</td>\n",
       "    </tr>\n",
       "    <tr>\n",
       "      <th>...</th>\n",
       "      <td>...</td>\n",
       "      <td>...</td>\n",
       "      <td>...</td>\n",
       "      <td>...</td>\n",
       "      <td>...</td>\n",
       "      <td>...</td>\n",
       "    </tr>\n",
       "    <tr>\n",
       "      <th>95415</th>\n",
       "      <td>fffcf5a5ff07b0908bd4e2dbc735a684</td>\n",
       "      <td>1</td>\n",
       "      <td>2017-06-08 21:00:36</td>\n",
       "      <td>2067.42</td>\n",
       "      <td>5.0</td>\n",
       "      <td>1.0</td>\n",
       "    </tr>\n",
       "    <tr>\n",
       "      <th>95416</th>\n",
       "      <td>fffea47cd6d3cc0a88bd621562a9d061</td>\n",
       "      <td>1</td>\n",
       "      <td>2017-12-10 20:07:56</td>\n",
       "      <td>84.58</td>\n",
       "      <td>4.0</td>\n",
       "      <td>1.0</td>\n",
       "    </tr>\n",
       "    <tr>\n",
       "      <th>95417</th>\n",
       "      <td>ffff371b4d645b6ecea244b27531430a</td>\n",
       "      <td>1</td>\n",
       "      <td>2017-02-07 15:49:16</td>\n",
       "      <td>112.46</td>\n",
       "      <td>5.0</td>\n",
       "      <td>1.0</td>\n",
       "    </tr>\n",
       "    <tr>\n",
       "      <th>95418</th>\n",
       "      <td>ffff5962728ec6157033ef9805bacc48</td>\n",
       "      <td>1</td>\n",
       "      <td>2018-05-02 15:17:41</td>\n",
       "      <td>133.69</td>\n",
       "      <td>5.0</td>\n",
       "      <td>1.0</td>\n",
       "    </tr>\n",
       "    <tr>\n",
       "      <th>95419</th>\n",
       "      <td>ffffd2657e2aad2907e67c3e9daecbeb</td>\n",
       "      <td>1</td>\n",
       "      <td>2017-05-02 20:18:45</td>\n",
       "      <td>71.56</td>\n",
       "      <td>5.0</td>\n",
       "      <td>1.0</td>\n",
       "    </tr>\n",
       "  </tbody>\n",
       "</table>\n",
       "<p>95420 rows × 6 columns</p>\n",
       "</div>"
      ],
      "text/plain": [
       "                     customer_unique_id  nombre de commande  \\\n",
       "0      0000366f3b9a7992bf8c76cfdf3221e2                   1   \n",
       "1      0000b849f77a49e4a4ce2b2a4ca5be3f                   1   \n",
       "2      0000f46a3911fa3c0805444483337064                   1   \n",
       "3      0000f6ccb0745a6a4b88665a16c9f078                   1   \n",
       "4      0004aac84e0df4da2b147fca70cf8255                   1   \n",
       "...                                 ...                 ...   \n",
       "95415  fffcf5a5ff07b0908bd4e2dbc735a684                   1   \n",
       "95416  fffea47cd6d3cc0a88bd621562a9d061                   1   \n",
       "95417  ffff371b4d645b6ecea244b27531430a                   1   \n",
       "95418  ffff5962728ec6157033ef9805bacc48                   1   \n",
       "95419  ffffd2657e2aad2907e67c3e9daecbeb                   1   \n",
       "\n",
       "      date de la derniere comande  montant_total_client  satisfaction  \\\n",
       "0             2018-05-10 10:56:27                141.90           5.0   \n",
       "1             2018-05-07 11:11:27                 27.19           4.0   \n",
       "2             2017-03-10 21:05:03                 86.22           3.0   \n",
       "3             2017-10-12 20:29:41                 43.62           4.0   \n",
       "4             2017-11-14 19:45:42                196.89           5.0   \n",
       "...                           ...                   ...           ...   \n",
       "95415         2017-06-08 21:00:36               2067.42           5.0   \n",
       "95416         2017-12-10 20:07:56                 84.58           4.0   \n",
       "95417         2017-02-07 15:49:16                112.46           5.0   \n",
       "95418         2018-05-02 15:17:41                133.69           5.0   \n",
       "95419         2017-05-02 20:18:45                 71.56           5.0   \n",
       "\n",
       "       payment_sequential  \n",
       "0                     1.0  \n",
       "1                     1.0  \n",
       "2                     1.0  \n",
       "3                     1.0  \n",
       "4                     1.0  \n",
       "...                   ...  \n",
       "95415                 1.0  \n",
       "95416                 1.0  \n",
       "95417                 1.0  \n",
       "95418                 1.0  \n",
       "95419                 1.0  \n",
       "\n",
       "[95420 rows x 6 columns]"
      ]
     },
     "execution_count": 712,
     "metadata": {},
     "output_type": "execute_result"
    },
    {
     "data": {
      "application/javascript": [
       "\n",
       "            setTimeout(function() {\n",
       "                var nbb_cell_id = 712;\n",
       "                var nbb_unformatted_code = \"data_client\";\n",
       "                var nbb_formatted_code = \"data_client\";\n",
       "                var nbb_cells = Jupyter.notebook.get_cells();\n",
       "                for (var i = 0; i < nbb_cells.length; ++i) {\n",
       "                    if (nbb_cells[i].input_prompt_number == nbb_cell_id) {\n",
       "                        if (nbb_cells[i].get_text() == nbb_unformatted_code) {\n",
       "                             nbb_cells[i].set_text(nbb_formatted_code);\n",
       "                        }\n",
       "                        break;\n",
       "                    }\n",
       "                }\n",
       "            }, 500);\n",
       "            "
      ],
      "text/plain": [
       "<IPython.core.display.Javascript object>"
      ]
     },
     "metadata": {},
     "output_type": "display_data"
    }
   ],
   "source": [
    "data_client"
   ]
  },
  {
   "cell_type": "code",
   "execution_count": 713,
   "id": "30fca2b3",
   "metadata": {},
   "outputs": [
    {
     "name": "stderr",
     "output_type": "stream",
     "text": [
      "5:80: E501 line too long (83 > 79 characters)\n",
      "INFO:pycodestyle:5:80: E501 line too long (83 > 79 characters)\n"
     ]
    },
    {
     "data": {
      "application/javascript": [
       "\n",
       "            setTimeout(function() {\n",
       "                var nbb_cell_id = 713;\n",
       "                var nbb_unformatted_code = \"# Calculer la moyenne de la colonne 'satisfaction'\\nsatisfaction_mean = data_client[\\\"satisfaction\\\"].mean()\\n\\n# Remplacer les valeurs NaN par la moyenne dans la colonne satisfaction\\ndata_client[\\\"satisfaction\\\"] = data_client[\\\"satisfaction\\\"].fillna(satisfaction_mean)\\n\\n# Remplacement des NaN par 1 dans la colonne 'nbr de fois de payement'\\ndata_client[\\\"payment_sequential\\\"].fillna(1, inplace=True)\";\n",
       "                var nbb_formatted_code = \"# Calculer la moyenne de la colonne 'satisfaction'\\nsatisfaction_mean = data_client[\\\"satisfaction\\\"].mean()\\n\\n# Remplacer les valeurs NaN par la moyenne dans la colonne satisfaction\\ndata_client[\\\"satisfaction\\\"] = data_client[\\\"satisfaction\\\"].fillna(satisfaction_mean)\\n\\n# Remplacement des NaN par 1 dans la colonne 'nbr de fois de payement'\\ndata_client[\\\"payment_sequential\\\"].fillna(1, inplace=True)\";\n",
       "                var nbb_cells = Jupyter.notebook.get_cells();\n",
       "                for (var i = 0; i < nbb_cells.length; ++i) {\n",
       "                    if (nbb_cells[i].input_prompt_number == nbb_cell_id) {\n",
       "                        if (nbb_cells[i].get_text() == nbb_unformatted_code) {\n",
       "                             nbb_cells[i].set_text(nbb_formatted_code);\n",
       "                        }\n",
       "                        break;\n",
       "                    }\n",
       "                }\n",
       "            }, 500);\n",
       "            "
      ],
      "text/plain": [
       "<IPython.core.display.Javascript object>"
      ]
     },
     "metadata": {},
     "output_type": "display_data"
    }
   ],
   "source": [
    "# Calculer la moyenne de la colonne 'satisfaction'\n",
    "satisfaction_mean = data_client[\"satisfaction\"].mean()\n",
    "\n",
    "# Remplacer les valeurs NaN par la moyenne dans la colonne satisfaction\n",
    "data_client[\"satisfaction\"] = data_client[\"satisfaction\"].fillna(satisfaction_mean)\n",
    "\n",
    "# Remplacement des NaN par 1 dans la colonne 'nbr de fois de payement'\n",
    "data_client[\"payment_sequential\"].fillna(1, inplace=True)"
   ]
  },
  {
   "cell_type": "code",
   "execution_count": 714,
   "id": "d12fc588",
   "metadata": {},
   "outputs": [
    {
     "data": {
      "application/javascript": [
       "\n",
       "            setTimeout(function() {\n",
       "                var nbb_cell_id = 714;\n",
       "                var nbb_unformatted_code = \"# Export des donn\\u00e9es nettoy\\u00e9es sans pr\\u00e9-processing\\ndata_client.to_csv(\\\"OLIST_data_commande_clean.csv\\\")\";\n",
       "                var nbb_formatted_code = \"# Export des donn\\u00e9es nettoy\\u00e9es sans pr\\u00e9-processing\\ndata_client.to_csv(\\\"OLIST_data_commande_clean.csv\\\")\";\n",
       "                var nbb_cells = Jupyter.notebook.get_cells();\n",
       "                for (var i = 0; i < nbb_cells.length; ++i) {\n",
       "                    if (nbb_cells[i].input_prompt_number == nbb_cell_id) {\n",
       "                        if (nbb_cells[i].get_text() == nbb_unformatted_code) {\n",
       "                             nbb_cells[i].set_text(nbb_formatted_code);\n",
       "                        }\n",
       "                        break;\n",
       "                    }\n",
       "                }\n",
       "            }, 500);\n",
       "            "
      ],
      "text/plain": [
       "<IPython.core.display.Javascript object>"
      ]
     },
     "metadata": {},
     "output_type": "display_data"
    }
   ],
   "source": [
    "# Export des données nettoyées sans pré-processing\n",
    "data_client.to_csv(\"OLIST_data_commande_clean.csv\")"
   ]
  },
  {
   "cell_type": "markdown",
   "id": "4096a9e0",
   "metadata": {},
   "source": [
    "# Création des variables pour la segmentation RFM\n",
    "La segmentation RFM vise à connaître les comportements d’achat de la clientèle existante et éventuellement à prédire leurs comportements ainsi que celui des prospects. Les trois paramètres retenus sont les suivants :\n",
    "\n",
    "Récence : la date du dernier achat. On part du principe qu’une personne qui a acheté récemment chez vous a plus de chances de revenir commander chez vous.\n",
    "\n",
    "Fréquence : le nombre d’achats réalisé sur une période donnée. Plus un client achète régulièrement chez vous, plus il y a de chances pour qu’il achète à nouveau. On analyse ici son niveau de fidélité.\n",
    "\n",
    "Montant : la somme des achats cumulés sur une période donnée. Les gros acheteurs répondent mieux que les petits. On mesure ici la valeur client."
   ]
  },
  {
   "cell_type": "markdown",
   "id": "d20a9fc1",
   "metadata": {},
   "source": [
    "**Indicateur RFM - Récence**"
   ]
  },
  {
   "cell_type": "markdown",
   "id": "cf8232f4",
   "metadata": {},
   "source": [
    "La récence est la durée entre une date de référence et la dernière date d'achat de chaque client.Habituellement, en marketing, la date de référence est la date de dernière transaction plus 1 jour."
   ]
  },
  {
   "cell_type": "code",
   "execution_count": 715,
   "id": "1f2a7719",
   "metadata": {},
   "outputs": [
    {
     "name": "stderr",
     "output_type": "stream",
     "text": [
      "9:80: E501 line too long (85 > 79 characters)\n",
      "INFO:pycodestyle:9:80: E501 line too long (85 > 79 characters)\n",
      "10:80: E501 line too long (85 > 79 characters)\n",
      "INFO:pycodestyle:10:80: E501 line too long (85 > 79 characters)\n"
     ]
    },
    {
     "data": {
      "application/javascript": [
       "\n",
       "            setTimeout(function() {\n",
       "                var nbb_cell_id = 715;\n",
       "                var nbb_unformatted_code = \"from datetime import datetime\\n\\n# Conversion des cha\\u00eenes de caract\\u00e8res en objets datetime\\ndata_commande[\\\"order_purchase_timestamp\\\"] = pd.to_datetime(\\n    data_commande[\\\"order_purchase_timestamp\\\"]\\n)\\n\\n# P\\u00e9riode de commande (dernier achat)\\nmin_date = data_commande[\\\"order_purchase_timestamp\\\"].min().strftime(\\\"%d/%m/%Y %H:%M\\\")\\nmax_date = data_commande[\\\"order_purchase_timestamp\\\"].max().strftime(\\\"%d/%m/%Y %H:%M\\\")\\nprint(f\\\"P\\u00e9riode d'achat : du {min_date} au {max_date}\\\")\";\n",
       "                var nbb_formatted_code = \"from datetime import datetime\\n\\n# Conversion des cha\\u00eenes de caract\\u00e8res en objets datetime\\ndata_commande[\\\"order_purchase_timestamp\\\"] = pd.to_datetime(\\n    data_commande[\\\"order_purchase_timestamp\\\"]\\n)\\n\\n# P\\u00e9riode de commande (dernier achat)\\nmin_date = data_commande[\\\"order_purchase_timestamp\\\"].min().strftime(\\\"%d/%m/%Y %H:%M\\\")\\nmax_date = data_commande[\\\"order_purchase_timestamp\\\"].max().strftime(\\\"%d/%m/%Y %H:%M\\\")\\nprint(f\\\"P\\u00e9riode d'achat : du {min_date} au {max_date}\\\")\";\n",
       "                var nbb_cells = Jupyter.notebook.get_cells();\n",
       "                for (var i = 0; i < nbb_cells.length; ++i) {\n",
       "                    if (nbb_cells[i].input_prompt_number == nbb_cell_id) {\n",
       "                        if (nbb_cells[i].get_text() == nbb_unformatted_code) {\n",
       "                             nbb_cells[i].set_text(nbb_formatted_code);\n",
       "                        }\n",
       "                        break;\n",
       "                    }\n",
       "                }\n",
       "            }, 500);\n",
       "            "
      ],
      "text/plain": [
       "<IPython.core.display.Javascript object>"
      ]
     },
     "metadata": {},
     "output_type": "display_data"
    }
   ],
   "source": [
    "from datetime import datetime\n",
    "\n",
    "# Conversion des chaînes de caractères en objets datetime\n",
    "data_commande[\"order_purchase_timestamp\"] = pd.to_datetime(\n",
    "    data_commande[\"order_purchase_timestamp\"]\n",
    ")\n",
    "\n",
    "# Période de commande (dernier achat)\n",
    "min_date = data_commande[\"order_purchase_timestamp\"].min().strftime(\"%d/%m/%Y %H:%M\")\n",
    "max_date = data_commande[\"order_purchase_timestamp\"].max().strftime(\"%d/%m/%Y %H:%M\")\n",
    "print(f\"Période d'achat : du {min_date} au {max_date}\")"
   ]
  },
  {
   "cell_type": "code",
   "execution_count": 716,
   "id": "3cc3595d",
   "metadata": {},
   "outputs": [
    {
     "name": "stderr",
     "output_type": "stream",
     "text": [
      "3:80: E501 line too long (87 > 79 characters)\n",
      "INFO:pycodestyle:3:80: E501 line too long (87 > 79 characters)\n"
     ]
    },
    {
     "data": {
      "application/javascript": [
       "\n",
       "            setTimeout(function() {\n",
       "                var nbb_cell_id = 716;\n",
       "                var nbb_unformatted_code = \"import datetime\\n\\ndate_ref = data_commande[\\\"order_purchase_timestamp\\\"].max() + datetime.timedelta(days=1)\\ns_dateref = date_ref.strftime(\\\"%d/%m/%Y %Hh%m\\\")\\nprint(f\\\"Data de r\\u00e9f\\u00e9rence pour la r\\u00e9cence : {s_dateref}\\\")\";\n",
       "                var nbb_formatted_code = \"import datetime\\n\\ndate_ref = data_commande[\\\"order_purchase_timestamp\\\"].max() + datetime.timedelta(days=1)\\ns_dateref = date_ref.strftime(\\\"%d/%m/%Y %Hh%m\\\")\\nprint(f\\\"Data de r\\u00e9f\\u00e9rence pour la r\\u00e9cence : {s_dateref}\\\")\";\n",
       "                var nbb_cells = Jupyter.notebook.get_cells();\n",
       "                for (var i = 0; i < nbb_cells.length; ++i) {\n",
       "                    if (nbb_cells[i].input_prompt_number == nbb_cell_id) {\n",
       "                        if (nbb_cells[i].get_text() == nbb_unformatted_code) {\n",
       "                             nbb_cells[i].set_text(nbb_formatted_code);\n",
       "                        }\n",
       "                        break;\n",
       "                    }\n",
       "                }\n",
       "            }, 500);\n",
       "            "
      ],
      "text/plain": [
       "<IPython.core.display.Javascript object>"
      ]
     },
     "metadata": {},
     "output_type": "display_data"
    }
   ],
   "source": [
    "import datetime\n",
    "\n",
    "date_ref = data_commande[\"order_purchase_timestamp\"].max() + datetime.timedelta(days=1)\n",
    "s_dateref = date_ref.strftime(\"%d/%m/%Y %Hh%m\")\n",
    "print(f\"Data de référence pour la récence : {s_dateref}\")"
   ]
  },
  {
   "cell_type": "code",
   "execution_count": 717,
   "id": "9565fe0a",
   "metadata": {},
   "outputs": [
    {
     "name": "stderr",
     "output_type": "stream",
     "text": [
      "4:80: E501 line too long (81 > 79 characters)\n",
      "INFO:pycodestyle:4:80: E501 line too long (81 > 79 characters)\n"
     ]
    },
    {
     "data": {
      "application/javascript": [
       "\n",
       "            setTimeout(function() {\n",
       "                var nbb_cell_id = 717;\n",
       "                var nbb_unformatted_code = \"# Alimentation du dictionnaire d'aggr\\u00e9gation pour une ligne de client\\n# unique\\n# Ajout de la r\\u00e9cence en nombre de jours\\ndico_aggr_rfm = {\\\"order_purchase_timestamp\\\": lambda x: (date_ref - x.max()).days}\\ndico_rename_rfm = {\\\"order_purchase_timestamp\\\": \\\"rfm_recence\\\"}\";\n",
       "                var nbb_formatted_code = \"# Alimentation du dictionnaire d'aggr\\u00e9gation pour une ligne de client\\n# unique\\n# Ajout de la r\\u00e9cence en nombre de jours\\ndico_aggr_rfm = {\\\"order_purchase_timestamp\\\": lambda x: (date_ref - x.max()).days}\\ndico_rename_rfm = {\\\"order_purchase_timestamp\\\": \\\"rfm_recence\\\"}\";\n",
       "                var nbb_cells = Jupyter.notebook.get_cells();\n",
       "                for (var i = 0; i < nbb_cells.length; ++i) {\n",
       "                    if (nbb_cells[i].input_prompt_number == nbb_cell_id) {\n",
       "                        if (nbb_cells[i].get_text() == nbb_unformatted_code) {\n",
       "                             nbb_cells[i].set_text(nbb_formatted_code);\n",
       "                        }\n",
       "                        break;\n",
       "                    }\n",
       "                }\n",
       "            }, 500);\n",
       "            "
      ],
      "text/plain": [
       "<IPython.core.display.Javascript object>"
      ]
     },
     "metadata": {},
     "output_type": "display_data"
    }
   ],
   "source": [
    "# Alimentation du dictionnaire d'aggrégation pour une ligne de client\n",
    "# unique\n",
    "# Ajout de la récence en nombre de jours\n",
    "dico_aggr_rfm = {\"order_purchase_timestamp\": lambda x: (date_ref - x.max()).days}\n",
    "dico_rename_rfm = {\"order_purchase_timestamp\": \"rfm_recence\"}"
   ]
  },
  {
   "cell_type": "markdown",
   "id": "64c493fe",
   "metadata": {},
   "source": [
    "**Indicateur RFM - Fréquence**"
   ]
  },
  {
   "cell_type": "markdown",
   "id": "68b5d5b7",
   "metadata": {},
   "source": [
    "La fréquence est 'le nombre de fois où votre client a fait une transaction pendant une période donnée' donc le nombre de commande sur la période de l'étude."
   ]
  },
  {
   "cell_type": "code",
   "execution_count": 718,
   "id": "e0146b10",
   "metadata": {},
   "outputs": [
    {
     "data": {
      "application/javascript": [
       "\n",
       "            setTimeout(function() {\n",
       "                var nbb_cell_id = 718;\n",
       "                var nbb_unformatted_code = \"# Alimentation du dictionnaire d'aggr\\u00e9gation pour une ligne de client\\n# unique\\n# Ajout de la fr\\u00e9quence en nombre d'achat sur la p\\u00e9riode\\ndico_aggr_rfm[\\\"order_id\\\"] = \\\"count\\\"\\ndico_rename_rfm[\\\"order_id\\\"] = \\\"rfm_frequence\\\"\";\n",
       "                var nbb_formatted_code = \"# Alimentation du dictionnaire d'aggr\\u00e9gation pour une ligne de client\\n# unique\\n# Ajout de la fr\\u00e9quence en nombre d'achat sur la p\\u00e9riode\\ndico_aggr_rfm[\\\"order_id\\\"] = \\\"count\\\"\\ndico_rename_rfm[\\\"order_id\\\"] = \\\"rfm_frequence\\\"\";\n",
       "                var nbb_cells = Jupyter.notebook.get_cells();\n",
       "                for (var i = 0; i < nbb_cells.length; ++i) {\n",
       "                    if (nbb_cells[i].input_prompt_number == nbb_cell_id) {\n",
       "                        if (nbb_cells[i].get_text() == nbb_unformatted_code) {\n",
       "                             nbb_cells[i].set_text(nbb_formatted_code);\n",
       "                        }\n",
       "                        break;\n",
       "                    }\n",
       "                }\n",
       "            }, 500);\n",
       "            "
      ],
      "text/plain": [
       "<IPython.core.display.Javascript object>"
      ]
     },
     "metadata": {},
     "output_type": "display_data"
    }
   ],
   "source": [
    "# Alimentation du dictionnaire d'aggrégation pour une ligne de client\n",
    "# unique\n",
    "# Ajout de la fréquence en nombre d'achat sur la période\n",
    "dico_aggr_rfm[\"order_id\"] = \"count\"\n",
    "dico_rename_rfm[\"order_id\"] = \"rfm_frequence\""
   ]
  },
  {
   "cell_type": "markdown",
   "id": "bb8ecd37",
   "metadata": {},
   "source": [
    "**Indicateur RFM - Montant**"
   ]
  },
  {
   "cell_type": "markdown",
   "id": "87b153fd",
   "metadata": {},
   "source": [
    "Le montant correspond à la somme ou moyenne des dépenses du client "
   ]
  },
  {
   "cell_type": "code",
   "execution_count": 719,
   "id": "ae6d749d",
   "metadata": {},
   "outputs": [
    {
     "data": {
      "application/javascript": [
       "\n",
       "            setTimeout(function() {\n",
       "                var nbb_cell_id = 719;\n",
       "                var nbb_unformatted_code = \"# Alimentation du dictionnaire d'aggr\\u00e9gation pour une ligne de client\\n# unique\\n# Ajout de la fr\\u00e9quence en nombre d'achat sur la p\\u00e9riode\\ndico_aggr_rfm[\\\"payment_sum_per_ord\\\"] = \\\"sum\\\"\\ndico_rename_rfm[\\\"payment_sum_per_ord\\\"] = \\\"rfm_montant\\\"\";\n",
       "                var nbb_formatted_code = \"# Alimentation du dictionnaire d'aggr\\u00e9gation pour une ligne de client\\n# unique\\n# Ajout de la fr\\u00e9quence en nombre d'achat sur la p\\u00e9riode\\ndico_aggr_rfm[\\\"payment_sum_per_ord\\\"] = \\\"sum\\\"\\ndico_rename_rfm[\\\"payment_sum_per_ord\\\"] = \\\"rfm_montant\\\"\";\n",
       "                var nbb_cells = Jupyter.notebook.get_cells();\n",
       "                for (var i = 0; i < nbb_cells.length; ++i) {\n",
       "                    if (nbb_cells[i].input_prompt_number == nbb_cell_id) {\n",
       "                        if (nbb_cells[i].get_text() == nbb_unformatted_code) {\n",
       "                             nbb_cells[i].set_text(nbb_formatted_code);\n",
       "                        }\n",
       "                        break;\n",
       "                    }\n",
       "                }\n",
       "            }, 500);\n",
       "            "
      ],
      "text/plain": [
       "<IPython.core.display.Javascript object>"
      ]
     },
     "metadata": {},
     "output_type": "display_data"
    }
   ],
   "source": [
    "# Alimentation du dictionnaire d'aggrégation pour une ligne de client\n",
    "# unique\n",
    "# Ajout de la fréquence en nombre d'achat sur la période\n",
    "dico_aggr_rfm[\"payment_sum_per_ord\"] = \"sum\"\n",
    "dico_rename_rfm[\"payment_sum_per_ord\"] = \"rfm_montant\""
   ]
  },
  {
   "cell_type": "markdown",
   "id": "0918235b",
   "metadata": {},
   "source": [
    "**Le dataframe RFM**"
   ]
  },
  {
   "cell_type": "code",
   "execution_count": 720,
   "id": "ccadcb06",
   "metadata": {},
   "outputs": [
    {
     "data": {
      "text/plain": [
       "(95420, 3)"
      ]
     },
     "execution_count": 720,
     "metadata": {},
     "output_type": "execute_result"
    },
    {
     "data": {
      "application/javascript": [
       "\n",
       "            setTimeout(function() {\n",
       "                var nbb_cell_id = 720;\n",
       "                var nbb_unformatted_code = \"# Constitution du dataframe de travail RFM\\ndf_rfm = data_commande.groupby(\\\"customer_unique_id\\\").agg(dico_aggr_rfm)\\ndf_rfm.rename(columns=dico_rename_rfm, inplace=True)\\ndf_rfm.reset_index()\\ndf_rfm.shape\";\n",
       "                var nbb_formatted_code = \"# Constitution du dataframe de travail RFM\\ndf_rfm = data_commande.groupby(\\\"customer_unique_id\\\").agg(dico_aggr_rfm)\\ndf_rfm.rename(columns=dico_rename_rfm, inplace=True)\\ndf_rfm.reset_index()\\ndf_rfm.shape\";\n",
       "                var nbb_cells = Jupyter.notebook.get_cells();\n",
       "                for (var i = 0; i < nbb_cells.length; ++i) {\n",
       "                    if (nbb_cells[i].input_prompt_number == nbb_cell_id) {\n",
       "                        if (nbb_cells[i].get_text() == nbb_unformatted_code) {\n",
       "                             nbb_cells[i].set_text(nbb_formatted_code);\n",
       "                        }\n",
       "                        break;\n",
       "                    }\n",
       "                }\n",
       "            }, 500);\n",
       "            "
      ],
      "text/plain": [
       "<IPython.core.display.Javascript object>"
      ]
     },
     "metadata": {},
     "output_type": "display_data"
    }
   ],
   "source": [
    "# Constitution du dataframe de travail RFM\n",
    "df_rfm = data_commande.groupby(\"customer_unique_id\").agg(dico_aggr_rfm)\n",
    "df_rfm.rename(columns=dico_rename_rfm, inplace=True)\n",
    "df_rfm.reset_index()\n",
    "df_rfm.shape"
   ]
  },
  {
   "cell_type": "code",
   "execution_count": 721,
   "id": "03ecdecf",
   "metadata": {},
   "outputs": [
    {
     "data": {
      "text/html": [
       "<div>\n",
       "<style scoped>\n",
       "    .dataframe tbody tr th:only-of-type {\n",
       "        vertical-align: middle;\n",
       "    }\n",
       "\n",
       "    .dataframe tbody tr th {\n",
       "        vertical-align: top;\n",
       "    }\n",
       "\n",
       "    .dataframe thead th {\n",
       "        text-align: right;\n",
       "    }\n",
       "</style>\n",
       "<table border=\"1\" class=\"dataframe\">\n",
       "  <thead>\n",
       "    <tr style=\"text-align: right;\">\n",
       "      <th></th>\n",
       "      <th>rfm_recence</th>\n",
       "      <th>rfm_frequence</th>\n",
       "      <th>rfm_montant</th>\n",
       "    </tr>\n",
       "    <tr>\n",
       "      <th>customer_unique_id</th>\n",
       "      <th></th>\n",
       "      <th></th>\n",
       "      <th></th>\n",
       "    </tr>\n",
       "  </thead>\n",
       "  <tbody>\n",
       "    <tr>\n",
       "      <th>0000366f3b9a7992bf8c76cfdf3221e2</th>\n",
       "      <td>116</td>\n",
       "      <td>1</td>\n",
       "      <td>141.90</td>\n",
       "    </tr>\n",
       "    <tr>\n",
       "      <th>0000b849f77a49e4a4ce2b2a4ca5be3f</th>\n",
       "      <td>119</td>\n",
       "      <td>1</td>\n",
       "      <td>27.19</td>\n",
       "    </tr>\n",
       "    <tr>\n",
       "      <th>0000f46a3911fa3c0805444483337064</th>\n",
       "      <td>542</td>\n",
       "      <td>1</td>\n",
       "      <td>86.22</td>\n",
       "    </tr>\n",
       "    <tr>\n",
       "      <th>0000f6ccb0745a6a4b88665a16c9f078</th>\n",
       "      <td>326</td>\n",
       "      <td>1</td>\n",
       "      <td>43.62</td>\n",
       "    </tr>\n",
       "    <tr>\n",
       "      <th>0004aac84e0df4da2b147fca70cf8255</th>\n",
       "      <td>293</td>\n",
       "      <td>1</td>\n",
       "      <td>196.89</td>\n",
       "    </tr>\n",
       "    <tr>\n",
       "      <th>...</th>\n",
       "      <td>...</td>\n",
       "      <td>...</td>\n",
       "      <td>...</td>\n",
       "    </tr>\n",
       "    <tr>\n",
       "      <th>fffcf5a5ff07b0908bd4e2dbc735a684</th>\n",
       "      <td>452</td>\n",
       "      <td>1</td>\n",
       "      <td>2067.42</td>\n",
       "    </tr>\n",
       "    <tr>\n",
       "      <th>fffea47cd6d3cc0a88bd621562a9d061</th>\n",
       "      <td>267</td>\n",
       "      <td>1</td>\n",
       "      <td>84.58</td>\n",
       "    </tr>\n",
       "    <tr>\n",
       "      <th>ffff371b4d645b6ecea244b27531430a</th>\n",
       "      <td>573</td>\n",
       "      <td>1</td>\n",
       "      <td>112.46</td>\n",
       "    </tr>\n",
       "    <tr>\n",
       "      <th>ffff5962728ec6157033ef9805bacc48</th>\n",
       "      <td>124</td>\n",
       "      <td>1</td>\n",
       "      <td>133.69</td>\n",
       "    </tr>\n",
       "    <tr>\n",
       "      <th>ffffd2657e2aad2907e67c3e9daecbeb</th>\n",
       "      <td>489</td>\n",
       "      <td>1</td>\n",
       "      <td>71.56</td>\n",
       "    </tr>\n",
       "  </tbody>\n",
       "</table>\n",
       "<p>95420 rows × 3 columns</p>\n",
       "</div>"
      ],
      "text/plain": [
       "                                  rfm_recence  rfm_frequence  rfm_montant\n",
       "customer_unique_id                                                       \n",
       "0000366f3b9a7992bf8c76cfdf3221e2          116              1       141.90\n",
       "0000b849f77a49e4a4ce2b2a4ca5be3f          119              1        27.19\n",
       "0000f46a3911fa3c0805444483337064          542              1        86.22\n",
       "0000f6ccb0745a6a4b88665a16c9f078          326              1        43.62\n",
       "0004aac84e0df4da2b147fca70cf8255          293              1       196.89\n",
       "...                                       ...            ...          ...\n",
       "fffcf5a5ff07b0908bd4e2dbc735a684          452              1      2067.42\n",
       "fffea47cd6d3cc0a88bd621562a9d061          267              1        84.58\n",
       "ffff371b4d645b6ecea244b27531430a          573              1       112.46\n",
       "ffff5962728ec6157033ef9805bacc48          124              1       133.69\n",
       "ffffd2657e2aad2907e67c3e9daecbeb          489              1        71.56\n",
       "\n",
       "[95420 rows x 3 columns]"
      ]
     },
     "execution_count": 721,
     "metadata": {},
     "output_type": "execute_result"
    },
    {
     "data": {
      "application/javascript": [
       "\n",
       "            setTimeout(function() {\n",
       "                var nbb_cell_id = 721;\n",
       "                var nbb_unformatted_code = \"df_rfm\";\n",
       "                var nbb_formatted_code = \"df_rfm\";\n",
       "                var nbb_cells = Jupyter.notebook.get_cells();\n",
       "                for (var i = 0; i < nbb_cells.length; ++i) {\n",
       "                    if (nbb_cells[i].input_prompt_number == nbb_cell_id) {\n",
       "                        if (nbb_cells[i].get_text() == nbb_unformatted_code) {\n",
       "                             nbb_cells[i].set_text(nbb_formatted_code);\n",
       "                        }\n",
       "                        break;\n",
       "                    }\n",
       "                }\n",
       "            }, 500);\n",
       "            "
      ],
      "text/plain": [
       "<IPython.core.display.Javascript object>"
      ]
     },
     "metadata": {},
     "output_type": "display_data"
    }
   ],
   "source": [
    "df_rfm"
   ]
  },
  {
   "cell_type": "code",
   "execution_count": 722,
   "id": "be82d22a",
   "metadata": {},
   "outputs": [
    {
     "data": {
      "text/plain": [
       "1     0.969472\n",
       "2     0.028013\n",
       "3     0.002012\n",
       "4     0.000304\n",
       "5     0.000094\n",
       "6     0.000052\n",
       "7     0.000031\n",
       "9     0.000010\n",
       "16    0.000010\n",
       "Name: rfm_frequence, dtype: float64"
      ]
     },
     "execution_count": 722,
     "metadata": {},
     "output_type": "execute_result"
    },
    {
     "data": {
      "application/javascript": [
       "\n",
       "            setTimeout(function() {\n",
       "                var nbb_cell_id = 722;\n",
       "                var nbb_unformatted_code = \"df_rfm.rfm_frequence.value_counts(normalize=True)\";\n",
       "                var nbb_formatted_code = \"df_rfm.rfm_frequence.value_counts(normalize=True)\";\n",
       "                var nbb_cells = Jupyter.notebook.get_cells();\n",
       "                for (var i = 0; i < nbb_cells.length; ++i) {\n",
       "                    if (nbb_cells[i].input_prompt_number == nbb_cell_id) {\n",
       "                        if (nbb_cells[i].get_text() == nbb_unformatted_code) {\n",
       "                             nbb_cells[i].set_text(nbb_formatted_code);\n",
       "                        }\n",
       "                        break;\n",
       "                    }\n",
       "                }\n",
       "            }, 500);\n",
       "            "
      ],
      "text/plain": [
       "<IPython.core.display.Javascript object>"
      ]
     },
     "metadata": {},
     "output_type": "display_data"
    }
   ],
   "source": [
    "df_rfm.rfm_frequence.value_counts(normalize=True)"
   ]
  },
  {
   "cell_type": "code",
   "execution_count": 723,
   "id": "e6485045",
   "metadata": {},
   "outputs": [
    {
     "data": {
      "application/javascript": [
       "\n",
       "            setTimeout(function() {\n",
       "                var nbb_cell_id = 723;\n",
       "                var nbb_unformatted_code = \"# Export des donn\\u00e9es nettoy\\u00e9es sans pr\\u00e9-processing\\ndf_rfm.to_csv(\\\"OLIST_data_client_clean.csv\\\")\";\n",
       "                var nbb_formatted_code = \"# Export des donn\\u00e9es nettoy\\u00e9es sans pr\\u00e9-processing\\ndf_rfm.to_csv(\\\"OLIST_data_client_clean.csv\\\")\";\n",
       "                var nbb_cells = Jupyter.notebook.get_cells();\n",
       "                for (var i = 0; i < nbb_cells.length; ++i) {\n",
       "                    if (nbb_cells[i].input_prompt_number == nbb_cell_id) {\n",
       "                        if (nbb_cells[i].get_text() == nbb_unformatted_code) {\n",
       "                             nbb_cells[i].set_text(nbb_formatted_code);\n",
       "                        }\n",
       "                        break;\n",
       "                    }\n",
       "                }\n",
       "            }, 500);\n",
       "            "
      ],
      "text/plain": [
       "<IPython.core.display.Javascript object>"
      ]
     },
     "metadata": {},
     "output_type": "display_data"
    }
   ],
   "source": [
    "# Export des données nettoyées sans pré-processing\n",
    "df_rfm.to_csv(\"OLIST_data_client_clean.csv\")"
   ]
  }
 ],
 "metadata": {
  "kernelspec": {
   "display_name": "Python 3 (ipykernel)",
   "language": "python",
   "name": "python3"
  },
  "language_info": {
   "codemirror_mode": {
    "name": "ipython",
    "version": 3
   },
   "file_extension": ".py",
   "mimetype": "text/x-python",
   "name": "python",
   "nbconvert_exporter": "python",
   "pygments_lexer": "ipython3",
   "version": "3.9.12"
  }
 },
 "nbformat": 4,
 "nbformat_minor": 5
}
