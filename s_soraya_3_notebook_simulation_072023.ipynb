{
 "cells": [
  {
   "cell_type": "markdown",
   "id": "9f73c4e4",
   "metadata": {},
   "source": [
    "# Simulation : Analyse de la stabilité temporelle de la segmentation retenue"
   ]
  },
  {
   "cell_type": "code",
   "execution_count": 62,
   "id": "4b0846fe",
   "metadata": {},
   "outputs": [],
   "source": [
    "# Nous allons étudier la stabilité temporelle de la segmentation clients retenue dans le but d'établir un\n",
    "# contrat de maintenance.\n",
    "# Nous allons pour cela repartir du dataframe des commandes clients."
   ]
  },
  {
   "cell_type": "markdown",
   "id": "98e633e4",
   "metadata": {},
   "source": [
    "Ce notebook sera dédié au contrat de maintenance. L'objectif est de faire une recommandation de fréquence à laquelle la segmentation doit être mise à jour pour rester pertinente, afin de pouvoir effectuer un devis de contrat de maintenance. Il s'agit de préciser une période de maintenance au bout de la quelle, l'algorithme doit être ré-étudié vu qu'il commence à perdre ses performances suite aux changements du jeu de données d'entrée.\n",
    "\n",
    "\n",
    "-Pour prendre un exemple, supposons que l’entraînement du modèle initial M0 ait été réalisé à T0 pour un fichier clients F0, qui donne la liste des numéros de clusters C0, CO=M0.fit(F0).\n",
    "\n",
    "-À T1=T0 +n semaines, un nouveau modèle M1 est entraîné sur le nouveau fichier clients F1 à T1, et donne une nouvelle liste de clusters C1, C1_new = M1.fit(F1).\n",
    "\n",
    "-Si on utilise le modèle initial M0, à T1 la prédiction des numéros de clusters du fichier F1 des clients à T1 donne C1_init = M0.predict(F1).\n",
    "\n",
    "-Il s’agit de comparer les clusters à T1 du fichier F1, selon que l’on utilise le modèle initial créé à T0(M0) via un « predict », ou le modèle créé à T1 via un « fit ».\n",
    "\n",
    "Il est possible d’évaluer la cohérence entre les clusters de départ et le partitionnement trouvé par K-means en utilisant l’indice Ajusted_Rand_Score\n",
    "\n",
    "\n",
    "Nous commencerons notre simulation avec les données existantes à t=52 semaines avant la dernière comande ,nous recommencerons les simulations en ajoutant 1 semaine supplementaire, et ainsi de suite. Nous comparerons les numéros de clusters à T1 du fichier F1, selon que l’on utilise le modèle initial créé à T0(M0) via un « predict », ou le modèle créé à T1 via un « fit ».\n",
    "\n",
    "La standardisation pour le modèle M0 ne sera pas la même que pour le modèle Mi, donc quand on prédit avec M0 sur les données à T1, on utilise bien le standard scaler du modèle M0, et si on prédit avec M1, on utilise le standar scaler \n",
    "du modèle M1\n",
    "\n",
    "Les étapes de cette démarche consistent en:\n",
    "\n",
    "Le chargement du jeu de données nettoyé sur les commandes.\n",
    "La selection de données afin de considérer que les données entre une date d'entrée et une date de sortie.\n",
    "La standardisation des variables numériques: c'est une étape qui va se répéter à chaque itération.\n",
    "Le score ARI est calculé entre les valeurs prédites avec le modèle M0 (année 1) et les valeurs considérées réelles prédites à patir d'un nouveau modèle Mi."
   ]
  },
  {
   "cell_type": "markdown",
   "id": "d2fe5b07",
   "metadata": {},
   "source": [
    "# Importation"
   ]
  },
  {
   "cell_type": "code",
   "execution_count": 63,
   "id": "fff3ade8",
   "metadata": {},
   "outputs": [],
   "source": [
    "import pandas as pd\n",
    "import matplotlib.pyplot as plt\n",
    "import seaborn as sns\n",
    "import numpy as np\n",
    "import sklearn\n",
    "from sklearn.preprocessing import StandardScaler, MinMaxScaler\n",
    "from math import pi\n",
    "from sklearn.cluster import KMeans, AgglomerativeClustering, DBSCAN\n",
    "\n",
    "from sklearn.metrics.cluster import adjusted_rand_score\n",
    "\n",
    "from datetime import datetime\n",
    "import matplotlib.dates as mdates"
   ]
  },
  {
   "cell_type": "markdown",
   "id": "c90b7d8c",
   "metadata": {},
   "source": [
    "# chargement des données"
   ]
  },
  {
   "cell_type": "markdown",
   "id": "0da71073",
   "metadata": {},
   "source": [
    "Dans cette partie, nous allons utiliser le fichier commande créé dans le notebook 1 (exploration de données). il s'agira dans un premier temps de créer un fichier comprenant les commandes sélectionnées en fonction d'une période donnée."
   ]
  },
  {
   "cell_type": "code",
   "execution_count": 64,
   "id": "6b27ba81",
   "metadata": {},
   "outputs": [],
   "source": [
    "data_simulation = pd.read_csv('OLIST_data_commande0_clean.csv')"
   ]
  },
  {
   "cell_type": "code",
   "execution_count": 65,
   "id": "c84a4299",
   "metadata": {},
   "outputs": [],
   "source": [
    "data_simulation = data_simulation.drop(\"Unnamed: 0\", axis=1)"
   ]
  },
  {
   "cell_type": "code",
   "execution_count": 66,
   "id": "f15fe468",
   "metadata": {},
   "outputs": [
    {
     "data": {
      "text/html": [
       "<div>\n",
       "<style scoped>\n",
       "    .dataframe tbody tr th:only-of-type {\n",
       "        vertical-align: middle;\n",
       "    }\n",
       "\n",
       "    .dataframe tbody tr th {\n",
       "        vertical-align: top;\n",
       "    }\n",
       "\n",
       "    .dataframe thead th {\n",
       "        text-align: right;\n",
       "    }\n",
       "</style>\n",
       "<table border=\"1\" class=\"dataframe\">\n",
       "  <thead>\n",
       "    <tr style=\"text-align: right;\">\n",
       "      <th></th>\n",
       "      <th>order_id</th>\n",
       "      <th>montant_total</th>\n",
       "      <th>customer_id</th>\n",
       "      <th>customer_unique_id</th>\n",
       "      <th>order_purchase_timestamp</th>\n",
       "      <th>review_score</th>\n",
       "      <th>payment_sum_per_ord</th>\n",
       "      <th>payment_sequential</th>\n",
       "    </tr>\n",
       "  </thead>\n",
       "  <tbody>\n",
       "    <tr>\n",
       "      <th>0</th>\n",
       "      <td>00010242fe8c5a6d1ba2dd792cb16214</td>\n",
       "      <td>72.19</td>\n",
       "      <td>3ce436f183e68e07877b285a838db11a</td>\n",
       "      <td>871766c5855e863f6eccc05f988b23cb</td>\n",
       "      <td>2017-09-13 08:59:02</td>\n",
       "      <td>5.0</td>\n",
       "      <td>72.19</td>\n",
       "      <td>1.0</td>\n",
       "    </tr>\n",
       "    <tr>\n",
       "      <th>1</th>\n",
       "      <td>00018f77f2f0320c557190d7a144bdd3</td>\n",
       "      <td>259.83</td>\n",
       "      <td>f6dd3ec061db4e3987629fe6b26e5cce</td>\n",
       "      <td>eb28e67c4c0b83846050ddfb8a35d051</td>\n",
       "      <td>2017-04-26 10:53:06</td>\n",
       "      <td>4.0</td>\n",
       "      <td>259.83</td>\n",
       "      <td>1.0</td>\n",
       "    </tr>\n",
       "    <tr>\n",
       "      <th>2</th>\n",
       "      <td>000229ec398224ef6ca0657da4fc703e</td>\n",
       "      <td>216.87</td>\n",
       "      <td>6489ae5e4333f3693df5ad4372dab6d3</td>\n",
       "      <td>3818d81c6709e39d06b2738a8d3a2474</td>\n",
       "      <td>2018-01-14 14:33:31</td>\n",
       "      <td>5.0</td>\n",
       "      <td>216.87</td>\n",
       "      <td>1.0</td>\n",
       "    </tr>\n",
       "    <tr>\n",
       "      <th>3</th>\n",
       "      <td>00024acbcdf0a6daa1e931b038114c75</td>\n",
       "      <td>25.78</td>\n",
       "      <td>d4eb9395c8c0431ee92fce09860c5a06</td>\n",
       "      <td>af861d436cfc08b2c2ddefd0ba074622</td>\n",
       "      <td>2018-08-08 10:00:35</td>\n",
       "      <td>4.0</td>\n",
       "      <td>25.78</td>\n",
       "      <td>1.0</td>\n",
       "    </tr>\n",
       "    <tr>\n",
       "      <th>4</th>\n",
       "      <td>00042b26cf59d7ce69dfabb4e55b4fd9</td>\n",
       "      <td>218.04</td>\n",
       "      <td>58dbd0b2d70206bf40e62cd34e84d795</td>\n",
       "      <td>64b576fb70d441e8f1b2d7d446e483c5</td>\n",
       "      <td>2017-02-04 13:57:51</td>\n",
       "      <td>5.0</td>\n",
       "      <td>218.04</td>\n",
       "      <td>1.0</td>\n",
       "    </tr>\n",
       "    <tr>\n",
       "      <th>...</th>\n",
       "      <td>...</td>\n",
       "      <td>...</td>\n",
       "      <td>...</td>\n",
       "      <td>...</td>\n",
       "      <td>...</td>\n",
       "      <td>...</td>\n",
       "      <td>...</td>\n",
       "      <td>...</td>\n",
       "    </tr>\n",
       "    <tr>\n",
       "      <th>98661</th>\n",
       "      <td>fffc94f6ce00a00581880bf54a75a037</td>\n",
       "      <td>343.40</td>\n",
       "      <td>b51593916b4b8e0d6f66f2ae24f2673d</td>\n",
       "      <td>0c9aeda10a71f369396d0c04dce13a64</td>\n",
       "      <td>2018-04-23 13:57:06</td>\n",
       "      <td>5.0</td>\n",
       "      <td>343.40</td>\n",
       "      <td>1.0</td>\n",
       "    </tr>\n",
       "    <tr>\n",
       "      <th>98662</th>\n",
       "      <td>fffcd46ef2263f404302a634eb57f7eb</td>\n",
       "      <td>386.53</td>\n",
       "      <td>84c5d4fbaf120aae381fad077416eaa0</td>\n",
       "      <td>0da9fe112eae0c74d3ba1fe16de0988b</td>\n",
       "      <td>2018-07-14 10:26:46</td>\n",
       "      <td>5.0</td>\n",
       "      <td>386.53</td>\n",
       "      <td>1.0</td>\n",
       "    </tr>\n",
       "    <tr>\n",
       "      <th>98663</th>\n",
       "      <td>fffce4705a9662cd70adb13d4a31832d</td>\n",
       "      <td>116.85</td>\n",
       "      <td>29309aa813182aaddc9b259e31b870e6</td>\n",
       "      <td>cd79b407828f02fdbba457111c38e4c4</td>\n",
       "      <td>2017-10-23 17:07:56</td>\n",
       "      <td>5.0</td>\n",
       "      <td>116.85</td>\n",
       "      <td>1.0</td>\n",
       "    </tr>\n",
       "    <tr>\n",
       "      <th>98664</th>\n",
       "      <td>fffe18544ffabc95dfada21779c9644f</td>\n",
       "      <td>64.71</td>\n",
       "      <td>b5e6afd5a41800fdf401e0272ca74655</td>\n",
       "      <td>eb803377c9315b564bdedad672039306</td>\n",
       "      <td>2017-08-14 23:02:59</td>\n",
       "      <td>5.0</td>\n",
       "      <td>64.71</td>\n",
       "      <td>1.0</td>\n",
       "    </tr>\n",
       "    <tr>\n",
       "      <th>98665</th>\n",
       "      <td>fffe41c64501cc87c801fd61db3f6244</td>\n",
       "      <td>55.79</td>\n",
       "      <td>96d649da0cc4ff33bb408b199d4c7dcf</td>\n",
       "      <td>cd76a00d8e3ca5e6ab9ed9ecb6667ac4</td>\n",
       "      <td>2018-06-09 17:00:18</td>\n",
       "      <td>5.0</td>\n",
       "      <td>55.79</td>\n",
       "      <td>1.0</td>\n",
       "    </tr>\n",
       "  </tbody>\n",
       "</table>\n",
       "<p>98666 rows × 8 columns</p>\n",
       "</div>"
      ],
      "text/plain": [
       "                               order_id  montant_total  \\\n",
       "0      00010242fe8c5a6d1ba2dd792cb16214          72.19   \n",
       "1      00018f77f2f0320c557190d7a144bdd3         259.83   \n",
       "2      000229ec398224ef6ca0657da4fc703e         216.87   \n",
       "3      00024acbcdf0a6daa1e931b038114c75          25.78   \n",
       "4      00042b26cf59d7ce69dfabb4e55b4fd9         218.04   \n",
       "...                                 ...            ...   \n",
       "98661  fffc94f6ce00a00581880bf54a75a037         343.40   \n",
       "98662  fffcd46ef2263f404302a634eb57f7eb         386.53   \n",
       "98663  fffce4705a9662cd70adb13d4a31832d         116.85   \n",
       "98664  fffe18544ffabc95dfada21779c9644f          64.71   \n",
       "98665  fffe41c64501cc87c801fd61db3f6244          55.79   \n",
       "\n",
       "                            customer_id                customer_unique_id  \\\n",
       "0      3ce436f183e68e07877b285a838db11a  871766c5855e863f6eccc05f988b23cb   \n",
       "1      f6dd3ec061db4e3987629fe6b26e5cce  eb28e67c4c0b83846050ddfb8a35d051   \n",
       "2      6489ae5e4333f3693df5ad4372dab6d3  3818d81c6709e39d06b2738a8d3a2474   \n",
       "3      d4eb9395c8c0431ee92fce09860c5a06  af861d436cfc08b2c2ddefd0ba074622   \n",
       "4      58dbd0b2d70206bf40e62cd34e84d795  64b576fb70d441e8f1b2d7d446e483c5   \n",
       "...                                 ...                               ...   \n",
       "98661  b51593916b4b8e0d6f66f2ae24f2673d  0c9aeda10a71f369396d0c04dce13a64   \n",
       "98662  84c5d4fbaf120aae381fad077416eaa0  0da9fe112eae0c74d3ba1fe16de0988b   \n",
       "98663  29309aa813182aaddc9b259e31b870e6  cd79b407828f02fdbba457111c38e4c4   \n",
       "98664  b5e6afd5a41800fdf401e0272ca74655  eb803377c9315b564bdedad672039306   \n",
       "98665  96d649da0cc4ff33bb408b199d4c7dcf  cd76a00d8e3ca5e6ab9ed9ecb6667ac4   \n",
       "\n",
       "      order_purchase_timestamp  review_score  payment_sum_per_ord  \\\n",
       "0          2017-09-13 08:59:02           5.0                72.19   \n",
       "1          2017-04-26 10:53:06           4.0               259.83   \n",
       "2          2018-01-14 14:33:31           5.0               216.87   \n",
       "3          2018-08-08 10:00:35           4.0                25.78   \n",
       "4          2017-02-04 13:57:51           5.0               218.04   \n",
       "...                        ...           ...                  ...   \n",
       "98661      2018-04-23 13:57:06           5.0               343.40   \n",
       "98662      2018-07-14 10:26:46           5.0               386.53   \n",
       "98663      2017-10-23 17:07:56           5.0               116.85   \n",
       "98664      2017-08-14 23:02:59           5.0                64.71   \n",
       "98665      2018-06-09 17:00:18           5.0                55.79   \n",
       "\n",
       "       payment_sequential  \n",
       "0                     1.0  \n",
       "1                     1.0  \n",
       "2                     1.0  \n",
       "3                     1.0  \n",
       "4                     1.0  \n",
       "...                   ...  \n",
       "98661                 1.0  \n",
       "98662                 1.0  \n",
       "98663                 1.0  \n",
       "98664                 1.0  \n",
       "98665                 1.0  \n",
       "\n",
       "[98666 rows x 8 columns]"
      ]
     },
     "execution_count": 66,
     "metadata": {},
     "output_type": "execute_result"
    }
   ],
   "source": [
    "data_simulation"
   ]
  },
  {
   "cell_type": "markdown",
   "id": "e5d0bd9a",
   "metadata": {},
   "source": [
    "# Création des variables pour la segmentation RFM"
   ]
  },
  {
   "cell_type": "code",
   "execution_count": 67,
   "id": "1d74bbcc",
   "metadata": {},
   "outputs": [
    {
     "data": {
      "text/plain": [
       "\"Période d'achat : du 04/09/2016 21:15 au 03/09/2018 09:06\""
      ]
     },
     "execution_count": 67,
     "metadata": {},
     "output_type": "execute_result"
    }
   ],
   "source": [
    "from datetime import datetime\n",
    "\n",
    "# Conversion des chaînes de caractères en objets datetime\n",
    "data_simulation['order_purchase_timestamp'] = pd.to_datetime(\n",
    "    data_simulation['order_purchase_timestamp']\n",
    ")\n",
    "# Période de commande (dernier achat)\n",
    "min_date = data_simulation['order_purchase_timestamp'].min().strftime(\n",
    "    '%d/%m/%Y %H:%M')\n",
    "\n",
    "max_date = data_simulation['order_purchase_timestamp'].max().strftime(\n",
    "    '%d/%m/%Y %H:%M')\n",
    "f\"Période d'achat : du {min_date} au {max_date}\""
   ]
  },
  {
   "cell_type": "code",
   "execution_count": 68,
   "id": "641d1910",
   "metadata": {},
   "outputs": [
    {
     "data": {
      "text/plain": [
       "(\"La période d'achat est de\", 104, 'semaines')"
      ]
     },
     "execution_count": 68,
     "metadata": {},
     "output_type": "execute_result"
    }
   ],
   "source": [
    "# La période de commande en semaines\n",
    "orders_weeks = round(\n",
    "    (data_simulation['order_purchase_timestamp'].max() -\n",
    "     data_simulation['order_purchase_timestamp'].min()).days / 7\n",
    ")\n",
    "\n",
    "\"La période d'achat est de\", orders_weeks, \"semaines\""
   ]
  },
  {
   "cell_type": "code",
   "execution_count": 69,
   "id": "6774308b",
   "metadata": {},
   "outputs": [
    {
     "data": {
      "text/plain": [
       "'Data de référence pour la récence : 04/09/2018 09h06'"
      ]
     },
     "execution_count": 69,
     "metadata": {},
     "output_type": "execute_result"
    }
   ],
   "source": [
    "import datetime as dt\n",
    "date_ref = data_simulation['order_purchase_timestamp'].max() + \\\n",
    "    dt.timedelta(days=1)\n",
    "s_dateref = date_ref.strftime('%d/%m/%Y %Hh%M')\n",
    "f'Data de référence pour la récence : {s_dateref}'"
   ]
  },
  {
   "cell_type": "code",
   "execution_count": 70,
   "id": "a207390e",
   "metadata": {},
   "outputs": [
    {
     "name": "stdout",
     "output_type": "stream",
     "text": [
      "T0 (1 an avant la date de référence) :  2017-09-04 09:06:00\n",
      "Date finale :  2018-09-03 09:06:00\n",
      "Fréquence de temps :  7D\n"
     ]
    }
   ],
   "source": [
    "# Convertir s_dateref en objet datetime\n",
    "s_dateref_dt = pd.to_datetime(s_dateref, format='%d/%m/%Y %Hh%M')\n",
    "\n",
    "# Définir T0 comme étant 1 an avant la date de référence\n",
    "T0 = s_dateref_dt - pd.DateOffset(years=1)\n",
    "\n",
    "# Convertir 'max_date' en objet datetime\n",
    "max_date = pd.to_datetime(max_date, format='%d/%m/%Y %H:%M')\n",
    "\n",
    "# Définir Tfinal comme étant la date de la dernière comande\n",
    "T_final = max_date\n",
    "\n",
    "# Définir une fréquence de temps correspondant à une période de 7 jours\n",
    "dt = '7D'\n",
    "\n",
    "print(\"T0 (1 an avant la date de référence) : \", T0)\n",
    "print(\"Date finale : \", T_final)\n",
    "print(\"Fréquence de temps : \", dt)"
   ]
  },
  {
   "cell_type": "code",
   "execution_count": 71,
   "id": "a0bbe850",
   "metadata": {},
   "outputs": [],
   "source": [
    "# l'ensemble des périodes à étudier\n",
    "dates = pd.date_range(T0, T_final, freq=dt)"
   ]
  },
  {
   "cell_type": "code",
   "execution_count": 72,
   "id": "3a27af27",
   "metadata": {},
   "outputs": [
    {
     "data": {
      "text/plain": [
       "DatetimeIndex(['2017-09-04 09:06:00', '2017-09-11 09:06:00',\n",
       "               '2017-09-18 09:06:00', '2017-09-25 09:06:00',\n",
       "               '2017-10-02 09:06:00', '2017-10-09 09:06:00',\n",
       "               '2017-10-16 09:06:00', '2017-10-23 09:06:00',\n",
       "               '2017-10-30 09:06:00', '2017-11-06 09:06:00',\n",
       "               '2017-11-13 09:06:00', '2017-11-20 09:06:00',\n",
       "               '2017-11-27 09:06:00', '2017-12-04 09:06:00',\n",
       "               '2017-12-11 09:06:00', '2017-12-18 09:06:00',\n",
       "               '2017-12-25 09:06:00', '2018-01-01 09:06:00',\n",
       "               '2018-01-08 09:06:00', '2018-01-15 09:06:00',\n",
       "               '2018-01-22 09:06:00', '2018-01-29 09:06:00',\n",
       "               '2018-02-05 09:06:00', '2018-02-12 09:06:00',\n",
       "               '2018-02-19 09:06:00', '2018-02-26 09:06:00',\n",
       "               '2018-03-05 09:06:00', '2018-03-12 09:06:00',\n",
       "               '2018-03-19 09:06:00', '2018-03-26 09:06:00',\n",
       "               '2018-04-02 09:06:00', '2018-04-09 09:06:00',\n",
       "               '2018-04-16 09:06:00', '2018-04-23 09:06:00',\n",
       "               '2018-04-30 09:06:00', '2018-05-07 09:06:00',\n",
       "               '2018-05-14 09:06:00', '2018-05-21 09:06:00',\n",
       "               '2018-05-28 09:06:00', '2018-06-04 09:06:00',\n",
       "               '2018-06-11 09:06:00', '2018-06-18 09:06:00',\n",
       "               '2018-06-25 09:06:00', '2018-07-02 09:06:00',\n",
       "               '2018-07-09 09:06:00', '2018-07-16 09:06:00',\n",
       "               '2018-07-23 09:06:00', '2018-07-30 09:06:00',\n",
       "               '2018-08-06 09:06:00', '2018-08-13 09:06:00',\n",
       "               '2018-08-20 09:06:00', '2018-08-27 09:06:00',\n",
       "               '2018-09-03 09:06:00'],\n",
       "              dtype='datetime64[ns]', freq='7D')"
      ]
     },
     "execution_count": 72,
     "metadata": {},
     "output_type": "execute_result"
    }
   ],
   "source": [
    "dates"
   ]
  },
  {
   "cell_type": "code",
   "execution_count": 77,
   "id": "1aa27e22",
   "metadata": {},
   "outputs": [],
   "source": [
    "from datetime import timedelta\n",
    "import pandas as pd\n",
    "\n",
    "def transformer(df, dates):\n",
    "    # Convertir la colonne 'order_purchase_timestamp' en type datetime\n",
    "    df['order_purchase_timestamp'] = pd.to_datetime(df['order_purchase_timestamp'])\n",
    "    \n",
    "    # Filtrer les données pour ne conserver que celles antérieures à la date spécifiée\n",
    "    df_t = df.loc[df['order_purchase_timestamp'] <= dates].copy()\n",
    "    \n",
    "    # Calculer la date de référence en ajoutant un jour à la date maximale de 'order_purchase_timestamp'\n",
    "    ref = df_t['order_purchase_timestamp'].max() + timedelta(days=1)\n",
    "    \n",
    "    # Convertir la date de référence en format spécifique\n",
    "    ref = pd.to_datetime(ref.strftime('%d/%m/%Y %Hh%M'), format='%d/%m/%Y %Hh%M')\n",
    "    \n",
    "    # Calculer le nombre de jours depuis la commande pour chaque entrée\n",
    "    df_t['DaysSinceOrder'] = df_t['order_purchase_timestamp'].apply(lambda x: (ref - x).days)\n",
    "    \n",
    "    # Agréger les données par 'customer_unique_id'\n",
    "    aggs = {\n",
    "        'DaysSinceOrder': lambda x: min(x),\n",
    "        'order_id': 'count',\n",
    "        'montant_total': 'sum'\n",
    "    }\n",
    "    rfm = df_t.groupby('customer_unique_id').agg(aggs)\n",
    "    \n",
    "    # Renommer les colonnes pour correspondre à la notation RFM\n",
    "    rfm.rename(columns={\n",
    "        'DaysSinceOrder': 'recency',\n",
    "        'order_id': 'frequency',\n",
    "        'montant_total': 'monetary'\n",
    "    }, inplace=True)\n",
    "    \n",
    "    return rfm\n"
   ]
  },
  {
   "cell_type": "code",
   "execution_count": 80,
   "id": "394122b9",
   "metadata": {},
   "outputs": [
    {
     "data": {
      "text/plain": [
       "KMeans(n_clusters=4, n_init=2)"
      ]
     },
     "execution_count": 80,
     "metadata": {},
     "output_type": "execute_result"
    }
   ],
   "source": [
    "import datetime\n",
    "\n",
    "from sklearn.metrics import adjusted_rand_score, accuracy_score\n",
    "from sklearn.pipeline import make_pipeline\n",
    "\n",
    "# Appliquer la fonction transformer sur \"RFM_simulation\" avec la date \"T0\"\n",
    "F0 = transformer(data_simulation, T0)\n",
    "\n",
    "# Créer le modèle K-means initial\n",
    "M0 = KMeans(n_clusters=4, n_init=2, init=\"k-means++\")\n",
    "\n",
    "# Normaliser F0:\n",
    "scaler_F0 = StandardScaler().fit(F0)\n",
    "F0_scaled = scaler_F0.transform(F0)\n",
    "\n",
    "# Application du M0 sur F0\n",
    "M0.fit(F0_scaled)"
   ]
  },
  {
   "cell_type": "code",
   "execution_count": 81,
   "id": "6fbe5cf3",
   "metadata": {},
   "outputs": [
    {
     "data": {
      "text/plain": [
       "StandardScaler()"
      ]
     },
     "execution_count": 81,
     "metadata": {},
     "output_type": "execute_result"
    }
   ],
   "source": [
    "scaler_F0"
   ]
  },
  {
   "cell_type": "code",
   "execution_count": 82,
   "id": "c7c6e741",
   "metadata": {},
   "outputs": [],
   "source": [
    "# Initialiser les listes pour les scores ARI et accuracy\n",
    "ari_scores = []\n",
    "accuracy_scores = []\n",
    "# Boucle pour calculer les scores ARI et accuracy pour chaque date dans \"dates\"\n",
    "for Ti in dates:\n",
    "    Fi = transformer(data_simulation, Ti) \n",
    "    Mi =KMeans(n_clusters=4, n_init=2, init=\"k-means++\")\n",
    "    # Normaliser Fi:\n",
    "    scaler_Fi=StandardScaler().fit(Fi)\n",
    "    Fi_scaled = scaler_Fi.transform(Fi)\n",
    "    # Application du Mi sur Fi\n",
    "    Mi.fit(Fi_scaled)\n",
    "    # Normaliser Fi avec scaler_F0 :\n",
    "    Fi_scaler_F0 = scaler_F0.transform(Fi)\n",
    "    ari_scores += [adjusted_rand_score(M0.predict(Fi_scaler_F0), Mi.labels_)]\n",
    "    accuracy_scores += [accuracy_score(M0.predict(Fi_scaler_F0), Mi.labels_)]"
   ]
  },
  {
   "cell_type": "code",
   "execution_count": 83,
   "id": "484e27b8",
   "metadata": {},
   "outputs": [
    {
     "data": {
      "text/plain": [
       "[0.99949716633763,\n",
       " 0.9707759741504575,\n",
       " 0.9713048625161094,\n",
       " 0.8955305446520385,\n",
       " 0.8665510750130815,\n",
       " 0.8357347253477498,\n",
       " 0.8223354676027484,\n",
       " 0.8094329895389992,\n",
       " 0.7572267334579103,\n",
       " 0.703234493393651,\n",
       " 0.6589685238372504,\n",
       " 0.6285091359158345,\n",
       " 0.6602802833593224,\n",
       " 0.6724134828309699,\n",
       " 0.6621731850777257,\n",
       " 0.6382465435967678,\n",
       " 0.6108023280205802,\n",
       " 0.586233618273995,\n",
       " 0.5614821211750783,\n",
       " 0.5563235955356224,\n",
       " 0.5517134575154015,\n",
       " 0.5371373452523339,\n",
       " 0.5291332955797666,\n",
       " 0.5135101930697469,\n",
       " 0.4953285224793053,\n",
       " 0.49092843360340893,\n",
       " 0.4775544227401654,\n",
       " 0.4593413482319794,\n",
       " 0.3802852664248539,\n",
       " 0.35205451516962655,\n",
       " 0.3249204252833767,\n",
       " 0.3110827470758213,\n",
       " 0.3053118406772435,\n",
       " 0.3076742624456457,\n",
       " 0.29473402561186496,\n",
       " 0.279200310497473,\n",
       " 0.2618000425444047,\n",
       " 0.25324481424676887,\n",
       " 0.23441613909758588,\n",
       " 0.21923331092957593,\n",
       " 0.21162906490653022,\n",
       " 0.19838085626011825,\n",
       " 0.18535254807135887,\n",
       " 0.1744127010902611,\n",
       " 0.16356158054638595,\n",
       " 0.15155379676085382,\n",
       " 0.1474597547901225,\n",
       " 0.14509461765231077,\n",
       " 0.14657885792130845,\n",
       " 0.14616668650406323,\n",
       " 0.21381558673150527,\n",
       " 0.2041703849066947,\n",
       " 0.20059325137412756]"
      ]
     },
     "execution_count": 83,
     "metadata": {},
     "output_type": "execute_result"
    }
   ],
   "source": [
    "ari_scores"
   ]
  },
  {
   "cell_type": "code",
   "execution_count": 84,
   "id": "698da1a9",
   "metadata": {},
   "outputs": [],
   "source": [
    "df_scores1 = pd.DataFrame({\n",
    "    'DATE': dates,\n",
    "    'PERIOD': [str(x) for x in range(len(dates))],\n",
    "    'ARI': ari_scores\n",
    "})\n"
   ]
  },
  {
   "cell_type": "code",
   "execution_count": 85,
   "id": "8d65ac3d",
   "metadata": {},
   "outputs": [],
   "source": [
    " df_scores1 = pd.DataFrame({'DATE' : [date.date() for date in dates],\n",
    "                          'PERIOD' : [str(x) for x in range(len(dates))],\n",
    "                          'ARI' : ari_scores\n",
    "                         })"
   ]
  },
  {
   "cell_type": "code",
   "execution_count": 86,
   "id": "f95f993d",
   "metadata": {},
   "outputs": [
    {
     "data": {
      "image/png": "[encoded data removed]",
      "text/plain": [
       "<Figure size 1296x432 with 1 Axes>"
      ]
     },
     "metadata": {
      "needs_background": "light"
     },
     "output_type": "display_data"
    }
   ],
   "source": [
    "plt.figure(figsize=(18,6))\n",
    "sns.set_theme(palette='bright', style='whitegrid')\n",
    "sns.lineplot(data = df_scores1, x = 'PERIOD', y = 'ARI')\n",
    "plt.xlabel('Période en semaine')\n",
    "plt.title(f'Evolution du score ARI de {df_scores1.DATE[0]} à {df_scores1.DATE[df_scores1.shape[0]-1]}', c='k', fontsize=20)\n",
    "plt.show()"
   ]
  },
  {
   "cell_type": "markdown",
   "id": "511c3c29",
   "metadata": {},
   "source": [
    "Sur ce plot des scores ARI obtenus, on remarque une forte inflexion après 7 semaines sur les clients initiaux.\n",
    "\n",
    "Il faudra donc prévoir la maintenance du programme de segmentation toutes les 7 semaines."
   ]
  }
 ],
 "metadata": {
  "kernelspec": {
   "display_name": "Python 3 (ipykernel)",
   "language": "python",
   "name": "python3"
  },
  "language_info": {
   "codemirror_mode": {
    "name": "ipython",
    "version": 3
   },
   "file_extension": ".py",
   "mimetype": "text/x-python",
   "name": "python",
   "nbconvert_exporter": "python",
   "pygments_lexer": "ipython3",
   "version": "3.9.12"
  }
 },
 "nbformat": 4,
 "nbformat_minor": 5
}
